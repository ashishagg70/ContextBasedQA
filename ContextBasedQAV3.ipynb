{
  "nbformat": 4,
  "nbformat_minor": 0,
  "metadata": {
    "accelerator": "GPU",
    "colab": {
      "name": "ContextBasedQAV3.ipynb",
      "provenance": [],
      "collapsed_sections": [],
      "machine_shape": "hm",
      "include_colab_link": true
    },
    "kernelspec": {
      "display_name": "Python 3",
      "name": "python3"
    },
    "language_info": {
      "name": "python"
    },
    "widgets": {
      "application/vnd.jupyter.widget-state+json": {
        "d5ebf8325fc8492eb3f43d6a563d1496": {
          "model_module": "@jupyter-widgets/controls",
          "model_name": "HBoxModel",
          "state": {
            "_dom_classes": [],
            "_model_module": "@jupyter-widgets/controls",
            "_model_module_version": "1.5.0",
            "_model_name": "HBoxModel",
            "_view_count": null,
            "_view_module": "@jupyter-widgets/controls",
            "_view_module_version": "1.5.0",
            "_view_name": "HBoxView",
            "box_style": "",
            "children": [
              "IPY_MODEL_61bf6d4d38334687839e7f3da2165380",
              "IPY_MODEL_263d8267621a402e8418944f99fa918c"
            ],
            "layout": "IPY_MODEL_bc23148078b2491880929f41f501d046"
          }
        },
        "61bf6d4d38334687839e7f3da2165380": {
          "model_module": "@jupyter-widgets/controls",
          "model_name": "FloatProgressModel",
          "state": {
            "_dom_classes": [],
            "_model_module": "@jupyter-widgets/controls",
            "_model_module_version": "1.5.0",
            "_model_name": "FloatProgressModel",
            "_view_count": null,
            "_view_module": "@jupyter-widgets/controls",
            "_view_module_version": "1.5.0",
            "_view_name": "ProgressView",
            "bar_style": "success",
            "description": "100%",
            "description_tooltip": null,
            "layout": "IPY_MODEL_2f78574d34944bc493a7a8fd8a320ce8",
            "max": 331,
            "min": 0,
            "orientation": "horizontal",
            "style": "IPY_MODEL_435dd22ce7644696ae85b4da5b7b4a04",
            "value": 331
          }
        },
        "263d8267621a402e8418944f99fa918c": {
          "model_module": "@jupyter-widgets/controls",
          "model_name": "HTMLModel",
          "state": {
            "_dom_classes": [],
            "_model_module": "@jupyter-widgets/controls",
            "_model_module_version": "1.5.0",
            "_model_name": "HTMLModel",
            "_view_count": null,
            "_view_module": "@jupyter-widgets/controls",
            "_view_module_version": "1.5.0",
            "_view_name": "HTMLView",
            "description": "",
            "description_tooltip": null,
            "layout": "IPY_MODEL_6b9c0115def94842880904ec98d2ea08",
            "placeholder": "​",
            "style": "IPY_MODEL_94e3139d0a4a45d69ddd0f4eb6d76bb5",
            "value": " 331/331 [09:19&lt;00:00,  1.69s/it]"
          }
        },
        "bc23148078b2491880929f41f501d046": {
          "model_module": "@jupyter-widgets/base",
          "model_name": "LayoutModel",
          "state": {
            "_model_module": "@jupyter-widgets/base",
            "_model_module_version": "1.2.0",
            "_model_name": "LayoutModel",
            "_view_count": null,
            "_view_module": "@jupyter-widgets/base",
            "_view_module_version": "1.2.0",
            "_view_name": "LayoutView",
            "align_content": null,
            "align_items": null,
            "align_self": null,
            "border": null,
            "bottom": null,
            "display": null,
            "flex": null,
            "flex_flow": null,
            "grid_area": null,
            "grid_auto_columns": null,
            "grid_auto_flow": null,
            "grid_auto_rows": null,
            "grid_column": null,
            "grid_gap": null,
            "grid_row": null,
            "grid_template_areas": null,
            "grid_template_columns": null,
            "grid_template_rows": null,
            "height": null,
            "justify_content": null,
            "justify_items": null,
            "left": null,
            "margin": null,
            "max_height": null,
            "max_width": null,
            "min_height": null,
            "min_width": null,
            "object_fit": null,
            "object_position": null,
            "order": null,
            "overflow": null,
            "overflow_x": null,
            "overflow_y": null,
            "padding": null,
            "right": null,
            "top": null,
            "visibility": null,
            "width": null
          }
        },
        "2f78574d34944bc493a7a8fd8a320ce8": {
          "model_module": "@jupyter-widgets/base",
          "model_name": "LayoutModel",
          "state": {
            "_model_module": "@jupyter-widgets/base",
            "_model_module_version": "1.2.0",
            "_model_name": "LayoutModel",
            "_view_count": null,
            "_view_module": "@jupyter-widgets/base",
            "_view_module_version": "1.2.0",
            "_view_name": "LayoutView",
            "align_content": null,
            "align_items": null,
            "align_self": null,
            "border": null,
            "bottom": null,
            "display": null,
            "flex": null,
            "flex_flow": null,
            "grid_area": null,
            "grid_auto_columns": null,
            "grid_auto_flow": null,
            "grid_auto_rows": null,
            "grid_column": null,
            "grid_gap": null,
            "grid_row": null,
            "grid_template_areas": null,
            "grid_template_columns": null,
            "grid_template_rows": null,
            "height": null,
            "justify_content": null,
            "justify_items": null,
            "left": null,
            "margin": null,
            "max_height": null,
            "max_width": null,
            "min_height": null,
            "min_width": null,
            "object_fit": null,
            "object_position": null,
            "order": null,
            "overflow": null,
            "overflow_x": null,
            "overflow_y": null,
            "padding": null,
            "right": null,
            "top": null,
            "visibility": null,
            "width": null
          }
        },
        "435dd22ce7644696ae85b4da5b7b4a04": {
          "model_module": "@jupyter-widgets/controls",
          "model_name": "ProgressStyleModel",
          "state": {
            "_model_module": "@jupyter-widgets/controls",
            "_model_module_version": "1.5.0",
            "_model_name": "ProgressStyleModel",
            "_view_count": null,
            "_view_module": "@jupyter-widgets/base",
            "_view_module_version": "1.2.0",
            "_view_name": "StyleView",
            "bar_color": null,
            "description_width": "initial"
          }
        },
        "6b9c0115def94842880904ec98d2ea08": {
          "model_module": "@jupyter-widgets/base",
          "model_name": "LayoutModel",
          "state": {
            "_model_module": "@jupyter-widgets/base",
            "_model_module_version": "1.2.0",
            "_model_name": "LayoutModel",
            "_view_count": null,
            "_view_module": "@jupyter-widgets/base",
            "_view_module_version": "1.2.0",
            "_view_name": "LayoutView",
            "align_content": null,
            "align_items": null,
            "align_self": null,
            "border": null,
            "bottom": null,
            "display": null,
            "flex": null,
            "flex_flow": null,
            "grid_area": null,
            "grid_auto_columns": null,
            "grid_auto_flow": null,
            "grid_auto_rows": null,
            "grid_column": null,
            "grid_gap": null,
            "grid_row": null,
            "grid_template_areas": null,
            "grid_template_columns": null,
            "grid_template_rows": null,
            "height": null,
            "justify_content": null,
            "justify_items": null,
            "left": null,
            "margin": null,
            "max_height": null,
            "max_width": null,
            "min_height": null,
            "min_width": null,
            "object_fit": null,
            "object_position": null,
            "order": null,
            "overflow": null,
            "overflow_x": null,
            "overflow_y": null,
            "padding": null,
            "right": null,
            "top": null,
            "visibility": null,
            "width": null
          }
        },
        "94e3139d0a4a45d69ddd0f4eb6d76bb5": {
          "model_module": "@jupyter-widgets/controls",
          "model_name": "DescriptionStyleModel",
          "state": {
            "_model_module": "@jupyter-widgets/controls",
            "_model_module_version": "1.5.0",
            "_model_name": "DescriptionStyleModel",
            "_view_count": null,
            "_view_module": "@jupyter-widgets/base",
            "_view_module_version": "1.2.0",
            "_view_name": "StyleView",
            "description_width": ""
          }
        },
        "6f36344a96ef4bd99020218560ffd1d4": {
          "model_module": "@jupyter-widgets/controls",
          "model_name": "HBoxModel",
          "state": {
            "_dom_classes": [],
            "_model_module": "@jupyter-widgets/controls",
            "_model_module_version": "1.5.0",
            "_model_name": "HBoxModel",
            "_view_count": null,
            "_view_module": "@jupyter-widgets/controls",
            "_view_module_version": "1.5.0",
            "_view_name": "HBoxView",
            "box_style": "",
            "children": [
              "IPY_MODEL_d72f25781861468da65da4b1bc2b9379",
              "IPY_MODEL_ba522d521c694a4f8459832b30de295e"
            ],
            "layout": "IPY_MODEL_2694408e44c84bfda372944daffedb67"
          }
        },
        "d72f25781861468da65da4b1bc2b9379": {
          "model_module": "@jupyter-widgets/controls",
          "model_name": "FloatProgressModel",
          "state": {
            "_dom_classes": [],
            "_model_module": "@jupyter-widgets/controls",
            "_model_module_version": "1.5.0",
            "_model_name": "FloatProgressModel",
            "_view_count": null,
            "_view_module": "@jupyter-widgets/controls",
            "_view_module_version": "1.5.0",
            "_view_name": "ProgressView",
            "bar_style": "danger",
            "description": "  8%",
            "description_tooltip": null,
            "layout": "IPY_MODEL_de0de49302084021a47b0e12d38f8d9e",
            "max": 2738,
            "min": 0,
            "orientation": "horizontal",
            "style": "IPY_MODEL_bcea111b4c9241428f302518d7b9b7e9",
            "value": 212
          }
        },
        "ba522d521c694a4f8459832b30de295e": {
          "model_module": "@jupyter-widgets/controls",
          "model_name": "HTMLModel",
          "state": {
            "_dom_classes": [],
            "_model_module": "@jupyter-widgets/controls",
            "_model_module_version": "1.5.0",
            "_model_name": "HTMLModel",
            "_view_count": null,
            "_view_module": "@jupyter-widgets/controls",
            "_view_module_version": "1.5.0",
            "_view_name": "HTMLView",
            "description": "",
            "description_tooltip": null,
            "layout": "IPY_MODEL_1e57612e928d4309960667202a5c41ec",
            "placeholder": "​",
            "style": "IPY_MODEL_ae9fbbbb9c734c88b4be4d984c876b70",
            "value": " 212/2738 [01:05&lt;13:17,  3.17it/s]"
          }
        },
        "2694408e44c84bfda372944daffedb67": {
          "model_module": "@jupyter-widgets/base",
          "model_name": "LayoutModel",
          "state": {
            "_model_module": "@jupyter-widgets/base",
            "_model_module_version": "1.2.0",
            "_model_name": "LayoutModel",
            "_view_count": null,
            "_view_module": "@jupyter-widgets/base",
            "_view_module_version": "1.2.0",
            "_view_name": "LayoutView",
            "align_content": null,
            "align_items": null,
            "align_self": null,
            "border": null,
            "bottom": null,
            "display": null,
            "flex": null,
            "flex_flow": null,
            "grid_area": null,
            "grid_auto_columns": null,
            "grid_auto_flow": null,
            "grid_auto_rows": null,
            "grid_column": null,
            "grid_gap": null,
            "grid_row": null,
            "grid_template_areas": null,
            "grid_template_columns": null,
            "grid_template_rows": null,
            "height": null,
            "justify_content": null,
            "justify_items": null,
            "left": null,
            "margin": null,
            "max_height": null,
            "max_width": null,
            "min_height": null,
            "min_width": null,
            "object_fit": null,
            "object_position": null,
            "order": null,
            "overflow": null,
            "overflow_x": null,
            "overflow_y": null,
            "padding": null,
            "right": null,
            "top": null,
            "visibility": null,
            "width": null
          }
        },
        "de0de49302084021a47b0e12d38f8d9e": {
          "model_module": "@jupyter-widgets/base",
          "model_name": "LayoutModel",
          "state": {
            "_model_module": "@jupyter-widgets/base",
            "_model_module_version": "1.2.0",
            "_model_name": "LayoutModel",
            "_view_count": null,
            "_view_module": "@jupyter-widgets/base",
            "_view_module_version": "1.2.0",
            "_view_name": "LayoutView",
            "align_content": null,
            "align_items": null,
            "align_self": null,
            "border": null,
            "bottom": null,
            "display": null,
            "flex": null,
            "flex_flow": null,
            "grid_area": null,
            "grid_auto_columns": null,
            "grid_auto_flow": null,
            "grid_auto_rows": null,
            "grid_column": null,
            "grid_gap": null,
            "grid_row": null,
            "grid_template_areas": null,
            "grid_template_columns": null,
            "grid_template_rows": null,
            "height": null,
            "justify_content": null,
            "justify_items": null,
            "left": null,
            "margin": null,
            "max_height": null,
            "max_width": null,
            "min_height": null,
            "min_width": null,
            "object_fit": null,
            "object_position": null,
            "order": null,
            "overflow": null,
            "overflow_x": null,
            "overflow_y": null,
            "padding": null,
            "right": null,
            "top": null,
            "visibility": null,
            "width": null
          }
        },
        "bcea111b4c9241428f302518d7b9b7e9": {
          "model_module": "@jupyter-widgets/controls",
          "model_name": "ProgressStyleModel",
          "state": {
            "_model_module": "@jupyter-widgets/controls",
            "_model_module_version": "1.5.0",
            "_model_name": "ProgressStyleModel",
            "_view_count": null,
            "_view_module": "@jupyter-widgets/base",
            "_view_module_version": "1.2.0",
            "_view_name": "StyleView",
            "bar_color": null,
            "description_width": "initial"
          }
        },
        "1e57612e928d4309960667202a5c41ec": {
          "model_module": "@jupyter-widgets/base",
          "model_name": "LayoutModel",
          "state": {
            "_model_module": "@jupyter-widgets/base",
            "_model_module_version": "1.2.0",
            "_model_name": "LayoutModel",
            "_view_count": null,
            "_view_module": "@jupyter-widgets/base",
            "_view_module_version": "1.2.0",
            "_view_name": "LayoutView",
            "align_content": null,
            "align_items": null,
            "align_self": null,
            "border": null,
            "bottom": null,
            "display": null,
            "flex": null,
            "flex_flow": null,
            "grid_area": null,
            "grid_auto_columns": null,
            "grid_auto_flow": null,
            "grid_auto_rows": null,
            "grid_column": null,
            "grid_gap": null,
            "grid_row": null,
            "grid_template_areas": null,
            "grid_template_columns": null,
            "grid_template_rows": null,
            "height": null,
            "justify_content": null,
            "justify_items": null,
            "left": null,
            "margin": null,
            "max_height": null,
            "max_width": null,
            "min_height": null,
            "min_width": null,
            "object_fit": null,
            "object_position": null,
            "order": null,
            "overflow": null,
            "overflow_x": null,
            "overflow_y": null,
            "padding": null,
            "right": null,
            "top": null,
            "visibility": null,
            "width": null
          }
        },
        "ae9fbbbb9c734c88b4be4d984c876b70": {
          "model_module": "@jupyter-widgets/controls",
          "model_name": "DescriptionStyleModel",
          "state": {
            "_model_module": "@jupyter-widgets/controls",
            "_model_module_version": "1.5.0",
            "_model_name": "DescriptionStyleModel",
            "_view_count": null,
            "_view_module": "@jupyter-widgets/base",
            "_view_module_version": "1.2.0",
            "_view_name": "StyleView",
            "description_width": ""
          }
        }
      }
    }
  },
  "cells": [
    {
      "cell_type": "markdown",
      "metadata": {
        "id": "view-in-github",
        "colab_type": "text"
      },
      "source": [
        "<a href=\"https://colab.research.google.com/github/ashishagg70/ContextBasedQA/blob/master/ContextBasedQAV3.ipynb\" target=\"_parent\"><img src=\"https://colab.research.google.com/assets/colab-badge.svg\" alt=\"Open In Colab\"/></a>"
      ]
    },
    {
      "cell_type": "code",
      "metadata": {
        "colab": {
          "base_uri": "https://localhost:8080/"
        },
        "id": "8kekUt8v-quR",
        "outputId": "3bbfb0df-17f9-4b57-af1a-0c6e506ef55a"
      },
      "source": [
        "!wget \"https://data.deepai.org/squad1.1.zip\""
      ],
      "execution_count": 1,
      "outputs": [
        {
          "output_type": "stream",
          "text": [
            "--2021-05-13 05:40:01--  https://data.deepai.org/squad1.1.zip\n",
            "Resolving data.deepai.org (data.deepai.org)... 138.201.36.183\n",
            "Connecting to data.deepai.org (data.deepai.org)|138.201.36.183|:443... connected.\n",
            "HTTP request sent, awaiting response... 200 OK\n",
            "Length: 9152254 (8.7M) [application/x-zip-compressed]\n",
            "Saving to: ‘squad1.1.zip’\n",
            "\n",
            "squad1.1.zip        100%[===================>]   8.73M  7.43MB/s    in 1.2s    \n",
            "\n",
            "2021-05-13 05:40:03 (7.43 MB/s) - ‘squad1.1.zip’ saved [9152254/9152254]\n",
            "\n"
          ],
          "name": "stdout"
        }
      ]
    },
    {
      "cell_type": "code",
      "metadata": {
        "colab": {
          "base_uri": "https://localhost:8080/"
        },
        "id": "UrRUlX-PAweX",
        "outputId": "76d0b074-bd96-4148-9c62-babc0e558db9"
      },
      "source": [
        "!unzip squad1.1.zip"
      ],
      "execution_count": 2,
      "outputs": [
        {
          "output_type": "stream",
          "text": [
            "Archive:  squad1.1.zip\n",
            "  inflating: dev-v1.1.json           \n",
            "  inflating: train-v1.1.json         \n"
          ],
          "name": "stdout"
        }
      ]
    },
    {
      "cell_type": "code",
      "metadata": {
        "colab": {
          "base_uri": "https://localhost:8080/"
        },
        "id": "u87JC0b1icg3",
        "outputId": "1fba1485-d9a3-43a1-ef24-b11d7e283601"
      },
      "source": [
        "! gdown --id 1JsjXsyXcYgAtOk6v3KijKOrAjJ_6LQpO #saved_model"
      ],
      "execution_count": 3,
      "outputs": [
        {
          "output_type": "stream",
          "text": [
            "Downloading...\n",
            "From: https://drive.google.com/uc?id=1JsjXsyXcYgAtOk6v3KijKOrAjJ_6LQpO\n",
            "To: /content/bidaf_model.tar.gz\n",
            "2.42GB [00:29, 81.9MB/s]\n"
          ],
          "name": "stdout"
        }
      ]
    },
    {
      "cell_type": "code",
      "metadata": {
        "colab": {
          "base_uri": "https://localhost:8080/"
        },
        "id": "7ukxyhUiQhUk",
        "outputId": "024f1610-42d3-4421-8183-48cfc3e77464"
      },
      "source": [
        "!gdown --id 1-5OVwvJzf-OqxxTdDnUtArXtaFgPWzoX\n",
        "!gdown --id 1FnFql2JCUHXlWsQDD-980CqOFXUxD0Ex"
      ],
      "execution_count": 4,
      "outputs": [
        {
          "output_type": "stream",
          "text": [
            "Downloading...\n",
            "From: https://drive.google.com/uc?id=1-5OVwvJzf-OqxxTdDnUtArXtaFgPWzoX\n",
            "To: /content/bidaf_model_state_dict\n",
            "166MB [00:03, 47.9MB/s]\n",
            "Downloading...\n",
            "From: https://drive.google.com/uc?id=1FnFql2JCUHXlWsQDD-980CqOFXUxD0Ex\n",
            "To: /content/bidaf_model_3\n",
            "166MB [00:02, 63.5MB/s]\n"
          ],
          "name": "stdout"
        }
      ]
    },
    {
      "cell_type": "code",
      "metadata": {
        "colab": {
          "base_uri": "https://localhost:8080/"
        },
        "id": "9c3BWjc-B4FC",
        "outputId": "8da667a2-af58-4a18-c58b-fca71b083f3d"
      },
      "source": [
        "import numpy as np\n",
        "from collections import defaultdict\n",
        "from nltk.tokenize import word_tokenize\n",
        "import torch\n",
        "import torch.nn as nn\n",
        "import torch.nn.functional as F\n",
        "from torchtext.vocab import GloVe\n",
        "import json\n",
        "import tqdm\n",
        "\n",
        "import nltk\n",
        "nltk.download('punkt')\n",
        "\n",
        "device = torch.device(\"cuda\" if torch.cuda.is_available() else \"cpu\")\n",
        "print(device)\n",
        "\n",
        "if device == \"cuda\":\n",
        "    num_workers = 1\n",
        "    pin_memory = True\n",
        "else:\n",
        "    num_workers = 0\n",
        "    pin_memory = False"
      ],
      "execution_count": 6,
      "outputs": [
        {
          "output_type": "stream",
          "text": [
            "[nltk_data] Downloading package punkt to /root/nltk_data...\n",
            "[nltk_data]   Package punkt is already up-to-date!\n",
            "cuda\n"
          ],
          "name": "stdout"
        }
      ]
    },
    {
      "cell_type": "code",
      "metadata": {
        "id": "nyqvIyLTBw37"
      },
      "source": [
        "file = open('train-v1.1.json','r')\n",
        "file2 = open('dev-v1.1.json','r')\n",
        "train_data = json.load(file)['data']\n",
        "dev_data = json.load(file2)['data']"
      ],
      "execution_count": 7,
      "outputs": []
    },
    {
      "cell_type": "code",
      "metadata": {
        "id": "uZ8l5Bw91057"
      },
      "source": [
        "MAX_WORD_LENGTH = 40\n",
        "D = 100"
      ],
      "execution_count": 8,
      "outputs": []
    },
    {
      "cell_type": "code",
      "metadata": {
        "colab": {
          "base_uri": "https://localhost:8080/"
        },
        "id": "YPdx76dabgJw",
        "outputId": "28162ef8-a6aa-4463-b10e-5fb1b377bfb4"
      },
      "source": [
        "glove = GloVe('6B',100)"
      ],
      "execution_count": 9,
      "outputs": [
        {
          "output_type": "stream",
          "text": [
            ".vector_cache/glove.6B.zip: 862MB [02:40, 5.39MB/s]                           \n",
            "100%|█████████▉| 398487/400000 [00:14<00:00, 28204.35it/s]"
          ],
          "name": "stderr"
        }
      ]
    },
    {
      "cell_type": "code",
      "metadata": {
        "id": "5D8lLh6QOrNJ"
      },
      "source": [
        "char_to_index = defaultdict(int)\n",
        "index_to_char = defaultdict(str)\n",
        "# word_to_index = defaultdict(int)\n",
        "# index_to_word = defaultdict(str)\n",
        "\n",
        "num_characters = 0\n",
        "num_words = len(glove)"
      ],
      "execution_count": 10,
      "outputs": []
    },
    {
      "cell_type": "code",
      "metadata": {
        "id": "7D4QaCfRCxCv"
      },
      "source": [
        "# i=1\n",
        "# for key in glove.itos:\n",
        "#     word_to_index[key]=i\n",
        "#     index_to_word[i]=key\n",
        "#     i+=1"
      ],
      "execution_count": null,
      "outputs": []
    },
    {
      "cell_type": "code",
      "metadata": {
        "id": "RcyBJLwIGEXD"
      },
      "source": [
        "def char_encode(text, is_train=True):\n",
        "    global char_to_index\n",
        "    global index_to_char\n",
        "    global num_characters\n",
        "\n",
        "    text_endcoding = []\n",
        "    for word in text:\n",
        "        encoding = np.zeros(MAX_WORD_LENGTH)\n",
        "        try:\n",
        "            i=0\n",
        "            for char in word:\n",
        "                encode = char_to_index[char]\n",
        "                if is_train == True and encode == 0:\n",
        "                    index = num_characters+1\n",
        "                    char_to_index[char]= index\n",
        "                    index_to_char[index]= char\n",
        "                    encode = index\n",
        "                    num_characters+=1\n",
        "                encoding[i]=encode\n",
        "                i+=1\n",
        "        except:\n",
        "            print(word)\n",
        "        text_endcoding.append(encoding)\n",
        "    return text_endcoding"
      ],
      "execution_count": 11,
      "outputs": []
    },
    {
      "cell_type": "code",
      "metadata": {
        "id": "u4gs1MmVXaJm"
      },
      "source": [
        "def convert_to_lower(text):\n",
        "    return text.lower()\n",
        "\n",
        "def perform_word_tokenization(text):\n",
        "    return word_tokenize(text)\n",
        "\n",
        "def word_encode(text):\n",
        "    global word_to_index\n",
        "    global index_to_word\n",
        "    global num_words\n",
        "    encoding =[]\n",
        "    for word in text:\n",
        "        try:\n",
        "            encode = glove.stoi[word]\n",
        "        except:\n",
        "            encode = num_words\n",
        "        encoding.append(encode)\n",
        "    return encoding\n"
      ],
      "execution_count": 12,
      "outputs": []
    },
    {
      "cell_type": "code",
      "metadata": {
        "id": "5D2yQ_1Hpo9E"
      },
      "source": [
        "def text_preprocess(text, is_train=True):\n",
        "    text = convert_to_lower(text)\n",
        "    text = perform_word_tokenization(text)\n",
        "    word_encoding = word_encode(text)\n",
        "    char_encoding = char_encode(text, is_train)\n",
        "    return char_encoding, word_encoding\n",
        "\n",
        "def get_answer_indices(context,start,answer):\n",
        "    context=convert_to_lower(context)\n",
        "    tokens = perform_word_tokenization(context[:(start+1)])\n",
        "    ans_tokens = perform_word_tokenization(convert_to_lower(answer))\n",
        "    start = len(tokens)-1\n",
        "    return start, start + len(ans_tokens)-1"
      ],
      "execution_count": 13,
      "outputs": []
    },
    {
      "cell_type": "code",
      "metadata": {
        "id": "IWkU59lnXcvm"
      },
      "source": [
        "def get_data(data,is_train = True):\n",
        "    num_contexts = 0\n",
        "    num_questions = 0\n",
        "    char_contexts = []\n",
        "    char_questions = []\n",
        "    word_contexts=[]\n",
        "    word_questions = []\n",
        "    answers = []\n",
        "    input_data = []\n",
        "    for obj in data:\n",
        "        for para in obj['paragraphs']:\n",
        "            cce, cwe = text_preprocess(para['context'],is_train)\n",
        "            char_contexts.append(cce)\n",
        "            word_contexts.append(cwe)\n",
        "            num_contexts+=1\n",
        "            for qa in para['qas']:\n",
        "                qce, qwe = text_preprocess(qa['question'],is_train)\n",
        "                char_questions.append(qce)\n",
        "                word_questions.append(qwe)\n",
        "                num_questions+=1\n",
        "                input_data.append((num_contexts-1,num_questions-1))\n",
        "                ans = []\n",
        "                for a in qa['answers']:\n",
        "                    start,end = get_answer_indices(para['context'],a['answer_start'],a['text'])\n",
        "                    ans.append([start,end])\n",
        "                answers.append(ans)\n",
        "    return input_data,char_contexts,char_questions,word_contexts,word_questions,answers"
      ],
      "execution_count": 14,
      "outputs": []
    },
    {
      "cell_type": "code",
      "metadata": {
        "id": "Fa3zLl1dxo4r",
        "colab": {
          "base_uri": "https://localhost:8080/"
        },
        "outputId": "72005d43-4507-4ab9-cd64-06fc7049b26a"
      },
      "source": [
        "train_input_data,train_char_contexts,train_char_questions,train_word_contexts,train_word_questions,train_answers = get_data(train_data)"
      ],
      "execution_count": 15,
      "outputs": [
        {
          "output_type": "stream",
          "text": [
            "\r100%|█████████▉| 398487/400000 [00:30<00:00, 28204.35it/s]"
          ],
          "name": "stderr"
        }
      ]
    },
    {
      "cell_type": "code",
      "metadata": {
        "id": "vj4a93Mozo0H"
      },
      "source": [
        "dev_input_data,dev_char_contexts,dev_char_questions,dev_word_contexts,dev_word_questions,dev_answers = get_data(dev_data,False)"
      ],
      "execution_count": 16,
      "outputs": []
    },
    {
      "cell_type": "code",
      "metadata": {
        "id": "AQQTawJsyIuH"
      },
      "source": [
        "char_vocab_size = len(char_to_index)+1\n",
        "word_vocab_size = num_words+1"
      ],
      "execution_count": 17,
      "outputs": []
    },
    {
      "cell_type": "code",
      "metadata": {
        "id": "Wmu2m_5ovDt1"
      },
      "source": [
        "class CharEmbedding(nn.Module):\n",
        "\n",
        "    def __init__(self,vocab_size,embedding_dim = 8, cnn_kernel_size = 5,word_embedding_size =100 ):\n",
        "        super().__init__()\n",
        "        self.embedding = nn.Embedding(num_embeddings=vocab_size,embedding_dim=embedding_dim,padding_idx=0,)\n",
        "        self.cnn = nn.Conv1d(in_channels=embedding_dim,out_channels=word_embedding_size,kernel_size=cnn_kernel_size)\n",
        "        self.maxpool = nn.MaxPool1d(kernel_size = MAX_WORD_LENGTH-cnn_kernel_size+1)\n",
        "    \n",
        "    def forward(self,x):\n",
        "        # print(x)\n",
        "        # print(\"start\",x.shape)\n",
        "        batch_size = x.shape[0]\n",
        "        x = x.view(-1,MAX_WORD_LENGTH)\n",
        "        x = self.embedding(x)\n",
        "        x = x.transpose(1,2)\n",
        "        x = self.cnn(x)\n",
        "        x = F.relu(x)\n",
        "        # print(\"cnn\",x.shape)\n",
        "        x = self.maxpool(x)\n",
        "        # print(\"pool\",x.shape)\n",
        "        #TODO : ReLU\n",
        "        x = x.view(batch_size,-1,x.shape[1])\n",
        "        # print(\"final\",x.shape)\n",
        "        return x"
      ],
      "execution_count": 18,
      "outputs": []
    },
    {
      "cell_type": "code",
      "metadata": {
        "id": "bpPWBZflPsme"
      },
      "source": [
        "class WordEmbedding(nn.Module):\n",
        "    def __init__(self):\n",
        "        super().__init__()      \n",
        "        self.embedding = nn.Embedding.from_pretrained(torch.cat((glove.vectors,torch.zeros(1,glove.dim)),dim=0))\n",
        "\n",
        "    def forward(self,x):\n",
        "        x=self.embedding(x)\n",
        "        return x"
      ],
      "execution_count": 19,
      "outputs": []
    },
    {
      "cell_type": "code",
      "metadata": {
        "id": "5uRRMe8Wuuk6"
      },
      "source": [
        "class HighwayNetworkLayer(nn.Module):\n",
        "    def __init__(self):\n",
        "        super().__init__()\n",
        "        self.transform = nn.Sequential(\n",
        "               nn.Linear(glove.dim+D,glove.dim+D),\n",
        "               nn.ReLU(),\n",
        "               nn.Linear(glove.dim+D,glove.dim+D),\n",
        "               nn.ReLU()\n",
        "        )\n",
        "        self.gate = nn.Sequential(\n",
        "               nn.Linear(glove.dim+D,glove.dim+D),\n",
        "               nn.Sigmoid()\n",
        "        )\n",
        "    def forward(self,x):\n",
        "        x_transformed = self.transform(x)\n",
        "        p = self.gate(x)\n",
        "        return p*x_transformed + (1-p)*x"
      ],
      "execution_count": 20,
      "outputs": []
    },
    {
      "cell_type": "code",
      "metadata": {
        "id": "cFiEedGLXNUQ"
      },
      "source": [
        "class ContextualEmbedding(nn.Module):\n",
        "    def __init__(self):\n",
        "        super().__init__()\n",
        "        self.bilstm = nn.LSTM(glove.dim+D,D,1,bidirectional = True,batch_first = True)\n",
        "\n",
        "    def forward(self,x):\n",
        "        x,_ = self.bilstm(x)\n",
        "        return x"
      ],
      "execution_count": 21,
      "outputs": []
    },
    {
      "cell_type": "code",
      "metadata": {
        "id": "udU65UyxlAoZ"
      },
      "source": [
        "class AttentionFlowLayer(nn.Module):\n",
        "    def __init__(self):\n",
        "        super().__init__()\n",
        "        self.alpha = nn.Linear(6*D,1)\n",
        "    \n",
        "    def forward(self,H,U):\n",
        "        # H : contextual embedding of context\n",
        "        # U : contextual embedding of query\n",
        "\n",
        "        T = H.shape[1]\n",
        "        J = U.shape[1]\n",
        "\n",
        "        H_interleaved = torch.repeat_interleave(H,J,dim=1)\n",
        "        U_repeated = U.repeat(1,T,1)\n",
        "\n",
        "        assert(H_interleaved.shape==U_repeated.shape)\n",
        "\n",
        "        HU = torch.cat((H_interleaved,U_repeated,H_interleaved*U_repeated),dim=-1)\n",
        "        S = self.alpha(HU)\n",
        "        S = S.view(-1,T,J)\n",
        "        C2Q_att = F.softmax(S,dim = -1)\n",
        "        U_tilde = torch.matmul(C2Q_att,U)\n",
        "        Q2C_att = F.softmax(torch.max(S,dim=-1)[0],dim=-1)\n",
        "        Q2C_att = Q2C_att.unsqueeze(1)\n",
        "        H_tilde = torch.matmul(Q2C_att,H).repeat(1,T,1)\n",
        "        G = torch.cat((H,U_tilde,H*U_tilde,H*H_tilde),dim=-1)\n",
        "        return G,S\n"
      ],
      "execution_count": 22,
      "outputs": []
    },
    {
      "cell_type": "code",
      "metadata": {
        "id": "w2UgY5lb7WIg"
      },
      "source": [
        "class ModellingLayer(nn.Module):\n",
        "    def __init__(self):\n",
        "        super().__init__()\n",
        "        self.bilstm = nn.LSTM(8*D,D,2,bidirectional = True,batch_first = True)\n",
        "    def forward(self,G):\n",
        "        M,_ = self.bilstm(G)\n",
        "        return M"
      ],
      "execution_count": 23,
      "outputs": []
    },
    {
      "cell_type": "code",
      "metadata": {
        "id": "w3SaUZ93_Zsm"
      },
      "source": [
        "class OutputLayer(nn.Module):\n",
        "    def __init__(self):\n",
        "        super().__init__()\n",
        "        self.dense1 = nn.Linear(10*D,1)\n",
        "        self.dense2 = nn.Linear(10*D,1)\n",
        "        self.bilstm = nn.LSTM(2*D,D,1,bidirectional = True,batch_first = True)\n",
        "        self.softmax = nn.LogSoftmax(dim=-1)\n",
        "    def forward(self,G,M):\n",
        "        GM = torch.cat((G,M),dim=-1)\n",
        "        temp_GM = self.dense1(GM).squeeze(-1)\n",
        "        start = self.softmax(temp_GM)\n",
        "        M2,_ = self.bilstm(M)\n",
        "        GM2= torch.cat((G,M2),dim=-1)\n",
        "        temp_GM2 = self.dense2(GM2).squeeze(-1)\n",
        "        end = self.softmax(temp_GM2)\n",
        "\n",
        "        return start,end"
      ],
      "execution_count": 24,
      "outputs": []
    },
    {
      "cell_type": "code",
      "metadata": {
        "id": "68KnieuIHCuG"
      },
      "source": [
        "class BiDAF(nn.Module):\n",
        "    def __init__(self):\n",
        "        super().__init__()\n",
        "        self.char_emb_layer=CharEmbedding(char_vocab_size,embedding_dim=8)\n",
        "        self.word_emb_layer=WordEmbedding()\n",
        "        self.highway = HighwayNetworkLayer()\n",
        "        self.cont_emb_layer=ContextualEmbedding()\n",
        "        self.att_layer = AttentionFlowLayer()\n",
        "        self.modelling_layer = ModellingLayer()\n",
        "        self.output_layer = OutputLayer()\n",
        "    \n",
        "    def forward(self,context_char,context_word,query_char,query_word):\n",
        "        context_char_emb = self.char_emb_layer(context_char)\n",
        "        context_word_emb = self.word_emb_layer(context_word)\n",
        "        final_context_word_embedding = torch.cat((context_char_emb,context_word_emb),dim = -1)\n",
        "        final_context_word_embedding = self.highway(final_context_word_embedding)\n",
        "        context_cont_emb = self.cont_emb_layer(final_context_word_embedding)\n",
        "\n",
        "        query_char_emb = self.char_emb_layer(query_char)\n",
        "        query_word_emb = self.word_emb_layer(query_word)\n",
        "        final_query_word_embedding = torch.cat((query_char_emb,query_word_emb),dim = -1)\n",
        "        # final_query_word_embedding = self.highway(final_query_word_embedding)\n",
        "        query_cont_emb = self.cont_emb_layer(final_query_word_embedding)\n",
        "\n",
        "        g,q2c_att = self.att_layer(context_cont_emb,query_cont_emb)\n",
        "        m = self.modelling_layer(g)\n",
        "        o = self.output_layer(g,m)\n",
        "        return o,q2c_att"
      ],
      "execution_count": 25,
      "outputs": []
    },
    {
      "cell_type": "code",
      "metadata": {
        "id": "m0dV56dIzt58"
      },
      "source": [
        "# char_batch_context = [char_contexts[0],char_contexts[0]]\n",
        "# char_batch_query = [char_questions[0],char_questions[1]]\n",
        "# word_batch_context=[word_contexts[0],word_contexts[0]]\n",
        "# word_batch_query = [word_questions[0],word_questions[1]]"
      ],
      "execution_count": null,
      "outputs": []
    },
    {
      "cell_type": "code",
      "metadata": {
        "id": "utt6W-Oi3mBx"
      },
      "source": [
        "# char_batch_context_t = torch.LongTensor(nn.utils.rnn.pad_sequence([torch.LongTensor(sent) for sent in char_batch_context],batch_first=True))\n",
        "# char_batch_query_t = torch.LongTensor(nn.utils.rnn.pad_sequence([torch.LongTensor(sent) for sent in char_batch_query],batch_first=True))\n",
        "# word_batch_context_t = torch.LongTensor(nn.utils.rnn.pad_sequence([torch.LongTensor(sent) for sent in word_batch_context],batch_first=True))\n",
        "# word_batch_query_t = torch.LongTensor(nn.utils.rnn.pad_sequence([torch.LongTensor(sent) for sent in word_batch_query],batch_first=True))"
      ],
      "execution_count": null,
      "outputs": []
    },
    {
      "cell_type": "code",
      "metadata": {
        "id": "H5nPLT92Mc0g"
      },
      "source": [
        "def collate_fn_train(idx):\n",
        "    context_char,context_word,query_char,query_word,ans_start, ans_end,num_ans = [],[],[],[],[],[],[]\n",
        "    for id in idx:\n",
        "        c,q = train_input_data[id]\n",
        "        context_char.append(torch.LongTensor(train_char_contexts[c]))\n",
        "        context_word.append(torch.LongTensor(train_word_contexts[c]))\n",
        "        query_char.append(torch.LongTensor(train_char_questions[q]))\n",
        "        query_word.append(torch.LongTensor(train_word_questions[q]))\n",
        "        start,end = [],[]\n",
        "        for answer in train_answers[q]:\n",
        "            start.append(answer[0])\n",
        "            end.append(answer[1])\n",
        "        ans_start.append(torch.LongTensor(start))\n",
        "        ans_end.append(torch.LongTensor(end))\n",
        "        num_ans.append(len(start))\n",
        "    \n",
        "    context_char = torch.LongTensor(nn.utils.rnn.pad_sequence(context_char,batch_first=True))\n",
        "    context_word = torch.LongTensor(nn.utils.rnn.pad_sequence(context_word,batch_first=True))\n",
        "    query_char = torch.LongTensor(nn.utils.rnn.pad_sequence(query_char,batch_first=True))\n",
        "    query_word = torch.LongTensor(nn.utils.rnn.pad_sequence(query_word,batch_first=True))\n",
        "    ans_start = torch.LongTensor(nn.utils.rnn.pad_sequence(ans_start,batch_first=True))\n",
        "    ans_end = torch.LongTensor(nn.utils.rnn.pad_sequence(ans_end,batch_first=True))\n",
        "    num_ans = torch.LongTensor(num_ans)\n",
        "\n",
        "    return context_char,context_word,query_char,query_word,ans_start,ans_end,num_ans,idx\n",
        "\n",
        "\n",
        "def collate_fn_dev(idx):\n",
        "    context_char,context_word,query_char,query_word,ans_start, ans_end, num_ans = [],[],[],[],[],[],[]\n",
        "    for id in idx:\n",
        "        c,q = dev_input_data[id]\n",
        "        context_char.append(torch.LongTensor(dev_char_contexts[c]))\n",
        "        context_word.append(torch.LongTensor(dev_word_contexts[c]))\n",
        "        query_char.append(torch.LongTensor(dev_char_questions[q]))\n",
        "        query_word.append(torch.LongTensor(dev_word_questions[q]))\n",
        "        start,end = [],[]\n",
        "        for answer in dev_answers[q]:\n",
        "            start.append(answer[0])\n",
        "            end.append(answer[1])\n",
        "        ans_start.append(torch.LongTensor(start))\n",
        "        ans_end.append(torch.LongTensor(end))\n",
        "        num_ans.append(len(start))\n",
        "    \n",
        "    context_char = torch.LongTensor(nn.utils.rnn.pad_sequence(context_char,batch_first=True))\n",
        "    context_word = torch.LongTensor(nn.utils.rnn.pad_sequence(context_word,batch_first=True))\n",
        "    query_char = torch.LongTensor(nn.utils.rnn.pad_sequence(query_char,batch_first=True))\n",
        "    query_word = torch.LongTensor(nn.utils.rnn.pad_sequence(query_word,batch_first=True))\n",
        "    ans_start = torch.LongTensor(nn.utils.rnn.pad_sequence(ans_start,batch_first=True))\n",
        "    ans_end = torch.LongTensor(nn.utils.rnn.pad_sequence(ans_end,batch_first=True))\n",
        "    num_ans = torch.LongTensor(num_ans)\n",
        "\n",
        "    return context_char,contexthttps://drive.google.com/drive/folders/1ERLTh5GRCUtJqyWst17yxLvUDox3gA_G?usp=sharing_word,query_char,query_word,ans_start,ans_end,num_ans,idx"
      ],
      "execution_count": null,
      "outputs": []
    },
    {
      "cell_type": "code",
      "metadata": {
        "id": "eJPq4et_GePC"
      },
      "source": [
        "def EM(candidate_start,candidate_end,reference_starts,reference_ends,context,num_ans):\n",
        "\n",
        "    for ref in zip(reference_starts[:num_ans],reference_ends[:num_ans]):\n",
        "\n",
        "        if candidate_end-candidate_start != ref[1] - ref[0]:\n",
        "            continue\n",
        "        flag = 0\n",
        "        for word_can,word_ref in zip(context[ref[0]:ref[1]+1],context[candidate_start:candidate_end+1]):\n",
        "            if word_can != word_ref :\n",
        "                flag = 1\n",
        "                break\n",
        "        if not flag:\n",
        "            return 1\n",
        "    \n",
        "    return 0\n",
        "\n",
        "def f1(candidate_start,candidate_end,reference_starts,reference_ends,context,num_ans):\n",
        "    best = 0\n",
        "    for ref in zip(reference_starts[:num_ans],reference_ends[:num_ans]):\n",
        "        pred = Counter(context[candidate_start:candidate_end+1])\n",
        "        gold = Counter(context[ref[0]:ref[1]+1])\n",
        "        common = pred & gold\n",
        "        if sum(common.values())== 0:\n",
        "            continue\n",
        "        prec = sum(common.values())/sum(pred.values())\n",
        "        recall = sum(common.values())/sum(gold.values())\n",
        "        best = max((2*prec*recall)/(prec+recall),best)\n",
        "    return best\n",
        "\n",
        "def EM_batch(ref_ans_starts,ref_ans_ends,num_anss,can_ans_starts,can_ans_ends,contexts):\n",
        "    sum = 0\n",
        "    for ref_ans_start,ref_ans_end,can_ans_start,can_ans_end,context,num_ans in zip(ref_ans_starts,ref_ans_ends,can_ans_starts,can_ans_ends,contexts,num_anss):\n",
        "        sum+=EM(can_ans_start,can_ans_end,ref_ans_start,ref_ans_end,context,num_ans)\n",
        "    return sum\n",
        "\n",
        "def f1_batch(ref_ans_starts,ref_ans_ends,num_ans,can_ans_starts,can_ans_ends,contexts):\n",
        "    sum = 0\n",
        "    for ref_ans_start,ref_ans_end,can_ans_start,can_ans_end,context,num_ans in zip(ref_ans_starts,ref_ans_ends,can_ans_starts,can_ans_ends,contexts,num_ans):\n",
        "        sum+=f1(can_ans_start,can_ans_end,ref_ans_start,ref_ans_end,context,num_ans)\n",
        "    return sum/len(ref_ans_starts)\n",
        "\n",
        "\n",
        "def get_best_answer(start,end):\n",
        "    length = len(start)\n",
        "    # arg = np.full(length,length-1)\n",
        "    # max = end[-1]\n",
        "    # for i in range(length-2,-1,-1):\n",
        "    #     if end[i]>max:\n",
        "    #         max= end[i]\n",
        "    #         arg[i] = i\n",
        "    #     else:\n",
        "    #         arg[i]=arg[i+1]\n",
        "            \n",
        "    # s,e = 0,arg[0]\n",
        "    # max = start[0]*end[arg[0]]\n",
        "    # for i in range(1,length):\n",
        "    #     p = start[i] * end[arg[i]]\n",
        "    #     if max < p:\n",
        "    #         max = p\n",
        "    #         s = i\n",
        "    #         e = arg[i]\n",
        "    # return s,e \n",
        "\n",
        "    mat = torch.zeros(length,length)\n",
        "    mat+=start.detach().cpu()\n",
        "    mat=torch.tril(mat)\n",
        "    mat*=end.detach().cpu().view(length,1)\n",
        "    arg_m = np.argmax(mat)\n",
        "    return arg_m%length,arg_m//length\n",
        "\n",
        "\n",
        "\n",
        "\n",
        "def get_best_answer_batch(starts,ends):\n",
        "    ss,es=[],[]\n",
        "    for start,end in zip(starts,ends):\n",
        "        s,e=get_best_answer(start,end)\n",
        "        ss.append(s)\n",
        "        es.append(e)\n",
        "    ss = torch.LongTensor(ss)\n",
        "    es = torch.LongTensor(es)\n",
        "    return ss.to(device),es.to(device)\n",
        "    \n",
        "    "
      ],
      "execution_count": null,
      "outputs": []
    },
    {
      "cell_type": "code",
      "metadata": {
        "id": "UqPnfiXR8G39"
      },
      "source": [
        "train_loader = torch.utils.data.DataLoader(\n",
        "    range(len(train_input_data)),\n",
        "    batch_size=batch_size,\n",
        "    shuffle=True,\n",
        "    collate_fn=collate_fn_train,\n",
        "    # num_workers=num_workers,\n",
        "    # pin_memory=pin_memory\n",
        ")\n",
        "\n",
        "dev_loader = torch.utils.data.DataLoader(\n",
        "    range(len(dev_input_data)),\n",
        "    batch_size=batch_size,\n",
        "    shuffle=True,\n",
        "    collate_fn=collate_fn_dev,\n",
        "    # num_workers=num_workers,\n",
        "    # pin_memory=pin_memory\n",
        ")"
      ],
      "execution_count": null,
      "outputs": []
    },
    {
      "cell_type": "code",
      "metadata": {
        "id": "Z4ZFT7uoK-2m"
      },
      "source": [
        "bidaf2 = BiDAF().to(device)"
      ],
      "execution_count": null,
      "outputs": []
    },
    {
      "cell_type": "code",
      "metadata": {
        "id": "dCyaj9xDS7Ac"
      },
      "source": [
        "#bidaf2= torch.load('bidaf_model_3')"
      ],
      "execution_count": null,
      "outputs": []
    },
    {
      "cell_type": "code",
      "metadata": {
        "id": "o1yGla9OVBtJ"
      },
      "source": [
        "#torch.save(bidaf2.state_dict(), 'bidaf_model_state_dict_ashish')"
      ],
      "execution_count": null,
      "outputs": []
    },
    {
      "cell_type": "code",
      "metadata": {
        "colab": {
          "base_uri": "https://localhost:8080/"
        },
        "id": "CnO7DWxz7OgE",
        "outputId": "553882e7-d25e-4e4f-fb3a-bd063dfea289"
      },
      "source": [
        "bidaf2.load_state_dict(torch.load('bidaf_model_state_dict'))"
      ],
      "execution_count": null,
      "outputs": [
        {
          "output_type": "execute_result",
          "data": {
            "text/plain": [
              "<All keys matched successfully>"
            ]
          },
          "metadata": {
            "tags": []
          },
          "execution_count": 102
        }
      ]
    },
    {
      "cell_type": "code",
      "metadata": {
        "id": "NLgpYzcGYKl5"
      },
      "source": [
        "batch = next(iter(train_loader))"
      ],
      "execution_count": null,
      "outputs": []
    },
    {
      "cell_type": "code",
      "metadata": {
        "id": "d-563BdfKhhb"
      },
      "source": [
        "epochs = 20\n",
        "\n",
        "learning_rate = 0.1\n",
        "\n",
        "print_every = 50\n",
        "\n",
        "optimizer = torch.optim.Adadelta(bidaf.parameters(),lr=learning_rate)\n",
        "\n",
        "criterion = nn.NLLLoss()"
      ],
      "execution_count": null,
      "outputs": []
    },
    {
      "cell_type": "code",
      "metadata": {
        "id": "tvXrLr4qLHCo"
      },
      "source": [
        "def train():\n",
        "    for epoch in range(epochs):\n",
        "        train_losses = []\n",
        "        train_em = []\n",
        "        train_f1 = []\n",
        "        dev_f1 = []\n",
        "        dev_em = []\n",
        "        bidaf.train()\n",
        "        for batch_idx, _data in enumerate(tqdm.notebook.tqdm(iter(train_loader))):\n",
        "            context_char,context_word,query_char,query_word,ans_start,ans_end,num_ans,idx = _data\n",
        "            context_char,context_word,query_char,query_word,ans_start,ans_end = context_char.to(device),context_word.to(device),query_char.to(device),query_word.to(device),ans_start.to(device),ans_end.to(device)\n",
        "            optimizer.zero_grad()\n",
        "            (start,end),_ = bidaf(context_char,context_word,query_char,query_word)\n",
        "            loss1 = criterion(start,ans_start.squeeze(-1))\n",
        "            loss2 = criterion(end,ans_end.squeeze(-1))\n",
        "            loss = loss1+loss2\n",
        "            loss.backward()\n",
        "            optimizer.step()\n",
        "            with torch.no_grad():\n",
        "                train_em.append(EM_batch(ans_start,ans_end,num_ans,torch.argmax(start,dim=-1),torch.argmax(end,dim=-1),context_word)/len(idx))\n",
        "                train_f1.append(f1_batch(ans_start,ans_end,num_ans,torch.argmax(start,dim=-1),torch.argmax(end,dim=-1),context_word)/len(idx))\n",
        "                train_losses.append(loss.item())\n",
        "        bidaf.eval()\n",
        "        with torch.no_grad():\n",
        "            for batch_idx, _data in enumerate(tqdm.notebook.tqdm(iter(dev_loader))):\n",
        "                context_char,context_word,query_char,query_word,ans_start,ans_end,num_ans,idx = _data\n",
        "                context_char,context_word,query_char,query_word,ans_start,ans_end = context_char.to(device),context_word.to(device),query_char.to(device),query_word.to(device),ans_start.to(device),ans_end.to(device)\n",
        "                (start,end),_ = bidaf(context_char,context_word,query_char,query_word)\n",
        "                s,e = get_best_answer_batch(torch.exp(start),torch.exp(end))\n",
        "                dev_em.append(EM_batch(ans_start,ans_end,num_ans,s,e,context_word)/len(idx))\n",
        "                dev_f1.append(f1_batch(ans_start,ans_end,num_ans,s,e,context_word)/len(idx))\n",
        "\n",
        "            print(\"epoch = {} , train_loss = {},train_em = {},dev_em={},train_f1={},dev_f1={}\".format(epoch,np.mean(train_losses),np.mean(train_em),np.mean(dev_em),np.mean(train_f1),np.mean(dev_f1)))"
      ],
      "execution_count": null,
      "outputs": []
    },
    {
      "cell_type": "code",
      "metadata": {
        "colab": {
          "base_uri": "https://localhost:8080/",
          "height": 67,
          "referenced_widgets": [
            "d5ebf8325fc8492eb3f43d6a563d1496",
            "61bf6d4d38334687839e7f3da2165380",
            "263d8267621a402e8418944f99fa918c",
            "bc23148078b2491880929f41f501d046",
            "2f78574d34944bc493a7a8fd8a320ce8",
            "435dd22ce7644696ae85b4da5b7b4a04",
            "6b9c0115def94842880904ec98d2ea08",
            "94e3139d0a4a45d69ddd0f4eb6d76bb5"
          ]
        },
        "id": "jGJ01iAnBlcb",
        "outputId": "acfa2ec8-cc8e-4e67-e34e-d99615907bf0"
      },
      "source": [
        "dev_f1 = []\n",
        "dev_em = []\n",
        "for batch_idx, _data in enumerate(tqdm.notebook.tqdm(iter(dev_loader))):\n",
        "    context_char,context_word,query_char,query_word,ans_start,ans_end,num_ans,idx = _data\n",
        "    context_char,context_word,query_char,query_word,ans_start,ans_end = context_char.to(device),context_word.to(device),query_char.to(device),query_word.to(device),ans_start.to(device),ans_end.to(device)\n",
        "    (start,end),_ = bidaf(context_char,context_word,query_char,query_word)\n",
        "    s,e = get_best_answer_batch(torch.exp(start),torch.exp(end))\n",
        "    dev_em.append(EM_batch(ans_start,ans_end,num_ans,s,e,context_word)/len(idx))\n",
        "    dev_f1.append(f1_batch(ans_start.detach().cpu().numpy(),ans_end.detach().cpu().numpy(),num_ans,s.detach().cpu().numpy(),e.detach().cpu().numpy(),context_word)/len(idx))"
      ],
      "execution_count": null,
      "outputs": [
        {
          "output_type": "display_data",
          "data": {
            "application/vnd.jupyter.widget-view+json": {
              "model_id": "d5ebf8325fc8492eb3f43d6a563d1496",
              "version_major": 2,
              "version_minor": 0
            },
            "text/plain": [
              "HBox(children=(FloatProgress(value=0.0, max=331.0), HTML(value='')))"
            ]
          },
          "metadata": {
            "tags": []
          }
        },
        {
          "output_type": "stream",
          "text": [
            "\n"
          ],
          "name": "stdout"
        }
      ]
    },
    {
      "cell_type": "code",
      "metadata": {
        "colab": {
          "base_uri": "https://localhost:8080/"
        },
        "id": "VZ2wWp_EJqOW",
        "outputId": "f3937fb0-5fd6-4201-9222-177cf057e61c"
      },
      "source": [
        "np.mean(dev_em)"
      ],
      "execution_count": null,
      "outputs": [
        {
          "output_type": "execute_result",
          "data": {
            "text/plain": [
              "0.5841389728096676"
            ]
          },
          "metadata": {
            "tags": []
          },
          "execution_count": 268
        }
      ]
    },
    {
      "cell_type": "code",
      "metadata": {
        "id": "lbb4dhOdDExf"
      },
      "source": [
        "context_char,context_word,query_char,query_word,ans_start,ans_end,num_ans,idx = batch\n",
        "context_char,context_word,query_char,query_word,ans_start,ans_end = context_char.to(device),context_word.to(device),query_char.to(device),query_word.to(device),ans_start.to(device),ans_end.to(device)\n",
        "(start,end),_ = bidaf(context_char,context_word,query_char,query_word)"
      ],
      "execution_count": null,
      "outputs": []
    },
    {
      "cell_type": "code",
      "metadata": {
        "id": "fngBmIbOEEtN"
      },
      "source": [
        "s,e = get_best_answer_batch(torch.exp(start),torch.exp(end))"
      ],
      "execution_count": null,
      "outputs": []
    },
    {
      "cell_type": "code",
      "metadata": {
        "colab": {
          "base_uri": "https://localhost:8080/"
        },
        "id": "YJSxXRQbELjB",
        "outputId": "1f330588-b82c-4ceb-d0c5-402c01421f68"
      },
      "source": [
        "f1_batch(ans_start,ans_end,num_ans,s.detach().cpu().numpy(),e.detach().cpu().numpy(),context_word)/len(idx)"
      ],
      "execution_count": null,
      "outputs": [
        {
          "output_type": "stream",
          "text": [
            "torch.Size([10])\n"
          ],
          "name": "stdout"
        },
        {
          "output_type": "execute_result",
          "data": {
            "text/plain": [
              "0.0"
            ]
          },
          "metadata": {
            "tags": []
          },
          "execution_count": 288
        }
      ]
    },
    {
      "cell_type": "code",
      "metadata": {
        "colab": {
          "base_uri": "https://localhost:8080/",
          "height": 372,
          "referenced_widgets": [
            "6f36344a96ef4bd99020218560ffd1d4",
            "d72f25781861468da65da4b1bc2b9379",
            "ba522d521c694a4f8459832b30de295e",
            "2694408e44c84bfda372944daffedb67",
            "de0de49302084021a47b0e12d38f8d9e",
            "bcea111b4c9241428f302518d7b9b7e9",
            "1e57612e928d4309960667202a5c41ec",
            "ae9fbbbb9c734c88b4be4d984c876b70"
          ]
        },
        "id": "_5riORdo9TXy",
        "outputId": "f2b128e7-ba5f-46e4-80f6-5c4a3faf1c33"
      },
      "source": [
        "train()"
      ],
      "execution_count": null,
      "outputs": [
        {
          "output_type": "display_data",
          "data": {
            "application/vnd.jupyter.widget-view+json": {
              "model_id": "6f36344a96ef4bd99020218560ffd1d4",
              "version_major": 2,
              "version_minor": 0
            },
            "text/plain": [
              "HBox(children=(FloatProgress(value=0.0, max=2738.0), HTML(value='')))"
            ]
          },
          "metadata": {
            "tags": []
          }
        },
        {
          "output_type": "error",
          "ename": "KeyboardInterrupt",
          "evalue": "ignored",
          "traceback": [
            "\u001b[0;31m---------------------------------------------------------------------------\u001b[0m",
            "\u001b[0;31mKeyboardInterrupt\u001b[0m                         Traceback (most recent call last)",
            "\u001b[0;32m<ipython-input-166-2da0ffaf5447>\u001b[0m in \u001b[0;36m<module>\u001b[0;34m()\u001b[0m\n\u001b[0;32m----> 1\u001b[0;31m \u001b[0mtrain\u001b[0m\u001b[0;34m(\u001b[0m\u001b[0;34m)\u001b[0m\u001b[0;34m\u001b[0m\u001b[0;34m\u001b[0m\u001b[0m\n\u001b[0m",
            "\u001b[0;32m<ipython-input-84-8eb21e19bbb7>\u001b[0m in \u001b[0;36mtrain\u001b[0;34m()\u001b[0m\n\u001b[1;32m     15\u001b[0m             \u001b[0mloss2\u001b[0m \u001b[0;34m=\u001b[0m \u001b[0mcriterion\u001b[0m\u001b[0;34m(\u001b[0m\u001b[0mend\u001b[0m\u001b[0;34m,\u001b[0m\u001b[0mans_end\u001b[0m\u001b[0;34m.\u001b[0m\u001b[0msqueeze\u001b[0m\u001b[0;34m(\u001b[0m\u001b[0;34m-\u001b[0m\u001b[0;36m1\u001b[0m\u001b[0;34m)\u001b[0m\u001b[0;34m)\u001b[0m\u001b[0;34m\u001b[0m\u001b[0;34m\u001b[0m\u001b[0m\n\u001b[1;32m     16\u001b[0m             \u001b[0mloss\u001b[0m \u001b[0;34m=\u001b[0m \u001b[0mloss1\u001b[0m\u001b[0;34m+\u001b[0m\u001b[0mloss2\u001b[0m\u001b[0;34m\u001b[0m\u001b[0;34m\u001b[0m\u001b[0m\n\u001b[0;32m---> 17\u001b[0;31m             \u001b[0mloss\u001b[0m\u001b[0;34m.\u001b[0m\u001b[0mbackward\u001b[0m\u001b[0;34m(\u001b[0m\u001b[0;34m)\u001b[0m\u001b[0;34m\u001b[0m\u001b[0;34m\u001b[0m\u001b[0m\n\u001b[0m\u001b[1;32m     18\u001b[0m             \u001b[0moptimizer\u001b[0m\u001b[0;34m.\u001b[0m\u001b[0mstep\u001b[0m\u001b[0;34m(\u001b[0m\u001b[0;34m)\u001b[0m\u001b[0;34m\u001b[0m\u001b[0;34m\u001b[0m\u001b[0m\n\u001b[1;32m     19\u001b[0m             \u001b[0;32mwith\u001b[0m \u001b[0mtorch\u001b[0m\u001b[0;34m.\u001b[0m\u001b[0mno_grad\u001b[0m\u001b[0;34m(\u001b[0m\u001b[0;34m)\u001b[0m\u001b[0;34m:\u001b[0m\u001b[0;34m\u001b[0m\u001b[0;34m\u001b[0m\u001b[0m\n",
            "\u001b[0;32m/usr/local/lib/python3.7/dist-packages/torch/tensor.py\u001b[0m in \u001b[0;36mbackward\u001b[0;34m(self, gradient, retain_graph, create_graph, inputs)\u001b[0m\n\u001b[1;32m    243\u001b[0m                 \u001b[0mcreate_graph\u001b[0m\u001b[0;34m=\u001b[0m\u001b[0mcreate_graph\u001b[0m\u001b[0;34m,\u001b[0m\u001b[0;34m\u001b[0m\u001b[0;34m\u001b[0m\u001b[0m\n\u001b[1;32m    244\u001b[0m                 inputs=inputs)\n\u001b[0;32m--> 245\u001b[0;31m         \u001b[0mtorch\u001b[0m\u001b[0;34m.\u001b[0m\u001b[0mautograd\u001b[0m\u001b[0;34m.\u001b[0m\u001b[0mbackward\u001b[0m\u001b[0;34m(\u001b[0m\u001b[0mself\u001b[0m\u001b[0;34m,\u001b[0m \u001b[0mgradient\u001b[0m\u001b[0;34m,\u001b[0m \u001b[0mretain_graph\u001b[0m\u001b[0;34m,\u001b[0m \u001b[0mcreate_graph\u001b[0m\u001b[0;34m,\u001b[0m \u001b[0minputs\u001b[0m\u001b[0;34m=\u001b[0m\u001b[0minputs\u001b[0m\u001b[0;34m)\u001b[0m\u001b[0;34m\u001b[0m\u001b[0;34m\u001b[0m\u001b[0m\n\u001b[0m\u001b[1;32m    246\u001b[0m \u001b[0;34m\u001b[0m\u001b[0m\n\u001b[1;32m    247\u001b[0m     \u001b[0;32mdef\u001b[0m \u001b[0mregister_hook\u001b[0m\u001b[0;34m(\u001b[0m\u001b[0mself\u001b[0m\u001b[0;34m,\u001b[0m \u001b[0mhook\u001b[0m\u001b[0;34m)\u001b[0m\u001b[0;34m:\u001b[0m\u001b[0;34m\u001b[0m\u001b[0;34m\u001b[0m\u001b[0m\n",
            "\u001b[0;32m/usr/local/lib/python3.7/dist-packages/torch/autograd/__init__.py\u001b[0m in \u001b[0;36mbackward\u001b[0;34m(tensors, grad_tensors, retain_graph, create_graph, grad_variables, inputs)\u001b[0m\n\u001b[1;32m    145\u001b[0m     Variable._execution_engine.run_backward(\n\u001b[1;32m    146\u001b[0m         \u001b[0mtensors\u001b[0m\u001b[0;34m,\u001b[0m \u001b[0mgrad_tensors_\u001b[0m\u001b[0;34m,\u001b[0m \u001b[0mretain_graph\u001b[0m\u001b[0;34m,\u001b[0m \u001b[0mcreate_graph\u001b[0m\u001b[0;34m,\u001b[0m \u001b[0minputs\u001b[0m\u001b[0;34m,\u001b[0m\u001b[0;34m\u001b[0m\u001b[0;34m\u001b[0m\u001b[0m\n\u001b[0;32m--> 147\u001b[0;31m         allow_unreachable=True, accumulate_grad=True)  # allow_unreachable flag\n\u001b[0m\u001b[1;32m    148\u001b[0m \u001b[0;34m\u001b[0m\u001b[0m\n\u001b[1;32m    149\u001b[0m \u001b[0;34m\u001b[0m\u001b[0m\n",
            "\u001b[0;31mKeyboardInterrupt\u001b[0m: "
          ]
        }
      ]
    },
    {
      "cell_type": "code",
      "metadata": {
        "id": "g4OLMtNxttlp"
      },
      "source": [
        "def text_preprocess(text):\n",
        "    text = convert_to_lower(text)\n",
        "    text = perform_word_tokenization(text)\n",
        "    word_encoding = word_encode(text)\n",
        "    char_encoding = char_encode(text)\n",
        "    return char_encoding, word_encoding\n",
        "\n",
        "def get_answer_from_indices(start,end,text):\n",
        "    words = perform_word_tokenization(text)\n",
        "    return ' '.join(words[start:end+1])\n",
        "\n",
        "\n",
        "def predict_answer(context,question):\n",
        "    c_char,c_word = text_preprocess(context)\n",
        "    q_char,q_word = text_preprocess(question)\n",
        "    print(c_char)\n",
        "    print(q_char)\n",
        "    bidaf2.eval()\n",
        "    (start,end),att = bidaf2(torch.LongTensor([c_char]).to(device), torch.LongTensor([c_word]).to(device), torch.LongTensor([q_char]).to(device), torch.LongTensor([q_word]).to(device))\n",
        "    # print(att)\n",
        "    s,e = get_best_answer_batch(torch.exp(start), torch.exp(end))\n",
        "    s,e = s.detach().cpu().numpy(),e.detach().cpu().numpy()\n",
        "    answer = get_answer_from_indices(s[0],e[0],context)\n",
        "    return answer,att"
      ],
      "execution_count": null,
      "outputs": []
    },
    {
      "cell_type": "code",
      "metadata": {
        "colab": {
          "base_uri": "https://localhost:8080/"
        },
        "id": "tc0kVVDMxyHT",
        "outputId": "4356274a-126d-4f31-8c9c-6bcfb6767a2b"
      },
      "source": [
        "len(index_to_char)"
      ],
      "execution_count": null,
      "outputs": [
        {
          "output_type": "execute_result",
          "data": {
            "text/plain": [
              "1258"
            ]
          },
          "metadata": {
            "tags": []
          },
          "execution_count": 124
        }
      ]
    },
    {
      "cell_type": "code",
      "metadata": {
        "colab": {
          "base_uri": "https://localhost:8080/"
        },
        "id": "EsA2aaS5i6xl",
        "outputId": "c35da83c-a247-49bd-a93b-22b2c3c07389"
      },
      "source": [
        "context='On June 4, 2014, the NFL announced that the practice of branding Super Bowl games with Roman numerals, a practice established at Super Bowl V, would be temporarily suspended, and that the game would be named using Arabic numerals as Super Bowl 50 as opposed to Super Bowl L.'\n",
        "print(len(context))\n",
        "question='If Roman numerals were used in the naming of the 50th Super Bowl, which one would have been used?'\n",
        "print(len(question))"
      ],
      "execution_count": null,
      "outputs": [
        {
          "output_type": "stream",
          "text": [
            "274\n",
            "97\n"
          ],
          "name": "stdout"
        }
      ]
    },
    {
      "cell_type": "code",
      "metadata": {
        "colab": {
          "base_uri": "https://localhost:8080/"
        },
        "id": "XrX-DpJGuAku",
        "outputId": "8c971dc5-3fbe-4528-e3a9-18d3587add9a"
      },
      "source": [
        "answer,att=predict_answer(context,question)"
      ],
      "execution_count": null,
      "outputs": [
        {
          "output_type": "stream",
          "text": [
            "[array([14.,  3.,  0.,  0.,  0.,  0.,  0.,  0.,  0.,  0.,  0.,  0.,  0.,\n",
            "        0.,  0.,  0.,  0.,  0.,  0.,  0.,  0.,  0.,  0.,  0.,  0.,  0.,\n",
            "        0.,  0.,  0.,  0.,  0.,  0.,  0.,  0.,  0.,  0.,  0.,  0.,  0.,\n",
            "        0.]), array([36., 22.,  3.,  5.,  0.,  0.,  0.,  0.,  0.,  0.,  0.,  0.,  0.,\n",
            "        0.,  0.,  0.,  0.,  0.,  0.,  0.,  0.,  0.,  0.,  0.,  0.,  0.,\n",
            "        0.,  0.,  0.,  0.,  0.,  0.,  0.,  0.,  0.,  0.,  0.,  0.,  0.,\n",
            "        0.]), array([47.,  0.,  0.,  0.,  0.,  0.,  0.,  0.,  0.,  0.,  0.,  0.,  0.,\n",
            "        0.,  0.,  0.,  0.,  0.,  0.,  0.,  0.,  0.,  0.,  0.,  0.,  0.,\n",
            "        0.,  0.,  0.,  0.,  0.,  0.,  0.,  0.,  0.,  0.,  0.,  0.,  0.,\n",
            "        0.]), array([23.,  0.,  0.,  0.,  0.,  0.,  0.,  0.,  0.,  0.,  0.,  0.,  0.,\n",
            "        0.,  0.,  0.,  0.,  0.,  0.,  0.,  0.,  0.,  0.,  0.,  0.,  0.,\n",
            "        0.,  0.,  0.,  0.,  0.,  0.,  0.,  0.,  0.,  0.,  0.,  0.,  0.,\n",
            "        0.]), array([41., 42., 28., 47.,  0.,  0.,  0.,  0.,  0.,  0.,  0.,  0.,  0.,\n",
            "        0.,  0.,  0.,  0.,  0.,  0.,  0.,  0.,  0.,  0.,  0.,  0.,  0.,\n",
            "        0.,  0.,  0.,  0.,  0.,  0.,  0.,  0.,  0.,  0.,  0.,  0.,  0.,\n",
            "        0.]), array([23.,  0.,  0.,  0.,  0.,  0.,  0.,  0.,  0.,  0.,  0.,  0.,  0.,\n",
            "        0.,  0.,  0.,  0.,  0.,  0.,  0.,  0.,  0.,  0.,  0.,  0.,  0.,\n",
            "        0.,  0.,  0.,  0.,  0.,  0.,  0.,  0.,  0.,  0.,  0.,  0.,  0.,\n",
            "        0.]), array([11., 19.,  5.,  0.,  0.,  0.,  0.,  0.,  0.,  0.,  0.,  0.,  0.,\n",
            "        0.,  0.,  0.,  0.,  0.,  0.,  0.,  0.,  0.,  0.,  0.,  0.,  0.,\n",
            "        0.,  0.,  0.,  0.,  0.,  0.,  0.,  0.,  0.,  0.,  0.,  0.,  0.,\n",
            "        0.]), array([ 3., 17., 15.,  0.,  0.,  0.,  0.,  0.,  0.,  0.,  0.,  0.,  0.,\n",
            "        0.,  0.,  0.,  0.,  0.,  0.,  0.,  0.,  0.,  0.,  0.,  0.,  0.,\n",
            "        0.,  0.,  0.,  0.,  0.,  0.,  0.,  0.,  0.,  0.,  0.,  0.,  0.,\n",
            "        0.]), array([ 4.,  3.,  3., 14., 22.,  3., 21.,  5.,  8.,  0.,  0.,  0.,  0.,\n",
            "        0.,  0.,  0.,  0.,  0.,  0.,  0.,  0.,  0.,  0.,  0.,  0.,  0.,\n",
            "        0.,  0.,  0.,  0.,  0.,  0.,  0.,  0.,  0.,  0.,  0.,  0.,  0.,\n",
            "        0.]), array([11., 19.,  4., 11.,  0.,  0.,  0.,  0.,  0.,  0.,  0.,  0.,  0.,\n",
            "        0.,  0.,  0.,  0.,  0.,  0.,  0.,  0.,  0.,  0.,  0.,  0.,  0.,\n",
            "        0.,  0.,  0.,  0.,  0.,  0.,  0.,  0.,  0.,  0.,  0.,  0.,  0.,\n",
            "        0.]), array([11., 19.,  5.,  0.,  0.,  0.,  0.,  0.,  0.,  0.,  0.,  0.,  0.,\n",
            "        0.,  0.,  0.,  0.,  0.,  0.,  0.,  0.,  0.,  0.,  0.,  0.,  0.,\n",
            "        0.,  0.,  0.,  0.,  0.,  0.,  0.,  0.,  0.,  0.,  0.,  0.,  0.,\n",
            "        0.]), array([24., 10.,  4., 21., 11.,  6., 21.,  5.,  0.,  0.,  0.,  0.,  0.,\n",
            "        0.,  0.,  0.,  0.,  0.,  0.,  0.,  0.,  0.,  0.,  0.,  0.,  0.,\n",
            "        0.,  0.,  0.,  0.,  0.,  0.,  0.,  0.,  0.,  0.,  0.,  0.,  0.,\n",
            "        0.]), array([14., 17.,  0.,  0.,  0.,  0.,  0.,  0.,  0.,  0.,  0.,  0.,  0.,\n",
            "        0.,  0.,  0.,  0.,  0.,  0.,  0.,  0.,  0.,  0.,  0.,  0.,  0.,\n",
            "        0.,  0.,  0.,  0.,  0.,  0.,  0.,  0.,  0.,  0.,  0.,  0.,  0.,\n",
            "        0.]), array([ 9., 10.,  4.,  3.,  8.,  6.,  3., 13.,  0.,  0.,  0.,  0.,  0.,\n",
            "        0.,  0.,  0.,  0.,  0.,  0.,  0.,  0.,  0.,  0.,  0.,  0.,  0.,\n",
            "        0.,  0.,  0.,  0.,  0.,  0.,  0.,  0.,  0.,  0.,  0.,  0.,  0.,\n",
            "        0.]), array([ 7., 22., 24.,  5., 10.,  0.,  0.,  0.,  0.,  0.,  0.,  0.,  0.,\n",
            "        0.,  0.,  0.,  0.,  0.,  0.,  0.,  0.,  0.,  0.,  0.,  0.,  0.,\n",
            "        0.,  0.,  0.,  0.,  0.,  0.,  0.,  0.,  0.,  0.,  0.,  0.,  0.,\n",
            "        0.]), array([ 9., 14., 16., 15.,  0.,  0.,  0.,  0.,  0.,  0.,  0.,  0.,  0.,\n",
            "        0.,  0.,  0.,  0.,  0.,  0.,  0.,  0.,  0.,  0.,  0.,  0.,  0.,\n",
            "        0.,  0.,  0.,  0.,  0.,  0.,  0.,  0.,  0.,  0.,  0.,  0.,  0.,\n",
            "        0.]), array([13.,  4.,  1.,  5.,  7.,  0.,  0.,  0.,  0.,  0.,  0.,  0.,  0.,\n",
            "        0.,  0.,  0.,  0.,  0.,  0.,  0.,  0.,  0.,  0.,  0.,  0.,  0.,\n",
            "        0.,  0.,  0.,  0.,  0.,  0.,  0.,  0.,  0.,  0.,  0.,  0.,  0.,\n",
            "        0.]), array([16.,  6., 11., 19.,  0.,  0.,  0.,  0.,  0.,  0.,  0.,  0.,  0.,\n",
            "        0.,  0.,  0.,  0.,  0.,  0.,  0.,  0.,  0.,  0.,  0.,  0.,  0.,\n",
            "        0.,  0.,  0.,  0.,  0.,  0.,  0.,  0.,  0.,  0.,  0.,  0.,  0.,\n",
            "        0.]), array([10., 14.,  1.,  4.,  3.,  0.,  0.,  0.,  0.,  0.,  0.,  0.,  0.,\n",
            "        0.,  0.,  0.,  0.,  0.,  0.,  0.,  0.,  0.,  0.,  0.,  0.,  0.,\n",
            "        0.,  0.,  0.,  0.,  0.,  0.,  0.,  0.,  0.,  0.,  0.,  0.,  0.,\n",
            "        0.]), array([ 3., 22.,  1.,  5., 10.,  4., 15.,  7.,  0.,  0.,  0.,  0.,  0.,\n",
            "        0.,  0.,  0.,  0.,  0.,  0.,  0.,  0.,  0.,  0.,  0.,  0.,  0.,\n",
            "        0.,  0.,  0.,  0.,  0.,  0.,  0.,  0.,  0.,  0.,  0.,  0.,  0.,\n",
            "        0.]), array([23.,  0.,  0.,  0.,  0.,  0.,  0.,  0.,  0.,  0.,  0.,  0.,  0.,\n",
            "        0.,  0.,  0.,  0.,  0.,  0.,  0.,  0.,  0.,  0.,  0.,  0.,  0.,\n",
            "        0.,  0.,  0.,  0.,  0.,  0.,  0.,  0.,  0.,  0.,  0.,  0.,  0.,\n",
            "        0.]), array([4., 0., 0., 0., 0., 0., 0., 0., 0., 0., 0., 0., 0., 0., 0., 0., 0.,\n",
            "       0., 0., 0., 0., 0., 0., 0., 0., 0., 0., 0., 0., 0., 0., 0., 0., 0.,\n",
            "       0., 0., 0., 0., 0., 0.]), array([24., 10.,  4., 21., 11.,  6., 21.,  5.,  0.,  0.,  0.,  0.,  0.,\n",
            "        0.,  0.,  0.,  0.,  0.,  0.,  0.,  0.,  0.,  0.,  0.,  0.,  0.,\n",
            "        0.,  0.,  0.,  0.,  0.,  0.,  0.,  0.,  0.,  0.,  0.,  0.,  0.,\n",
            "        0.]), array([ 5.,  7., 11.,  4.,  9., 15.,  6.,  7., 19.,  5.,  8.,  0.,  0.,\n",
            "        0.,  0.,  0.,  0.,  0.,  0.,  0.,  0.,  0.,  0.,  0.,  0.,  0.,\n",
            "        0.,  0.,  0.,  0.,  0.,  0.,  0.,  0.,  0.,  0.,  0.,  0.,  0.,\n",
            "        0.]), array([ 4., 11.,  0.,  0.,  0.,  0.,  0.,  0.,  0.,  0.,  0.,  0.,  0.,\n",
            "        0.,  0.,  0.,  0.,  0.,  0.,  0.,  0.,  0.,  0.,  0.,  0.,  0.,\n",
            "        0.,  0.,  0.,  0.,  0.,  0.,  0.,  0.,  0.,  0.,  0.,  0.,  0.,\n",
            "        0.]), array([ 7., 22., 24.,  5., 10.,  0.,  0.,  0.,  0.,  0.,  0.,  0.,  0.,\n",
            "        0.,  0.,  0.,  0.,  0.,  0.,  0.,  0.,  0.,  0.,  0.,  0.,  0.,\n",
            "        0.,  0.,  0.,  0.,  0.,  0.,  0.,  0.,  0.,  0.,  0.,  0.,  0.,\n",
            "        0.]), array([ 9., 14., 16., 15.,  0.,  0.,  0.,  0.,  0.,  0.,  0.,  0.,  0.,\n",
            "        0.,  0.,  0.,  0.,  0.,  0.,  0.,  0.,  0.,  0.,  0.,  0.,  0.,\n",
            "        0.,  0.,  0.,  0.,  0.,  0.,  0.,  0.,  0.,  0.,  0.,  0.,  0.,\n",
            "        0.]), array([25.,  0.,  0.,  0.,  0.,  0.,  0.,  0.,  0.,  0.,  0.,  0.,  0.,\n",
            "        0.,  0.,  0.,  0.,  0.,  0.,  0.,  0.,  0.,  0.,  0.,  0.,  0.,\n",
            "        0.,  0.,  0.,  0.,  0.,  0.,  0.,  0.,  0.,  0.,  0.,  0.,  0.,\n",
            "        0.]), array([23.,  0.,  0.,  0.,  0.,  0.,  0.,  0.,  0.,  0.,  0.,  0.,  0.,\n",
            "        0.,  0.,  0.,  0.,  0.,  0.,  0.,  0.,  0.,  0.,  0.,  0.,  0.,\n",
            "        0.,  0.,  0.,  0.,  0.,  0.,  0.,  0.,  0.,  0.,  0.,  0.,  0.,\n",
            "        0.]), array([16., 14., 22., 15.,  8.,  0.,  0.,  0.,  0.,  0.,  0.,  0.,  0.,\n",
            "        0.,  0.,  0.,  0.,  0.,  0.,  0.,  0.,  0.,  0.,  0.,  0.,  0.,\n",
            "        0.,  0.,  0.,  0.,  0.,  0.,  0.,  0.,  0.,  0.,  0.,  0.,  0.,\n",
            "        0.]), array([9., 5., 0., 0., 0., 0., 0., 0., 0., 0., 0., 0., 0., 0., 0., 0., 0.,\n",
            "       0., 0., 0., 0., 0., 0., 0., 0., 0., 0., 0., 0., 0., 0., 0., 0., 0.,\n",
            "       0., 0., 0., 0., 0., 0.]), array([11.,  5.,  1., 24., 14., 10.,  4., 10.,  6., 15.,  2.,  0.,  0.,\n",
            "        0.,  0.,  0.,  0.,  0.,  0.,  0.,  0.,  0.,  0.,  0.,  0.,  0.,\n",
            "        0.,  0.,  0.,  0.,  0.,  0.,  0.,  0.,  0.,  0.,  0.,  0.,  0.,\n",
            "        0.]), array([ 7., 22.,  7., 24.,  5.,  3.,  8.,  5.,  8.,  0.,  0.,  0.,  0.,\n",
            "        0.,  0.,  0.,  0.,  0.,  0.,  0.,  0.,  0.,  0.,  0.,  0.,  0.,\n",
            "        0.,  0.,  0.,  0.,  0.,  0.,  0.,  0.,  0.,  0.,  0.,  0.,  0.,\n",
            "        0.]), array([23.,  0.,  0.,  0.,  0.,  0.,  0.,  0.,  0.,  0.,  0.,  0.,  0.,\n",
            "        0.,  0.,  0.,  0.,  0.,  0.,  0.,  0.,  0.,  0.,  0.,  0.,  0.,\n",
            "        0.,  0.,  0.,  0.,  0.,  0.,  0.,  0.,  0.,  0.,  0.,  0.,  0.,\n",
            "        0.]), array([4., 3., 8., 0., 0., 0., 0., 0., 0., 0., 0., 0., 0., 0., 0., 0., 0.,\n",
            "       0., 0., 0., 0., 0., 0., 0., 0., 0., 0., 0., 0., 0., 0., 0., 0., 0.,\n",
            "       0., 0., 0., 0., 0., 0.]), array([11., 19.,  4., 11.,  0.,  0.,  0.,  0.,  0.,  0.,  0.,  0.,  0.,\n",
            "        0.,  0.,  0.,  0.,  0.,  0.,  0.,  0.,  0.,  0.,  0.,  0.,  0.,\n",
            "        0.,  0.,  0.,  0.,  0.,  0.,  0.,  0.,  0.,  0.,  0.,  0.,  0.,\n",
            "        0.]), array([11., 19.,  5.,  0.,  0.,  0.,  0.,  0.,  0.,  0.,  0.,  0.,  0.,\n",
            "        0.,  0.,  0.,  0.,  0.,  0.,  0.,  0.,  0.,  0.,  0.,  0.,  0.,\n",
            "        0.,  0.,  0.,  0.,  0.,  0.,  0.,  0.,  0.,  0.,  0.,  0.,  0.,\n",
            "        0.]), array([13.,  4.,  1.,  5.,  0.,  0.,  0.,  0.,  0.,  0.,  0.,  0.,  0.,\n",
            "        0.,  0.,  0.,  0.,  0.,  0.,  0.,  0.,  0.,  0.,  0.,  0.,  0.,\n",
            "        0.,  0.,  0.,  0.,  0.,  0.,  0.,  0.,  0.,  0.,  0.,  0.,  0.,\n",
            "        0.]), array([16., 14., 22., 15.,  8.,  0.,  0.,  0.,  0.,  0.,  0.,  0.,  0.,\n",
            "        0.,  0.,  0.,  0.,  0.,  0.,  0.,  0.,  0.,  0.,  0.,  0.,  0.,\n",
            "        0.,  0.,  0.,  0.,  0.,  0.,  0.,  0.,  0.,  0.,  0.,  0.,  0.,\n",
            "        0.]), array([9., 5., 0., 0., 0., 0., 0., 0., 0., 0., 0., 0., 0., 0., 0., 0., 0.,\n",
            "       0., 0., 0., 0., 0., 0., 0., 0., 0., 0., 0., 0., 0., 0., 0., 0., 0.,\n",
            "       0., 0., 0., 0., 0., 0.]), array([3., 4., 1., 5., 8., 0., 0., 0., 0., 0., 0., 0., 0., 0., 0., 0., 0.,\n",
            "       0., 0., 0., 0., 0., 0., 0., 0., 0., 0., 0., 0., 0., 0., 0., 0., 0.,\n",
            "       0., 0., 0., 0., 0., 0.]), array([22.,  7.,  6.,  3., 13.,  0.,  0.,  0.,  0.,  0.,  0.,  0.,  0.,\n",
            "        0.,  0.,  0.,  0.,  0.,  0.,  0.,  0.,  0.,  0.,  0.,  0.,  0.,\n",
            "        0.,  0.,  0.,  0.,  0.,  0.,  0.,  0.,  0.,  0.,  0.,  0.,  0.,\n",
            "        0.]), array([ 4., 10.,  4.,  9.,  6., 21.,  0.,  0.,  0.,  0.,  0.,  0.,  0.,\n",
            "        0.,  0.,  0.,  0.,  0.,  0.,  0.,  0.,  0.,  0.,  0.,  0.,  0.,\n",
            "        0.,  0.,  0.,  0.,  0.,  0.,  0.,  0.,  0.,  0.,  0.,  0.,  0.,\n",
            "        0.]), array([ 3., 22.,  1.,  5., 10.,  4., 15.,  7.,  0.,  0.,  0.,  0.,  0.,\n",
            "        0.,  0.,  0.,  0.,  0.,  0.,  0.,  0.,  0.,  0.,  0.,  0.,  0.,\n",
            "        0.,  0.,  0.,  0.,  0.,  0.,  0.,  0.,  0.,  0.,  0.,  0.,  0.,\n",
            "        0.]), array([4., 7., 0., 0., 0., 0., 0., 0., 0., 0., 0., 0., 0., 0., 0., 0., 0.,\n",
            "       0., 0., 0., 0., 0., 0., 0., 0., 0., 0., 0., 0., 0., 0., 0., 0., 0.,\n",
            "       0., 0., 0., 0., 0., 0.]), array([ 7., 22., 24.,  5., 10.,  0.,  0.,  0.,  0.,  0.,  0.,  0.,  0.,\n",
            "        0.,  0.,  0.,  0.,  0.,  0.,  0.,  0.,  0.,  0.,  0.,  0.,  0.,\n",
            "        0.,  0.,  0.,  0.,  0.,  0.,  0.,  0.,  0.,  0.,  0.,  0.,  0.,\n",
            "        0.]), array([ 9., 14., 16., 15.,  0.,  0.,  0.,  0.,  0.,  0.,  0.,  0.,  0.,\n",
            "        0.,  0.,  0.,  0.,  0.,  0.,  0.,  0.,  0.,  0.,  0.,  0.,  0.,\n",
            "        0.,  0.,  0.,  0.,  0.,  0.,  0.,  0.,  0.,  0.,  0.,  0.,  0.,\n",
            "        0.]), array([30., 42.,  0.,  0.,  0.,  0.,  0.,  0.,  0.,  0.,  0.,  0.,  0.,\n",
            "        0.,  0.,  0.,  0.,  0.,  0.,  0.,  0.,  0.,  0.,  0.,  0.,  0.,\n",
            "        0.,  0.,  0.,  0.,  0.,  0.,  0.,  0.,  0.,  0.,  0.,  0.,  0.,\n",
            "        0.]), array([4., 7., 0., 0., 0., 0., 0., 0., 0., 0., 0., 0., 0., 0., 0., 0., 0.,\n",
            "       0., 0., 0., 0., 0., 0., 0., 0., 0., 0., 0., 0., 0., 0., 0., 0., 0.,\n",
            "       0., 0., 0., 0., 0., 0.]), array([14., 24., 24., 14.,  7.,  5.,  8.,  0.,  0.,  0.,  0.,  0.,  0.,\n",
            "        0.,  0.,  0.,  0.,  0.,  0.,  0.,  0.,  0.,  0.,  0.,  0.,  0.,\n",
            "        0.,  0.,  0.,  0.,  0.,  0.,  0.,  0.,  0.,  0.,  0.,  0.,  0.,\n",
            "        0.]), array([11., 14.,  0.,  0.,  0.,  0.,  0.,  0.,  0.,  0.,  0.,  0.,  0.,\n",
            "        0.,  0.,  0.,  0.,  0.,  0.,  0.,  0.,  0.,  0.,  0.,  0.,  0.,\n",
            "        0.,  0.,  0.,  0.,  0.,  0.,  0.,  0.,  0.,  0.,  0.,  0.,  0.,\n",
            "        0.]), array([ 7., 22., 24.,  5., 10.,  0.,  0.,  0.,  0.,  0.,  0.,  0.,  0.,\n",
            "        0.,  0.,  0.,  0.,  0.,  0.,  0.,  0.,  0.,  0.,  0.,  0.,  0.,\n",
            "        0.,  0.,  0.,  0.,  0.,  0.,  0.,  0.,  0.,  0.,  0.,  0.,  0.,\n",
            "        0.]), array([ 9., 14., 16., 15.,  0.,  0.,  0.,  0.,  0.,  0.,  0.,  0.,  0.,\n",
            "        0.,  0.,  0.,  0.,  0.,  0.,  0.,  0.,  0.,  0.,  0.,  0.,  0.,\n",
            "        0.,  0.,  0.,  0.,  0.,  0.,  0.,  0.,  0.,  0.,  0.,  0.,  0.,\n",
            "        0.]), array([15.,  0.,  0.,  0.,  0.,  0.,  0.,  0.,  0.,  0.,  0.,  0.,  0.,\n",
            "        0.,  0.,  0.,  0.,  0.,  0.,  0.,  0.,  0.,  0.,  0.,  0.,  0.,\n",
            "        0.,  0.,  0.,  0.,  0.,  0.,  0.,  0.,  0.,  0.,  0.,  0.,  0.,\n",
            "        0.]), array([12.,  0.,  0.,  0.,  0.,  0.,  0.,  0.,  0.,  0.,  0.,  0.,  0.,\n",
            "        0.,  0.,  0.,  0.,  0.,  0.,  0.,  0.,  0.,  0.,  0.,  0.,  0.,\n",
            "        0.,  0.,  0.,  0.,  0.,  0.,  0.,  0.,  0.,  0.,  0.,  0.,  0.,\n",
            "        0.])]\n",
            "[array([ 6., 17.,  0.,  0.,  0.,  0.,  0.,  0.,  0.,  0.,  0.,  0.,  0.,\n",
            "        0.,  0.,  0.,  0.,  0.,  0.,  0.,  0.,  0.,  0.,  0.,  0.,  0.,\n",
            "        0.,  0.,  0.,  0.,  0.,  0.,  0.,  0.,  0.,  0.,  0.,  0.,  0.,\n",
            "        0.]), array([10., 14.,  1.,  4.,  3.,  0.,  0.,  0.,  0.,  0.,  0.,  0.,  0.,\n",
            "        0.,  0.,  0.,  0.,  0.,  0.,  0.,  0.,  0.,  0.,  0.,  0.,  0.,\n",
            "        0.,  0.,  0.,  0.,  0.,  0.,  0.,  0.,  0.,  0.,  0.,  0.,  0.,\n",
            "        0.]), array([ 3., 22.,  1.,  5., 10.,  4., 15.,  7.,  0.,  0.,  0.,  0.,  0.,\n",
            "        0.,  0.,  0.,  0.,  0.,  0.,  0.,  0.,  0.,  0.,  0.,  0.,  0.,\n",
            "        0.,  0.,  0.,  0.,  0.,  0.,  0.,  0.,  0.,  0.,  0.,  0.,  0.,\n",
            "        0.]), array([16.,  5., 10.,  5.,  0.,  0.,  0.,  0.,  0.,  0.,  0.,  0.,  0.,\n",
            "        0.,  0.,  0.,  0.,  0.,  0.,  0.,  0.,  0.,  0.,  0.,  0.,  0.,\n",
            "        0.,  0.,  0.,  0.,  0.,  0.,  0.,  0.,  0.,  0.,  0.,  0.,  0.,\n",
            "        0.]), array([22.,  7.,  5.,  8.,  0.,  0.,  0.,  0.,  0.,  0.,  0.,  0.,  0.,\n",
            "        0.,  0.,  0.,  0.,  0.,  0.,  0.,  0.,  0.,  0.,  0.,  0.,  0.,\n",
            "        0.,  0.,  0.,  0.,  0.,  0.,  0.,  0.,  0.,  0.,  0.,  0.,  0.,\n",
            "        0.]), array([6., 3., 0., 0., 0., 0., 0., 0., 0., 0., 0., 0., 0., 0., 0., 0., 0.,\n",
            "       0., 0., 0., 0., 0., 0., 0., 0., 0., 0., 0., 0., 0., 0., 0., 0., 0.,\n",
            "       0., 0., 0., 0., 0., 0.]), array([11., 19.,  5.,  0.,  0.,  0.,  0.,  0.,  0.,  0.,  0.,  0.,  0.,\n",
            "        0.,  0.,  0.,  0.,  0.,  0.,  0.,  0.,  0.,  0.,  0.,  0.,  0.,\n",
            "        0.,  0.,  0.,  0.,  0.,  0.,  0.,  0.,  0.,  0.,  0.,  0.,  0.,\n",
            "        0.]), array([ 3.,  4.,  1.,  6.,  3., 13.,  0.,  0.,  0.,  0.,  0.,  0.,  0.,\n",
            "        0.,  0.,  0.,  0.,  0.,  0.,  0.,  0.,  0.,  0.,  0.,  0.,  0.,\n",
            "        0.,  0.,  0.,  0.,  0.,  0.,  0.,  0.,  0.,  0.,  0.,  0.,  0.,\n",
            "        0.]), array([14., 17.,  0.,  0.,  0.,  0.,  0.,  0.,  0.,  0.,  0.,  0.,  0.,\n",
            "        0.,  0.,  0.,  0.,  0.,  0.,  0.,  0.,  0.,  0.,  0.,  0.,  0.,\n",
            "        0.,  0.,  0.,  0.,  0.,  0.,  0.,  0.,  0.,  0.,  0.,  0.,  0.,\n",
            "        0.]), array([11., 19.,  5.,  0.,  0.,  0.,  0.,  0.,  0.,  0.,  0.,  0.,  0.,\n",
            "        0.,  0.,  0.,  0.,  0.,  0.,  0.,  0.,  0.,  0.,  0.,  0.,  0.,\n",
            "        0.,  0.,  0.,  0.,  0.,  0.,  0.,  0.,  0.,  0.,  0.,  0.,  0.,\n",
            "        0.]), array([30., 42., 11., 19.,  0.,  0.,  0.,  0.,  0.,  0.,  0.,  0.,  0.,\n",
            "        0.,  0.,  0.,  0.,  0.,  0.,  0.,  0.,  0.,  0.,  0.,  0.,  0.,\n",
            "        0.,  0.,  0.,  0.,  0.,  0.,  0.,  0.,  0.,  0.,  0.,  0.,  0.,\n",
            "        0.]), array([ 7., 22., 24.,  5., 10.,  0.,  0.,  0.,  0.,  0.,  0.,  0.,  0.,\n",
            "        0.,  0.,  0.,  0.,  0.,  0.,  0.,  0.,  0.,  0.,  0.,  0.,  0.,\n",
            "        0.,  0.,  0.,  0.,  0.,  0.,  0.,  0.,  0.,  0.,  0.,  0.,  0.,\n",
            "        0.]), array([ 9., 14., 16., 15.,  0.,  0.,  0.,  0.,  0.,  0.,  0.,  0.,  0.,\n",
            "        0.,  0.,  0.,  0.,  0.,  0.,  0.,  0.,  0.,  0.,  0.,  0.,  0.,\n",
            "        0.,  0.,  0.,  0.,  0.,  0.,  0.,  0.,  0.,  0.,  0.,  0.,  0.,\n",
            "        0.]), array([23.,  0.,  0.,  0.,  0.,  0.,  0.,  0.,  0.,  0.,  0.,  0.,  0.,\n",
            "        0.,  0.,  0.,  0.,  0.,  0.,  0.,  0.,  0.,  0.,  0.,  0.,  0.,\n",
            "        0.,  0.,  0.,  0.,  0.,  0.,  0.,  0.,  0.,  0.,  0.,  0.,  0.,\n",
            "        0.]), array([16., 19.,  6., 21., 19.,  0.,  0.,  0.,  0.,  0.,  0.,  0.,  0.,\n",
            "        0.,  0.,  0.,  0.,  0.,  0.,  0.,  0.,  0.,  0.,  0.,  0.,  0.,\n",
            "        0.,  0.,  0.,  0.,  0.,  0.,  0.,  0.,  0.,  0.,  0.,  0.,  0.,\n",
            "        0.]), array([14.,  3.,  5.,  0.,  0.,  0.,  0.,  0.,  0.,  0.,  0.,  0.,  0.,\n",
            "        0.,  0.,  0.,  0.,  0.,  0.,  0.,  0.,  0.,  0.,  0.,  0.,  0.,\n",
            "        0.,  0.,  0.,  0.,  0.,  0.,  0.,  0.,  0.,  0.,  0.,  0.,  0.,\n",
            "        0.]), array([16., 14., 22., 15.,  8.,  0.,  0.,  0.,  0.,  0.,  0.,  0.,  0.,\n",
            "        0.,  0.,  0.,  0.,  0.,  0.,  0.,  0.,  0.,  0.,  0.,  0.,  0.,\n",
            "        0.,  0.,  0.,  0.,  0.,  0.,  0.,  0.,  0.,  0.,  0.,  0.,  0.,\n",
            "        0.]), array([19.,  4., 25.,  5.,  0.,  0.,  0.,  0.,  0.,  0.,  0.,  0.,  0.,\n",
            "        0.,  0.,  0.,  0.,  0.,  0.,  0.,  0.,  0.,  0.,  0.,  0.,  0.,\n",
            "        0.,  0.,  0.,  0.,  0.,  0.,  0.,  0.,  0.,  0.,  0.,  0.,  0.,\n",
            "        0.]), array([9., 5., 5., 3., 0., 0., 0., 0., 0., 0., 0., 0., 0., 0., 0., 0., 0.,\n",
            "       0., 0., 0., 0., 0., 0., 0., 0., 0., 0., 0., 0., 0., 0., 0., 0., 0.,\n",
            "       0., 0., 0., 0., 0., 0.]), array([22.,  7.,  5.,  8.,  0.,  0.,  0.,  0.,  0.,  0.,  0.,  0.,  0.,\n",
            "        0.,  0.,  0.,  0.,  0.,  0.,  0.,  0.,  0.,  0.,  0.,  0.,  0.,\n",
            "        0.,  0.,  0.,  0.,  0.,  0.,  0.,  0.,  0.,  0.,  0.,  0.,  0.,\n",
            "        0.]), array([20.,  0.,  0.,  0.,  0.,  0.,  0.,  0.,  0.,  0.,  0.,  0.,  0.,\n",
            "        0.,  0.,  0.,  0.,  0.,  0.,  0.,  0.,  0.,  0.,  0.,  0.,  0.,\n",
            "        0.,  0.,  0.,  0.,  0.,  0.,  0.,  0.,  0.,  0.,  0.,  0.,  0.,\n",
            "        0.])]\n"
          ],
          "name": "stdout"
        }
      ]
    },
    {
      "cell_type": "code",
      "metadata": {
        "colab": {
          "base_uri": "https://localhost:8080/",
          "height": 164
        },
        "id": "xMrsTwi_0eBj",
        "outputId": "facfadda-b4fc-470e-daf3-c64d5d80dd2d"
      },
      "source": [
        "att"
      ],
      "execution_count": null,
      "outputs": [
        {
          "output_type": "error",
          "ename": "NameError",
          "evalue": "ignored",
          "traceback": [
            "\u001b[0;31m---------------------------------------------------------------------------\u001b[0m",
            "\u001b[0;31mNameError\u001b[0m                                 Traceback (most recent call last)",
            "\u001b[0;32m<ipython-input-1-8b69c958c5fe>\u001b[0m in \u001b[0;36m<module>\u001b[0;34m()\u001b[0m\n\u001b[0;32m----> 1\u001b[0;31m \u001b[0matt\u001b[0m\u001b[0;34m\u001b[0m\u001b[0;34m\u001b[0m\u001b[0m\n\u001b[0m",
            "\u001b[0;31mNameError\u001b[0m: name 'att' is not defined"
          ]
        }
      ]
    },
    {
      "cell_type": "code",
      "metadata": {
        "colab": {
          "base_uri": "https://localhost:8080/"
        },
        "id": "ttxe2XfrjrHj",
        "outputId": "08832d7a-75c1-44fe-93b2-0d9521602ac0"
      },
      "source": [
        "x=[83, 1956, 34137, 35, 180, 6, 0, 7433, 3, 0, 7966, 1819, 1991, 1, 42, 48, 54, 33, 51, 180, 188]\n",
        "len(x)"
      ],
      "execution_count": null,
      "outputs": [
        {
          "output_type": "execute_result",
          "data": {
            "text/plain": [
              "21"
            ]
          },
          "metadata": {
            "tags": []
          },
          "execution_count": 135
        }
      ]
    },
    {
      "cell_type": "code",
      "metadata": {
        "id": "DD5pVGJD8SiV"
      },
      "source": [
        "att_temp = F.softmax(att,dim=1).squeeze()"
      ],
      "execution_count": null,
      "outputs": []
    },
    {
      "cell_type": "code",
      "metadata": {
        "colab": {
          "base_uri": "https://localhost:8080/",
          "height": 35
        },
        "id": "-HdamHQv9yJf",
        "outputId": "67a84b18-dc6e-40be-daaa-e540ae1e9497"
      },
      "source": [
        "answer"
      ],
      "execution_count": null,
      "outputs": [
        {
          "output_type": "execute_result",
          "data": {
            "application/vnd.google.colaboratory.intrinsic+json": {
              "type": "string"
            },
            "text/plain": [
              "'Super Bowl 50'"
            ]
          },
          "metadata": {
            "tags": []
          },
          "execution_count": 124
        }
      ]
    },
    {
      "cell_type": "code",
      "metadata": {
        "colab": {
          "base_uri": "https://localhost:8080/"
        },
        "id": "h_3Swqpr0-wn",
        "outputId": "2cdcaa35-9a83-4011-b63b-061324ac75fb"
      },
      "source": [
        "att_temp[:,0]"
      ],
      "execution_count": null,
      "outputs": [
        {
          "output_type": "execute_result",
          "data": {
            "text/plain": [
              "tensor([0.0036, 0.1398, 0.0028, 0.0066, 0.0981, 0.7415, 0.0034, 0.0043],\n",
              "       device='cuda:0', grad_fn=<SelectBackward>)"
            ]
          },
          "metadata": {
            "tags": []
          },
          "execution_count": 192
        }
      ]
    },
    {
      "cell_type": "code",
      "metadata": {
        "id": "eMajnhZV9Dcr"
      },
      "source": [
        "Singapore is small country located in Southeast Asia"
      ],
      "execution_count": null,
      "outputs": []
    },
    {
      "cell_type": "code",
      "metadata": {
        "id": "ts6TVaOuLWlU"
      },
      "source": [
        "context_char,context_word,query_char,query_word,ans_start,ans_end,num_ans,idx = batch\n",
        "context_char,context_word,query_char,query_word,ans_start,ans_end = context_char.to(device),context_word.to(device),query_char.to(device),query_word.to(device),ans_start.to(device),ans_end.to(device)\n",
        "start,end = bidaf(context_char,context_word,query_char,query_word)"
      ],
      "execution_count": null,
      "outputs": []
    },
    {
      "cell_type": "code",
      "metadata": {
        "id": "03YldXLMO8ak"
      },
      "source": [
        "torch.save(bidaf.state_dict(), \"bidaf_model_state_dict\")"
      ],
      "execution_count": null,
      "outputs": []
    },
    {
      "cell_type": "code",
      "metadata": {
        "colab": {
          "base_uri": "https://localhost:8080/"
        },
        "id": "eSG9NToJq8l1",
        "outputId": "4541e38a-da30-49a3-fb16-ff7579bdad01"
      },
      "source": [
        "tot = 0\n",
        "for param in bidaf.parameters():\n",
        "    if param.requires_grad:\n",
        "        tot += param.numel()\n",
        "print(tot)"
      ],
      "execution_count": null,
      "outputs": [
        {
          "output_type": "stream",
          "text": [
            "1584191\n"
          ],
          "name": "stdout"
        }
      ]
    },
    {
      "cell_type": "code",
      "metadata": {
        "colab": {
          "base_uri": "https://localhost:8080/"
        },
        "id": "PQneod90JD8t",
        "outputId": "6eb563ee-e593-4a95-b14e-dd2359179e72"
      },
      "source": [
        "from google.colab import drive\n",
        "drive.mount('/content/drive')"
      ],
      "execution_count": null,
      "outputs": [
        {
          "output_type": "stream",
          "text": [
            "Drive already mounted at /content/drive; to attempt to forcibly remount, call drive.mount(\"/content/drive\", force_remount=True).\n"
          ],
          "name": "stdout"
        }
      ]
    },
    {
      "cell_type": "code",
      "metadata": {
        "colab": {
          "base_uri": "https://localhost:8080/"
        },
        "id": "ZoQINPPCJlgX",
        "outputId": "0054c987-bd9e-4410-f3d2-67e32c9bf189"
      },
      "source": [
        "mkdir 'drive/MyDrive/QAmodels'"
      ],
      "execution_count": null,
      "outputs": [
        {
          "output_type": "stream",
          "text": [
            "mkdir: cannot create directory ‘drive/MyDrive/QAmodels’: File exists\n"
          ],
          "name": "stdout"
        }
      ]
    },
    {
      "cell_type": "code",
      "metadata": {
        "colab": {
          "base_uri": "https://localhost:8080/"
        },
        "id": "P549L9iNKCNz",
        "outputId": "adc567ad-d059-4a40-96e0-613d24fa86e4"
      },
      "source": [
        "ls 'drive/MyDrive/QAmodels'"
      ],
      "execution_count": null,
      "outputs": [
        {
          "output_type": "stream",
          "text": [
            "bidaf_model_2  bidaf_model_3\n"
          ],
          "name": "stdout"
        }
      ]
    },
    {
      "cell_type": "code",
      "metadata": {
        "id": "WD4-p1snJFSO"
      },
      "source": [
        "cp 'bidaf_model_state_dict' 'drive/MyDrive/QAmodels'"
      ],
      "execution_count": null,
      "outputs": []
    },
    {
      "cell_type": "code",
      "metadata": {
        "id": "C78-ANsmRqwb"
      },
      "source": [
        "!ls -lah"
      ],
      "execution_count": null,
      "outputs": []
    },
    {
      "cell_type": "code",
      "metadata": {
        "colab": {
          "base_uri": "https://localhost:8080/"
        },
        "id": "YCONJcezAX1D",
        "outputId": "7e82d522-d930-4913-dd2b-2f9cdec98da5"
      },
      "source": [
        "train_data[0]"
      ],
      "execution_count": null,
      "outputs": [
        {
          "output_type": "execute_result",
          "data": {
            "text/plain": [
              "{'paragraphs': [{'context': 'Architecturally, the school has a Catholic character. Atop the Main Building\\'s gold dome is a golden statue of the Virgin Mary. Immediately in front of the Main Building and facing it, is a copper statue of Christ with arms upraised with the legend \"Venite Ad Me Omnes\". Next to the Main Building is the Basilica of the Sacred Heart. Immediately behind the basilica is the Grotto, a Marian place of prayer and reflection. It is a replica of the grotto at Lourdes, France where the Virgin Mary reputedly appeared to Saint Bernadette Soubirous in 1858. At the end of the main drive (and in a direct line that connects through 3 statues and the Gold Dome), is a simple, modern stone statue of Mary.',\n",
              "   'qas': [{'answers': [{'answer_start': 515,\n",
              "       'text': 'Saint Bernadette Soubirous'}],\n",
              "     'id': '5733be284776f41900661182',\n",
              "     'question': 'To whom did the Virgin Mary allegedly appear in 1858 in Lourdes France?'},\n",
              "    {'answers': [{'answer_start': 188, 'text': 'a copper statue of Christ'}],\n",
              "     'id': '5733be284776f4190066117f',\n",
              "     'question': 'What is in front of the Notre Dame Main Building?'},\n",
              "    {'answers': [{'answer_start': 279, 'text': 'the Main Building'}],\n",
              "     'id': '5733be284776f41900661180',\n",
              "     'question': 'The Basilica of the Sacred heart at Notre Dame is beside to which structure?'},\n",
              "    {'answers': [{'answer_start': 381,\n",
              "       'text': 'a Marian place of prayer and reflection'}],\n",
              "     'id': '5733be284776f41900661181',\n",
              "     'question': 'What is the Grotto at Notre Dame?'},\n",
              "    {'answers': [{'answer_start': 92,\n",
              "       'text': 'a golden statue of the Virgin Mary'}],\n",
              "     'id': '5733be284776f4190066117e',\n",
              "     'question': 'What sits on top of the Main Building at Notre Dame?'}]},\n",
              "  {'context': \"As at most other universities, Notre Dame's students run a number of news media outlets. The nine student-run outlets include three newspapers, both a radio and television station, and several magazines and journals. Begun as a one-page journal in September 1876, the Scholastic magazine is issued twice monthly and claims to be the oldest continuous collegiate publication in the United States. The other magazine, The Juggler, is released twice a year and focuses on student literature and artwork. The Dome yearbook is published annually. The newspapers have varying publication interests, with The Observer published daily and mainly reporting university and other news, and staffed by students from both Notre Dame and Saint Mary's College. Unlike Scholastic and The Dome, The Observer is an independent publication and does not have a faculty advisor or any editorial oversight from the University. In 1987, when some students believed that The Observer began to show a conservative bias, a liberal newspaper, Common Sense was published. Likewise, in 2003, when other students believed that the paper showed a liberal bias, the conservative paper Irish Rover went into production. Neither paper is published as often as The Observer; however, all three are distributed to all students. Finally, in Spring 2008 an undergraduate journal for political science research, Beyond Politics, made its debut.\",\n",
              "   'qas': [{'answers': [{'answer_start': 248, 'text': 'September 1876'}],\n",
              "     'id': '5733bf84d058e614000b61be',\n",
              "     'question': 'When did the Scholastic Magazine of Notre dame begin publishing?'},\n",
              "    {'answers': [{'answer_start': 441, 'text': 'twice'}],\n",
              "     'id': '5733bf84d058e614000b61bf',\n",
              "     'question': \"How often is Notre Dame's the Juggler published?\"},\n",
              "    {'answers': [{'answer_start': 598, 'text': 'The Observer'}],\n",
              "     'id': '5733bf84d058e614000b61c0',\n",
              "     'question': 'What is the daily student paper at Notre Dame called?'},\n",
              "    {'answers': [{'answer_start': 126, 'text': 'three'}],\n",
              "     'id': '5733bf84d058e614000b61bd',\n",
              "     'question': 'How many student news papers are found at Notre Dame?'},\n",
              "    {'answers': [{'answer_start': 908, 'text': '1987'}],\n",
              "     'id': '5733bf84d058e614000b61c1',\n",
              "     'question': 'In what year did the student paper Common Sense begin publication at Notre Dame?'}]},\n",
              "  {'context': 'The university is the major seat of the Congregation of Holy Cross (albeit not its official headquarters, which are in Rome). Its main seminary, Moreau Seminary, is located on the campus across St. Joseph lake from the Main Building. Old College, the oldest building on campus and located near the shore of St. Mary lake, houses undergraduate seminarians. Retired priests and brothers reside in Fatima House (a former retreat center), Holy Cross House, as well as Columba Hall near the Grotto. The university through the Moreau Seminary has ties to theologian Frederick Buechner. While not Catholic, Buechner has praised writers from Notre Dame and Moreau Seminary created a Buechner Prize for Preaching.',\n",
              "   'qas': [{'answers': [{'answer_start': 119, 'text': 'Rome'}],\n",
              "     'id': '5733bed24776f41900661188',\n",
              "     'question': 'Where is the headquarters of the Congregation of the Holy Cross?'},\n",
              "    {'answers': [{'answer_start': 145, 'text': 'Moreau Seminary'}],\n",
              "     'id': '5733bed24776f41900661189',\n",
              "     'question': 'What is the primary seminary of the Congregation of the Holy Cross?'},\n",
              "    {'answers': [{'answer_start': 234, 'text': 'Old College'}],\n",
              "     'id': '5733bed24776f4190066118a',\n",
              "     'question': 'What is the oldest structure at Notre Dame?'},\n",
              "    {'answers': [{'answer_start': 356,\n",
              "       'text': 'Retired priests and brothers'}],\n",
              "     'id': '5733bed24776f4190066118b',\n",
              "     'question': 'What individuals live at Fatima House at Notre Dame?'},\n",
              "    {'answers': [{'answer_start': 675,\n",
              "       'text': 'Buechner Prize for Preaching'}],\n",
              "     'id': '5733bed24776f4190066118c',\n",
              "     'question': 'Which prize did Frederick Buechner create?'}]},\n",
              "  {'context': 'The College of Engineering was established in 1920, however, early courses in civil and mechanical engineering were a part of the College of Science since the 1870s. Today the college, housed in the Fitzpatrick, Cushing, and Stinson-Remick Halls of Engineering, includes five departments of study – aerospace and mechanical engineering, chemical and biomolecular engineering, civil engineering and geological sciences, computer science and engineering, and electrical engineering – with eight B.S. degrees offered. Additionally, the college offers five-year dual degree programs with the Colleges of Arts and Letters and of Business awarding additional B.A. and Master of Business Administration (MBA) degrees, respectively.',\n",
              "   'qas': [{'answers': [{'answer_start': 487, 'text': 'eight'}],\n",
              "     'id': '5733a6424776f41900660f51',\n",
              "     'question': 'How many BS level degrees are offered in the College of Engineering at Notre Dame?'},\n",
              "    {'answers': [{'answer_start': 46, 'text': '1920'}],\n",
              "     'id': '5733a6424776f41900660f4e',\n",
              "     'question': 'In what year was the College of Engineering at Notre Dame formed?'},\n",
              "    {'answers': [{'answer_start': 126, 'text': 'the College of Science'}],\n",
              "     'id': '5733a6424776f41900660f4f',\n",
              "     'question': 'Before the creation of the College of Engineering similar studies were carried out at which Notre Dame college?'},\n",
              "    {'answers': [{'answer_start': 271, 'text': 'five'}],\n",
              "     'id': '5733a6424776f41900660f50',\n",
              "     'question': 'How many departments are within the Stinson-Remick Hall of Engineering?'},\n",
              "    {'answers': [{'answer_start': 155, 'text': 'the 1870s'}],\n",
              "     'id': '5733a6424776f41900660f52',\n",
              "     'question': 'The College of Science began to offer civil engineering courses beginning at what time at Notre Dame?'}]},\n",
              "  {'context': \"All of Notre Dame's undergraduate students are a part of one of the five undergraduate colleges at the school or are in the First Year of Studies program. The First Year of Studies program was established in 1962 to guide incoming freshmen in their first year at the school before they have declared a major. Each student is given an academic advisor from the program who helps them to choose classes that give them exposure to any major in which they are interested. The program also includes a Learning Resource Center which provides time management, collaborative learning, and subject tutoring. This program has been recognized previously, by U.S. News & World Report, as outstanding.\",\n",
              "   'qas': [{'answers': [{'answer_start': 496,\n",
              "       'text': 'Learning Resource Center'}],\n",
              "     'id': '5733a70c4776f41900660f64',\n",
              "     'question': 'What entity provides help with the management of time for new students at Notre Dame?'},\n",
              "    {'answers': [{'answer_start': 68, 'text': 'five'}],\n",
              "     'id': '5733a70c4776f41900660f62',\n",
              "     'question': 'How many colleges for undergraduates are at Notre Dame?'},\n",
              "    {'answers': [{'answer_start': 155,\n",
              "       'text': 'The First Year of Studies program'}],\n",
              "     'id': '5733a70c4776f41900660f63',\n",
              "     'question': 'What was created at Notre Dame in 1962 to assist first year students?'},\n",
              "    {'answers': [{'answer_start': 647, 'text': 'U.S. News & World Report'}],\n",
              "     'id': '5733a70c4776f41900660f65',\n",
              "     'question': 'Which organization declared the First Year of Studies program at Notre Dame \"outstanding?\"'}]},\n",
              "  {'context': 'The university first offered graduate degrees, in the form of a Master of Arts (MA), in the 1854–1855 academic year. The program expanded to include Master of Laws (LL.M.) and Master of Civil Engineering in its early stages of growth, before a formal graduate school education was developed with a thesis not required to receive the degrees. This changed in 1924 with formal requirements developed for graduate degrees, including offering Doctorate (PhD) degrees. Today each of the five colleges offer graduate education. Most of the departments from the College of Arts and Letters offer PhD programs, while a professional Master of Divinity (M.Div.) program also exists. All of the departments in the College of Science offer PhD programs, except for the Department of Pre-Professional Studies. The School of Architecture offers a Master of Architecture, while each of the departments of the College of Engineering offer PhD programs. The College of Business offers multiple professional programs including MBA and Master of Science in Accountancy programs. It also operates facilities in Chicago and Cincinnati for its executive MBA program. Additionally, the Alliance for Catholic Education program offers a Master of Education program where students study at the university during the summer and teach in Catholic elementary schools, middle schools, and high schools across the Southern United States for two school years.',\n",
              "   'qas': [{'answers': [{'answer_start': 358, 'text': '1924'}],\n",
              "     'id': '5733a7bd4776f41900660f6b',\n",
              "     'question': 'The granting of Doctorate degrees first occurred in what year at Notre Dame?'},\n",
              "    {'answers': [{'answer_start': 624, 'text': 'Master of Divinity'}],\n",
              "     'id': '5733a7bd4776f41900660f6c',\n",
              "     'question': 'What type of degree is an M.Div.?'},\n",
              "    {'answers': [{'answer_start': 1163,\n",
              "       'text': 'Alliance for Catholic Education'}],\n",
              "     'id': '5733a7bd4776f41900660f6e',\n",
              "     'question': 'Which program at Notre Dame offers a Master of Education degree?'},\n",
              "    {'answers': [{'answer_start': 92, 'text': '1854'}],\n",
              "     'id': '5733a7bd4776f41900660f6a',\n",
              "     'question': 'In what year was a Master of Arts course first offered at Notre Dame?'},\n",
              "    {'answers': [{'answer_start': 757,\n",
              "       'text': 'Department of Pre-Professional Studies'}],\n",
              "     'id': '5733a7bd4776f41900660f6d',\n",
              "     'question': 'Which department at Notre Dame is the only one to not offer a PhD program?'}]},\n",
              "  {'context': \"The Joan B. Kroc Institute for International Peace Studies at the University of Notre Dame is dedicated to research, education and outreach on the causes of violent conflict and the conditions for sustainable peace. It offers PhD, Master's, and undergraduate degrees in peace studies. It was founded in 1986 through the donations of Joan B. Kroc, the widow of McDonald's owner Ray Kroc. The institute was inspired by the vision of the Rev. Theodore M. Hesburgh CSC, President Emeritus of the University of Notre Dame. The institute has contributed to international policy discussions about peace building practices.\",\n",
              "   'qas': [{'answers': [{'answer_start': 4,\n",
              "       'text': 'Joan B. Kroc Institute for International Peace Studies'}],\n",
              "     'id': '5733ac31d058e614000b5ff3',\n",
              "     'question': 'What institute at Notre Dame studies  the reasons for violent conflict?'},\n",
              "    {'answers': [{'answer_start': 466,\n",
              "       'text': 'President Emeritus of the University of Notre Dame'}],\n",
              "     'id': '5733ac31d058e614000b5ff6',\n",
              "     'question': \"What is the title of Notre Dame's Theodore Hesburgh?\"},\n",
              "    {'answers': [{'answer_start': 303, 'text': '1986'}],\n",
              "     'id': '5733ac31d058e614000b5ff4',\n",
              "     'question': 'In what year was the Joan B. Kroc Institute for International Peace Studies founded?'},\n",
              "    {'answers': [{'answer_start': 377, 'text': 'Ray Kroc'}],\n",
              "     'id': '5733ac31d058e614000b5ff5',\n",
              "     'question': 'To whom was John B. Kroc married?'},\n",
              "    {'answers': [{'answer_start': 360, 'text': \"McDonald's\"}],\n",
              "     'id': '5733ac31d058e614000b5ff7',\n",
              "     'question': 'What company did Ray Kroc own?'}]},\n",
              "  {'context': 'The library system of the university is divided between the main library and each of the colleges and schools. The main building is the 14-story Theodore M. Hesburgh Library, completed in 1963, which is the third building to house the main collection of books. The front of the library is adorned with the Word of Life mural designed by artist Millard Sheets. This mural is popularly known as \"Touchdown Jesus\" because of its proximity to Notre Dame Stadium and Jesus\\' arms appearing to make the signal for a touchdown.',\n",
              "   'qas': [{'answers': [{'answer_start': 136, 'text': '14'}],\n",
              "     'id': '5733ad384776f41900660fec',\n",
              "     'question': 'How many stories tall is the main library at Notre Dame?'},\n",
              "    {'answers': [{'answer_start': 145,\n",
              "       'text': 'Theodore M. Hesburgh Library'}],\n",
              "     'id': '5733ad384776f41900660fed',\n",
              "     'question': 'What is the name of the main library at Notre Dame?'},\n",
              "    {'answers': [{'answer_start': 188, 'text': '1963'}],\n",
              "     'id': '5733ad384776f41900660fee',\n",
              "     'question': 'In what year was the Theodore M. Hesburgh Library at Notre Dame finished?'},\n",
              "    {'answers': [{'answer_start': 344, 'text': 'Millard Sheets'}],\n",
              "     'id': '5733ad384776f41900660fef',\n",
              "     'question': 'Which artist created the mural on the Theodore M. Hesburgh Library?'},\n",
              "    {'answers': [{'answer_start': 394, 'text': 'Touchdown Jesus'}],\n",
              "     'id': '5733ad384776f41900660ff0',\n",
              "     'question': 'What is a common name to reference the mural created by Millard Sheets at Notre Dame?'}]},\n",
              "  {'context': 'Notre Dame is known for its competitive admissions, with the incoming class enrolling in fall 2015 admitting 3,577 from a pool of 18,156 (19.7%). The academic profile of the enrolled class continues to rate among the top 10 to 15 in the nation for national research universities. The university practices a non-restrictive early action policy that allows admitted students to consider admission to Notre Dame as well as any other colleges to which they were accepted. 1,400 of the 3,577 (39.1%) were admitted under the early action plan. Admitted students came from 1,311 high schools and the average student traveled more than 750 miles to Notre Dame, making it arguably the most representative university in the United States. While all entering students begin in the College of the First Year of Studies, 25% have indicated they plan to study in the liberal arts or social sciences, 24% in engineering, 24% in business, 24% in science, and 3% in architecture.',\n",
              "   'qas': [{'answers': [{'answer_start': 109, 'text': '3,577'}],\n",
              "     'id': '5733ae924776f41900661014',\n",
              "     'question': 'How many incoming students did Notre Dame admit in fall 2015?'},\n",
              "    {'answers': [{'answer_start': 138, 'text': '19.7%'}],\n",
              "     'id': '5733ae924776f41900661013',\n",
              "     'question': 'What percentage of students were admitted to Notre Dame in fall 2015?'},\n",
              "    {'answers': [{'answer_start': 213,\n",
              "       'text': 'the top 10 to 15 in the nation'}],\n",
              "     'id': '5733ae924776f41900661015',\n",
              "     'question': 'Where does Notre Dame rank in terms of academic profile among research universities in the US?'},\n",
              "    {'answers': [{'answer_start': 488, 'text': '39.1%'}],\n",
              "     'id': '5733ae924776f41900661016',\n",
              "     'question': 'What percentage of students at Notre Dame participated in the Early Action program?'},\n",
              "    {'answers': [{'answer_start': 618, 'text': 'more than 750 miles'}],\n",
              "     'id': '5733ae924776f41900661017',\n",
              "     'question': 'How many miles does the average student at Notre Dame travel to study there?'}]},\n",
              "  {'context': 'In 2015-2016, Notre Dame ranked 18th overall among \"national universities\" in the United States in U.S. News & World Report\\'s Best Colleges 2016. In 2014, USA Today ranked Notre Dame 10th overall for American universities based on data from College Factual. Forbes.com\\'s America\\'s Best Colleges ranks Notre Dame 13th among colleges in the United States in 2015, 8th among Research Universities, and 1st in the Midwest. U.S. News & World Report also lists Notre Dame Law School as 22nd overall. BusinessWeek ranks Mendoza College of Business undergraduate school as 1st overall. It ranks the MBA program as 20th overall. The Philosophical Gourmet Report ranks Notre Dame\\'s graduate philosophy program as 15th nationally, while ARCHITECT Magazine ranked the undergraduate architecture program as 12th nationally. Additionally, the study abroad program ranks sixth in highest participation percentage in the nation, with 57.6% of students choosing to study abroad in 17 countries. According to payscale.com, undergraduate alumni of University of Notre Dame have a mid-career median salary $110,000, making it the 24th highest among colleges and universities in the United States. The median starting salary of $55,300 ranked 58th in the same peer group.',\n",
              "   'qas': [{'answers': [{'answer_start': 32, 'text': '18th overall'}],\n",
              "     'id': '5733afd3d058e614000b6045',\n",
              "     'question': 'Where did U.S. News & World Report rank Notre Dame in its 2015-2016 university rankings?'},\n",
              "    {'answers': [{'answer_start': 362, 'text': '8th'}],\n",
              "     'id': '5733afd3d058e614000b6047',\n",
              "     'question': 'Forbes.com placed Notre Dame at what position compared to other US research universities?'},\n",
              "    {'answers': [{'answer_start': 565, 'text': '1st overall'}],\n",
              "     'id': '5733afd3d058e614000b6048',\n",
              "     'question': 'The undergrad school at the Mendoza College of Business was ranked where according to BusinessWeek?'},\n",
              "    {'answers': [{'answer_start': 155, 'text': 'USA Today'}],\n",
              "     'id': '5733afd3d058e614000b6046',\n",
              "     'question': 'In 2014 what entity named Notre Dame 10th best of all American universities?'},\n",
              "    {'answers': [{'answer_start': 918, 'text': '57.6%'}],\n",
              "     'id': '5733afd3d058e614000b6049',\n",
              "     'question': 'What percentage of Notre Dame students decide to study abroad?'}]},\n",
              "  {'context': \"Father Joseph Carrier, C.S.C. was Director of the Science Museum and the Library and Professor of Chemistry and Physics until 1874. Carrier taught that scientific research and its promise for progress were not antagonistic to the ideals of intellectual and moral culture endorsed by the Church. One of Carrier's students was Father John Augustine Zahm (1851–1921) who was made Professor and Co-Director of the Science Department at age 23 and by 1900 was a nationally prominent scientist and naturalist. Zahm was active in the Catholic Summer School movement, which introduced Catholic laity to contemporary intellectual issues. His book Evolution and Dogma (1896) defended certain aspects of evolutionary theory as true, and argued, moreover, that even the great Church teachers Thomas Aquinas and Augustine taught something like it. The intervention of Irish American Catholics in Rome prevented Zahm's censure by the Vatican. In 1913, Zahm and former President Theodore Roosevelt embarked on a major expedition through the Amazon.\",\n",
              "   'qas': [{'answers': [{'answer_start': 0,\n",
              "       'text': 'Father Joseph Carrier, C.S.C.'}],\n",
              "     'id': '5733b0fb4776f41900661041',\n",
              "     'question': 'What person was the Director of the Science Museum at Notre Dame in the late 19th century?'},\n",
              "    {'answers': [{'answer_start': 353, 'text': '1851–1921'}],\n",
              "     'id': '5733b0fb4776f41900661043',\n",
              "     'question': 'What was the lifespan of John Augustine Zahm?'},\n",
              "    {'answers': [{'answer_start': 406, 'text': 'the Science Department'}],\n",
              "     'id': '5733b0fb4776f41900661044',\n",
              "     'question': 'What program did John Augustine Zahm come to co-direct at Nore Dame?'},\n",
              "    {'answers': [{'answer_start': 638, 'text': 'Evolution and Dogma'}],\n",
              "     'id': '5733b0fb4776f41900661045',\n",
              "     'question': 'What book did John Zahm write in 1896?'},\n",
              "    {'answers': [{'answer_start': 85,\n",
              "       'text': 'Professor of Chemistry and Physics'}],\n",
              "     'id': '5733b0fb4776f41900661042',\n",
              "     'question': 'What professorship did Father Josh Carrier hold at Notre Dame?'}]},\n",
              "  {'context': \"In 1882, Albert Zahm (John Zahm's brother) built an early wind tunnel used to compare lift to drag of aeronautical models. Around 1899, Professor Jerome Green became the first American to send a wireless message. In 1931, Father Julius Nieuwland performed early work on basic reactions that was used to create neoprene. Study of nuclear physics at the university began with the building of a nuclear accelerator in 1936, and continues now partly through a partnership in the Joint Institute for Nuclear Astrophysics.\",\n",
              "   'qas': [{'answers': [{'answer_start': 3, 'text': '1882'}],\n",
              "     'id': '5733b1da4776f41900661068',\n",
              "     'question': 'In what year did Albert Zahm begin comparing aeronatical models at Notre Dame?'},\n",
              "    {'answers': [{'answer_start': 136, 'text': 'Professor Jerome Green'}],\n",
              "     'id': '5733b1da4776f41900661069',\n",
              "     'question': 'Which professor sent the first wireless message in the USA?'},\n",
              "    {'answers': [{'answer_start': 123, 'text': 'Around 1899'}],\n",
              "     'id': '5733b1da4776f4190066106a',\n",
              "     'question': 'In what year did Jerome Green send his first wireless message?'},\n",
              "    {'answers': [{'answer_start': 222, 'text': 'Father Julius Nieuwland'}],\n",
              "     'id': '5733b1da4776f4190066106b',\n",
              "     'question': 'Which individual worked on projects at Notre Dame that eventually created neoprene?'},\n",
              "    {'answers': [{'answer_start': 49, 'text': 'an early wind tunnel'}],\n",
              "     'id': '5733b1da4776f41900661067',\n",
              "     'question': 'What did the brother of John Zahm construct at Notre Dame?'}]},\n",
              "  {'context': \"The Lobund Institute grew out of pioneering research in germ-free-life which began in 1928. This area of research originated in a question posed by Pasteur as to whether animal life was possible without bacteria. Though others had taken up this idea, their research was short lived and inconclusive. Lobund was the first research organization to answer definitively, that such life is possible and that it can be prolonged through generations. But the objective was not merely to answer Pasteur's question but also to produce the germ free animal as a new tool for biological and medical research. This objective was reached and for years Lobund was a unique center for the study and production of germ free animals and for their use in biological and medical investigations. Today the work has spread to other universities. In the beginning it was under the Department of Biology and a program leading to the master's degree accompanied the research program. In the 1940s Lobund achieved independent status as a purely research organization and in 1950 was raised to the status of an Institute. In 1958 it was brought back into the Department of Biology as integral part of that department, but with its own program leading to the degree of PhD in Gnotobiotics.\",\n",
              "   'qas': [{'answers': [{'answer_start': 0, 'text': 'The Lobund Institute'}],\n",
              "     'id': '5733b2fe4776f4190066108f',\n",
              "     'question': 'Work on a germ-free-life ended up in the creation of which Notre Dame institute?'},\n",
              "    {'answers': [{'answer_start': 963, 'text': 'the 1940s'}],\n",
              "     'id': '5733b2fe4776f41900661091',\n",
              "     'question': 'Around what time did Lobund of Notre Dame become independent?'},\n",
              "    {'answers': [{'answer_start': 1049, 'text': '1950'}],\n",
              "     'id': '5733b2fe4776f41900661092',\n",
              "     'question': 'In what year did Lobund at Notre Dame become an Institute?'},\n",
              "    {'answers': [{'answer_start': 1099, 'text': '1958'}],\n",
              "     'id': '5733b2fe4776f41900661093',\n",
              "     'question': 'The Lobund Institute was merged into the Department of Biology at Notre Dame in what year?'},\n",
              "    {'answers': [{'answer_start': 86, 'text': '1928'}],\n",
              "     'id': '5733b2fe4776f41900661090',\n",
              "     'question': 'When did study of a germ-free-life begin at Notre Dame?'}]},\n",
              "  {'context': \"The Review of Politics was founded in 1939 by Gurian, modeled after German Catholic journals. It quickly emerged as part of an international Catholic intellectual revival, offering an alternative vision to positivist philosophy. For 44 years, the Review was edited by Gurian, Matthew Fitzsimons, Frederick Crosson, and Thomas Stritch. Intellectual leaders included Gurian, Jacques Maritain, Frank O'Malley, Leo Richard Ward, F. A. Hermens, and John U. Nef. It became a major forum for political ideas and modern political concerns, especially from a Catholic and scholastic tradition.\",\n",
              "   'qas': [{'answers': [{'answer_start': 0, 'text': 'The Review of Politics'}],\n",
              "     'id': '5733b3d64776f419006610a3',\n",
              "     'question': 'Gurian created what in 1939 at Notre Dame?'},\n",
              "    {'answers': [{'answer_start': 68, 'text': 'German Catholic journals'}],\n",
              "     'id': '5733b3d64776f419006610a4',\n",
              "     'question': 'What was the Review of Politics inspired by?'},\n",
              "    {'answers': [{'answer_start': 233, 'text': '44'}],\n",
              "     'id': '5733b3d64776f419006610a5',\n",
              "     'question': 'Over how many years did Gurian edit the Review of Politics at Notre Dame?'},\n",
              "    {'answers': [{'answer_start': 4, 'text': 'Review of Politics'}],\n",
              "     'id': '5733b3d64776f419006610a6',\n",
              "     'question': 'Thomas Stritch was an editor of which publican from Notre Dame?'}]},\n",
              "  {'context': 'As of 2012[update] research continued in many fields. The university president, John Jenkins, described his hope that Notre Dame would become \"one of the pre–eminent research institutions in the world\" in his inaugural address. The university has many multi-disciplinary institutes devoted to research in varying fields, including the Medieval Institute, the Kellogg Institute for International Studies, the Kroc Institute for International Peace studies, and the Center for Social Concerns. Recent research includes work on family conflict and child development, genome mapping, the increasing trade deficit of the United States with China, studies in fluid mechanics, computational science and engineering, and marketing trends on the Internet. As of 2013, the university is home to the Notre Dame Global Adaptation Index which ranks countries annually based on how vulnerable they are to climate change and how prepared they are to adapt.',\n",
              "   'qas': [{'answers': [{'answer_start': 80, 'text': 'John Jenkins'}],\n",
              "     'id': '5733b5344776f419006610dd',\n",
              "     'question': 'Who was the president of Notre Dame in 2012?'},\n",
              "    {'answers': [{'answer_start': 118, 'text': 'Notre Dame'}],\n",
              "     'id': '5733b5344776f419006610de',\n",
              "     'question': 'The Kellogg Institute for International Studies is part of which university?'},\n",
              "    {'answers': [{'answer_start': 427, 'text': 'International Peace studies'}],\n",
              "     'id': '5733b5344776f419006610df',\n",
              "     'question': 'What does the Kroc Institute at Notre Dame focus on?'},\n",
              "    {'answers': [{'answer_start': 753, 'text': '2013'}],\n",
              "     'id': '5733b5344776f419006610e0',\n",
              "     'question': 'In what year did Notre Dame begin to host the Global Adaptation Index?'},\n",
              "    {'answers': [{'answer_start': 891, 'text': 'climate change'}],\n",
              "     'id': '5733b5344776f419006610e1',\n",
              "     'question': 'What threat does the Global Adaptation Index study?'}]},\n",
              "  {'context': 'In 2014 the Notre Dame student body consisted of 12,179 students, with 8,448 undergraduates, 2,138 graduate and professional and 1,593 professional (Law, M.Div., Business, M.Ed.) students. Around 21–24% of students are children of alumni, and although 37% of students come from the Midwestern United States, the student body represents all 50 states and 100 countries. As of March 2007[update] The Princeton Review ranked the school as the fifth highest \\'dream school\\' for parents to send their children. As of March 2015[update] The Princeton Review ranked Notre Dame as the ninth highest. The school has been previously criticized for its lack of diversity, and The Princeton Review ranks the university highly among schools at which \"Alternative Lifestyles [are] Not an Alternative.\" It has also been commended by some diversity oriented publications; Hispanic Magazine in 2004 ranked the university ninth on its list of the top–25 colleges for Latinos, and The Journal of Blacks in Higher Education recognized the university in 2006 for raising enrollment of African-American students. With 6,000 participants, the university\\'s intramural sports program was named in 2004 by Sports Illustrated as the best program in the country, while in 2007 The Princeton Review named it as the top school where \"Everyone Plays Intramural Sports.\" The annual Bookstore Basketball tournament is the largest outdoor five-on-five tournament in the world with over 700 teams participating each year, while the Notre Dame Men\\'s Boxing Club hosts the annual Bengal Bouts tournament that raises money for the Holy Cross Missions in Bangladesh.',\n",
              "   'qas': [{'answers': [{'answer_start': 71, 'text': '8,448'}],\n",
              "     'id': '5733b5df4776f41900661105',\n",
              "     'question': 'How many undergrads were attending Notre Dame in 2014?'},\n",
              "    {'answers': [{'answer_start': 196, 'text': '21–24%'}],\n",
              "     'id': '5733b5df4776f41900661106',\n",
              "     'question': 'What percentage of students at Notre Dame are the children of former Notre Dame students?'},\n",
              "    {'answers': [{'answer_start': 1446, 'text': 'over 700'}],\n",
              "     'id': '5733b5df4776f41900661107',\n",
              "     'question': 'How many teams participate in the Notre Dame Bookstore Basketball tournament?'},\n",
              "    {'answers': [{'answer_start': 1588,\n",
              "       'text': 'the Holy Cross Missions in Bangladesh'}],\n",
              "     'id': '5733b5df4776f41900661108',\n",
              "     'question': 'For what cause is money raised at the Bengal Bouts tournament at Notre Dame?'},\n",
              "    {'answers': [{'answer_start': 49, 'text': '12,179'}],\n",
              "     'id': '5733b5df4776f41900661109',\n",
              "     'question': 'How many students in total were at Notre Dame in 2014?'}]},\n",
              "  {'context': \"About 80% of undergraduates and 20% of graduate students live on campus. The majority of the graduate students on campus live in one of four graduate housing complexes on campus, while all on-campus undergraduates live in one of the 29 residence halls. Because of the religious affiliation of the university, all residence halls are single-sex, with 15 male dorms and 14 female dorms. The university maintains a visiting policy (known as parietal hours) for those students who live in dormitories, specifying times when members of the opposite sex are allowed to visit other students' dorm rooms; however, all residence halls have 24-hour social spaces for students regardless of gender. Many residence halls have at least one nun and/or priest as a resident. There are no traditional social fraternities or sororities at the university, but a majority of students live in the same residence hall for all four years. Some intramural sports are based on residence hall teams, where the university offers the only non-military academy program of full-contact intramural American football. At the end of the intramural season, the championship game is played on the field in Notre Dame Stadium.\",\n",
              "   'qas': [{'answers': [{'answer_start': 6, 'text': '80%'}],\n",
              "     'id': '5733b699d058e614000b6118',\n",
              "     'question': 'What percentage of undergrads live on the Notre Dame campus?'},\n",
              "    {'answers': [{'answer_start': 136, 'text': 'four'}],\n",
              "     'id': '5733b699d058e614000b6119',\n",
              "     'question': \"How many student housing areas are reserved for Notre Dame's graduate students?\"},\n",
              "    {'answers': [{'answer_start': 350, 'text': '15'}],\n",
              "     'id': '5733b699d058e614000b611a',\n",
              "     'question': 'How many dorms for males are on the Notre Dame campus?'},\n",
              "    {'answers': [{'answer_start': 32, 'text': '20%'}],\n",
              "     'id': '5733b699d058e614000b611b',\n",
              "     'question': 'What amount of the graduate student body at Notre Dame live on the campus?'},\n",
              "    {'answers': [{'answer_start': 368, 'text': '14'}],\n",
              "     'id': '5733b699d058e614000b611c',\n",
              "     'question': 'There are how many dorms for females at Notre Dame?'}]},\n",
              "  {'context': 'The university is affiliated with the Congregation of Holy Cross (Latin: Congregatio a Sancta Cruce, abbreviated postnominals: \"CSC\"). While religious affiliation is not a criterion for admission, more than 93% of students identify as Christian, with over 80% of the total being Catholic. Collectively, Catholic Mass is celebrated over 100 times per week on campus, and a large campus ministry program provides for the faith needs of the community. There are multitudes of religious statues and artwork around campus, most prominent of which are the statue of Mary on the Main Building, the Notre Dame Grotto, and the Word of Life mural on Hesburgh Library depicting Christ as a teacher. Additionally, every classroom displays a crucifix. There are many religious clubs (catholic and non-Catholic) at the school, including Council #1477 of the Knights of Columbus (KOC), Baptist Collegiate Ministry (BCM), Jewish Club, Muslim Student Association, Orthodox Christian Fellowship, The Mormon Club, and many more. The Notre Dame KofC are known for being the first collegiate council of KofC, operating a charitable concession stand during every home football game and owning their own building on campus which can be used as a cigar lounge. Fifty-seven chapels are located throughout the campus.',\n",
              "   'qas': [{'answers': [{'answer_start': 73,\n",
              "       'text': 'Congregatio a Sancta Cruce'}],\n",
              "     'id': '5733b7f74776f4190066112d',\n",
              "     'question': 'What is Congregation of Holy Cross in Latin?'},\n",
              "    {'answers': [{'answer_start': 197, 'text': 'more than 93%'}],\n",
              "     'id': '5733b7f74776f4190066112e',\n",
              "     'question': 'What percentage of Notre Dame students feel they are Christian?'},\n",
              "    {'answers': [{'answer_start': 331, 'text': 'over 100 times'}],\n",
              "     'id': '5733b7f74776f4190066112f',\n",
              "     'question': 'How often is Catholic mass held at Notre Dame in a week?'},\n",
              "    {'answers': [{'answer_start': 1237, 'text': 'Fifty-seven'}],\n",
              "     'id': '5733b7f74776f41900661130',\n",
              "     'question': 'How many chapels are on the Notre Dame campus?'},\n",
              "    {'answers': [{'answer_start': 251, 'text': 'over 80%'}],\n",
              "     'id': '5733b7f74776f41900661131',\n",
              "     'question': 'What amount of the student body of Notre Dame identifies as Catholic?'}]},\n",
              "  {'context': 'This Main Building, and the library collection, was entirely destroyed by a fire in April 1879, and the school closed immediately and students were sent home. The university founder, Fr. Sorin and the president at the time, the Rev. William Corby, immediately planned for the rebuilding of the structure that had housed virtually the entire University. Construction was started on the 17th of May and by the incredible zeal of administrator and workers the building was completed before the fall semester of 1879. The library collection was also rebuilt and stayed housed in the new Main Building for years afterwards. Around the time of the fire, a music hall was opened. Eventually becoming known as Washington Hall, it hosted plays and musical acts put on by the school. By 1880, a science program was established at the university, and a Science Hall (today LaFortune Student Center) was built in 1883. The hall housed multiple classrooms and science labs needed for early research at the university.',\n",
              "   'qas': [{'answers': [{'answer_start': 702, 'text': 'Washington Hall'}],\n",
              "     'id': '57338653d058e614000b5c84',\n",
              "     'question': 'What was the music hall at Notre Dame called?'},\n",
              "    {'answers': [{'answer_start': 90, 'text': '1879'}],\n",
              "     'id': '57338653d058e614000b5c81',\n",
              "     'question': 'In what year was the Main Building at Notre Dame razed in a fire?'},\n",
              "    {'answers': [{'answer_start': 228, 'text': 'Rev. William Corby'}],\n",
              "     'id': '57338653d058e614000b5c82',\n",
              "     'question': 'Who was the president of Notre Dame in 1879?'},\n",
              "    {'answers': [{'answer_start': 385, 'text': '17th of May'}],\n",
              "     'id': '57338653d058e614000b5c83',\n",
              "     'question': 'On what date was the rebuilding of The Main Building begun at Notre Dame after the fire that claimed the previous?'},\n",
              "    {'answers': [{'answer_start': 862, 'text': 'LaFortune Student Center'}],\n",
              "     'id': '57338653d058e614000b5c85',\n",
              "     'question': 'What did the Science Hall at Notre Dame come to be known as?'}]},\n",
              "  {'context': \"In 1919 Father James Burns became president of Notre Dame, and in three years he produced an academic revolution that brought the school up to national standards by adopting the elective system and moving away from the university's traditional scholastic and classical emphasis. By contrast, the Jesuit colleges, bastions of academic conservatism, were reluctant to move to a system of electives. Their graduates were shut out of Harvard Law School for that reason. Notre Dame continued to grow over the years, adding more colleges, programs, and sports teams. By 1921, with the addition of the College of Commerce, Notre Dame had grown from a small college to a university with five colleges and a professional law school. The university continued to expand and add new residence halls and buildings with each subsequent president.\",\n",
              "   'qas': [{'answers': [{'answer_start': 244,\n",
              "       'text': 'scholastic and classical'}],\n",
              "     'id': '57338724d058e614000b5c9f',\n",
              "     'question': 'What type of education was pushed at Notre Dame before its embracing of national standards?'},\n",
              "    {'answers': [{'answer_start': 595, 'text': 'College of Commerce'}],\n",
              "     'id': '57338724d058e614000b5ca1',\n",
              "     'question': 'Which college did Notre Dame add in 1921?'},\n",
              "    {'answers': [{'answer_start': 8, 'text': 'Father James Burns'}],\n",
              "     'id': '57338724d058e614000b5c9d',\n",
              "     'question': 'In 1919 a new president of Notre Dame was named, who was it?'},\n",
              "    {'answers': [{'answer_start': 66, 'text': 'three years'}],\n",
              "     'id': '57338724d058e614000b5c9e',\n",
              "     'question': 'Over how many years did the change to national standards undertaken at Notre Dame in the early 20th century take place?'},\n",
              "    {'answers': [{'answer_start': 430, 'text': 'Harvard Law School'}],\n",
              "     'id': '57338724d058e614000b5ca0',\n",
              "     'question': 'Those who attended a Jesuit college may have been forbidden from joining which Law School due to the curricula at the Jesuit institution?'}]},\n",
              "  {'context': 'One of the main driving forces in the growth of the University was its football team, the Notre Dame Fighting Irish. Knute Rockne became head coach in 1918. Under Rockne, the Irish would post a record of 105 wins, 12 losses, and five ties. During his 13 years the Irish won three national championships, had five undefeated seasons, won the Rose Bowl in 1925, and produced players such as George Gipp and the \"Four Horsemen\". Knute Rockne has the highest winning percentage (.881) in NCAA Division I/FBS football history. Rockne\\'s offenses employed the Notre Dame Box and his defenses ran a 7–2–2 scheme. The last game Rockne coached was on December 14, 1930 when he led a group of Notre Dame all-stars against the New York Giants in New York City.',\n",
              "   'qas': [{'answers': [{'answer_start': 117, 'text': 'Knute Rockne'}],\n",
              "     'id': '573387acd058e614000b5cb1',\n",
              "     'question': 'The Notre Dame football team got a new head coach in 1918, who was it?'},\n",
              "    {'answers': [{'answer_start': 204, 'text': '105'}],\n",
              "     'id': '573387acd058e614000b5cb2',\n",
              "     'question': 'What was the amount of wins Knute Rockne attained at Notre Dame while head coach?'},\n",
              "    {'answers': [{'answer_start': 354, 'text': '1925'}],\n",
              "     'id': '573387acd058e614000b5cb5',\n",
              "     'question': 'In what year did the team lead by Knute Rockne win the Rose Bowl?'},\n",
              "    {'answers': [{'answer_start': 251, 'text': '13'}],\n",
              "     'id': '573387acd058e614000b5cb3',\n",
              "     'question': 'How many years was Knute Rockne head coach at Notre Dame?'},\n",
              "    {'answers': [{'answer_start': 274, 'text': 'three'}],\n",
              "     'id': '573387acd058e614000b5cb4',\n",
              "     'question': 'How many national titles were won when Knute Rockne coached at Notre Dame?'}]},\n",
              "  {'context': \"The success of its football team made Notre Dame a household name. The success of Note Dame reflected rising status of Irish Americans and Catholics in the 1920s. Catholics rallied up around the team and listen to the games on the radio, especially when it knocked off the schools that symbolized the Protestant establishment in America — Harvard, Yale, Princeton, and Army. Yet this role as high-profile flagship institution of Catholicism made it an easy target of anti-Catholicism. The most remarkable episode of violence was the clash between Notre Dame students and the Ku Klux Klan in 1924. Nativism and anti-Catholicism, especially when directed towards immigrants, were cornerstones of the KKK's rhetoric, and Notre Dame was seen as a symbol of the threat posed by the Catholic Church. The Klan decided to have a week-long Klavern in South Bend. Clashes with the student body started on March 17, when students, aware of the anti-Catholic animosity, blocked the Klansmen from descending from their trains in the South Bend station and ripped the KKK clothes and regalia. On May 19 thousands of students massed downtown protesting the Klavern, and only the arrival of college president Fr. Matthew Walsh prevented any further clashes. The next day, football coach Knute Rockne spoke at a campus rally and implored the students to obey the college president and refrain from further violence. A few days later the Klavern broke up, but the hostility shown by the students was an omen and a contribution to the downfall of the KKK in Indiana.\",\n",
              "   'qas': [{'answers': [{'answer_start': 297,\n",
              "       'text': 'the Protestant establishment'}],\n",
              "     'id': '573388ce4776f41900660cc3',\n",
              "     'question': 'Catholic people identified with Notre Dame, what religious group did people feel Yale represented?'},\n",
              "    {'answers': [{'answer_start': 571, 'text': 'the Ku Klux Klan'}],\n",
              "     'id': '573388ce4776f41900660cc4',\n",
              "     'question': 'Notre Dame students had a showdown in 1924 with which anti-catholic group?'},\n",
              "    {'answers': [{'answer_start': 1193, 'text': 'Fr. Matthew Walsh'}],\n",
              "     'id': '573388ce4776f41900660cc7',\n",
              "     'question': 'Which college president of Notre Dame is credited with preventing more confrontations between students and the KKK?'},\n",
              "    {'answers': [{'answer_start': 819, 'text': 'a week-long Klavern'}],\n",
              "     'id': '573388ce4776f41900660cc5',\n",
              "     'question': 'What type of event did the Klan intend to have at Notre Dame in March of 1924?'},\n",
              "    {'answers': [{'answer_start': 842, 'text': 'South Bend'}],\n",
              "     'id': '573388ce4776f41900660cc6',\n",
              "     'question': 'Where did Notre Dame students and the KKK have their encounter?'}]},\n",
              "  {'context': 'Holy Cross Father John Francis O\\'Hara was elected vice-president in 1933 and president of Notre Dame in 1934. During his tenure at Notre Dame, he brought numerous refugee intellectuals to campus; he selected Frank H. Spearman, Jeremiah D. M. Ford, Irvin Abell, and Josephine Brownson for the Laetare Medal, instituted in 1883. O\\'Hara strongly believed that the Fighting Irish football team could be an effective means to \"acquaint the public with the ideals that dominate\" Notre Dame. He wrote, \"Notre Dame football is a spiritual service because it is played for the honor and glory of God and of his Blessed Mother. When St. Paul said: \\'Whether you eat or drink, or whatsoever else you do, do all for the glory of God,\\' he included football.\"',\n",
              "   'qas': [{'answers': [{'answer_start': 11,\n",
              "       'text': \"Father John Francis O'Hara\"}],\n",
              "     'id': '57338a51d058e614000b5cf0',\n",
              "     'question': 'Which person became vice-president of Notre Dame in 1933?'},\n",
              "    {'answers': [{'answer_start': 11, 'text': \"Father John Francis O'Hara\"}],\n",
              "     'id': '57338a51d058e614000b5cf1',\n",
              "     'question': 'Who was the president of Notre Dame in 1934?'},\n",
              "    {'answers': [{'answer_start': 292, 'text': 'Laetare Medal'}],\n",
              "     'id': '57338a51d058e614000b5cf2',\n",
              "     'question': 'Irvin Abell was given what award by Notre Dame?'},\n",
              "    {'answers': [{'answer_start': 321, 'text': '1883'}],\n",
              "     'id': '57338a51d058e614000b5cf3',\n",
              "     'question': 'Which year was the Laetare Medal first given out at Notre Dame?'},\n",
              "    {'answers': [{'answer_start': 587, 'text': 'God'}],\n",
              "     'id': '57338a51d058e614000b5cf4',\n",
              "     'question': \"For whos glory did Father O'Hara believed that the Notre Dame football team played?\"}]},\n",
              "  {'context': \"The Rev. John J. Cavanaugh, C.S.C. served as president from 1946 to 1952. Cavanaugh's legacy at Notre Dame in the post-war years was devoted to raising academic standards and reshaping the university administration to suit it to an enlarged educational mission and an expanded student body and stressing advanced studies and research at a time when Notre Dame quadrupled in student census, undergraduate enrollment increased by more than half, and graduate student enrollment grew fivefold. Cavanaugh also established the Lobund Institute for Animal Studies and Notre Dame's Medieval Institute. Cavanaugh also presided over the construction of the Nieuwland Science Hall, Fisher Hall, and the Morris Inn, as well as the Hall of Liberal Arts (now O'Shaughnessy Hall), made possible by a donation from I.A. O'Shaughnessy, at the time the largest ever made to an American Catholic university. Cavanaugh also established a system of advisory councils at the university, which continue today and are vital to the university's governance and development\",\n",
              "   'qas': [{'answers': [{'answer_start': 428, 'text': 'more than half'}],\n",
              "     'id': '5733926d4776f41900660d8e',\n",
              "     'question': 'Around the time that Rev. Cavanaugh became president of Notre Dame by how much did the undergrad student body of Notre Dame increase?'},\n",
              "    {'answers': [{'answer_start': 522,\n",
              "       'text': 'Lobund Institute for Animal Studies'}],\n",
              "     'id': '5733926d4776f41900660d8f',\n",
              "     'question': 'Which institute involving animal life did Cavanaugh create at Notre Dame?'},\n",
              "    {'answers': [{'answer_start': 720, 'text': 'Hall of Liberal Arts'}],\n",
              "     'id': '5733926d4776f41900660d91',\n",
              "     'question': \"What is O'Shaughnessy Hall of Notre Dame formerly known as?\"},\n",
              "    {'answers': [{'answer_start': 4,\n",
              "       'text': 'Rev. John J. Cavanaugh, C.S.C.'}],\n",
              "     'id': '5733926d4776f41900660d8d',\n",
              "     'question': 'Which president did Notre Dame have in 1947?'},\n",
              "    {'answers': [{'answer_start': 575, 'text': 'Medieval Institute'}],\n",
              "     'id': '5733926d4776f41900660d90',\n",
              "     'question': 'Outside of an institute studying animals, what other institute did Cavanugh create at Notre Dame?'}]},\n",
              "  {'context': 'The Rev. Theodore Hesburgh, C.S.C., (1917–2015) served as president for 35 years (1952–87) of dramatic transformations. In that time the annual operating budget rose by a factor of 18 from $9.7 million to $176.6 million, and the endowment by a factor of 40 from $9 million to $350 million, and research funding by a factor of 20 from $735,000 to $15 million. Enrollment nearly doubled from 4,979 to 9,600, faculty more than doubled 389 to 950, and degrees awarded annually doubled from 1,212 to 2,500.',\n",
              "   'qas': [{'answers': [{'answer_start': 37, 'text': '1917–2015'}],\n",
              "     'id': '573393184776f41900660da6',\n",
              "     'question': 'What was the lifespan of Theodore Hesburgh?'},\n",
              "    {'answers': [{'answer_start': 181, 'text': '18'}],\n",
              "     'id': '573393184776f41900660da8',\n",
              "     'question': 'In the time that Hesburgh was president of Notre Dame by what factor did the operating budget increase?'},\n",
              "    {'answers': [{'answer_start': 262, 'text': '$9 million'}],\n",
              "     'id': '573393184776f41900660da9',\n",
              "     'question': 'What was the size of the Notre Dame endowment when Theodore Hesburgh became president?'},\n",
              "    {'answers': [{'answer_start': 82, 'text': '1952–87'}],\n",
              "     'id': '573393184776f41900660da7',\n",
              "     'question': 'During what years was Theodor Hesburgh president of Notre Dame?'},\n",
              "    {'answers': [{'answer_start': 439, 'text': '950'}],\n",
              "     'id': '573393184776f41900660daa',\n",
              "     'question': 'How many faculty members were at Notre Dame when Hesburgh left the role of president?'}]},\n",
              "  {'context': 'Hesburgh is also credited with transforming the face of Notre Dame by making it a coeducational institution. In the mid-1960s Notre Dame and Saint Mary\\'s College developed a co-exchange program whereby several hundred students took classes not offered at their home institution, an arrangement that added undergraduate women to a campus that already had a few women in the graduate schools. After extensive debate, merging with St. Mary\\'s was rejected, primarily because of the differential in faculty qualifications and pay scales. \"In American college education,\" explained the Rev. Charles E. Sheedy, C.S.C., Notre Dame\\'s Dean of Arts and Letters, \"certain features formerly considered advantageous and enviable are now seen as anachronistic and out of place.... In this environment of diversity, the integration of the sexes is a normal and expected aspect, replacing separatism.\" Thomas Blantz, C.S.C., Notre Dame\\'s Vice President of Student Affairs, added that coeducation \"opened up a whole other pool of very bright students.\" Two of the male residence halls were converted for the newly admitted female students that first year, while two others were converted for the next school year. In 1971 Mary Ann Proctor became the first female undergraduate; she transferred from St. Mary\\'s College. In 1972 the first woman to graduate was Angela Sienko, who earned a bachelor\\'s degree in marketing.',\n",
              "   'qas': [{'answers': [{'answer_start': 82, 'text': 'coeducational'}],\n",
              "     'id': '573393e1d058e614000b5dc2',\n",
              "     'question': 'What type of educational institute is Hesburgh given credit for creating at Notre Dame?'},\n",
              "    {'answers': [{'answer_start': 625, 'text': 'Dean of Arts and Letters'}],\n",
              "     'id': '573393e1d058e614000b5dc4',\n",
              "     'question': 'Which role did Charles Sheedy have at Notre Dame?'},\n",
              "    {'answers': [{'answer_start': 921,\n",
              "       'text': 'Vice President of Student Affairs'}],\n",
              "     'id': '573393e1d058e614000b5dc5',\n",
              "     'question': 'What title did Thomas Blantz have at Notre Dame?'},\n",
              "    {'answers': [{'answer_start': 1199, 'text': '1971'}],\n",
              "     'id': '573393e1d058e614000b5dc6',\n",
              "     'question': 'In what year did Notre Dame have its earliest undergraduate that was female?'},\n",
              "    {'answers': [{'answer_start': 141, 'text': \"Saint Mary's College\"}],\n",
              "     'id': '573393e1d058e614000b5dc3',\n",
              "     'question': 'With what institute did Notre Dame agree to an exchange program in the 1960s?'}]},\n",
              "  {'context': \"In the 18 years under the presidency of Edward Malloy, C.S.C., (1987–2005), there was a rapid growth in the school's reputation, faculty, and resources. He increased the faculty by more than 500 professors; the academic quality of the student body has improved dramatically, with the average SAT score rising from 1240 to 1360; the number of minority students more than doubled; the endowment grew from $350 million to more than $3 billion; the annual operating budget rose from $177 million to more than $650 million; and annual research funding improved from $15 million to more than $70 million. Notre Dame's most recent[when?] capital campaign raised $1.1 billion, far exceeding its goal of $767 million, and is the largest in the history of Catholic higher education.\",\n",
              "   'qas': [{'answers': [{'answer_start': 64, 'text': '1987–2005'}],\n",
              "     'id': '573394c84776f41900660ddd',\n",
              "     'question': 'During what years was Edward Malloy president of Notre Dame?'},\n",
              "    {'answers': [{'answer_start': 314, 'text': '1240'}],\n",
              "     'id': '573394c84776f41900660ddf',\n",
              "     'question': 'What was the SAT score, on average, at Notre Dame when Edward Malloy became president?'},\n",
              "    {'answers': [{'answer_start': 403, 'text': '$350 million'}],\n",
              "     'id': '573394c84776f41900660de0',\n",
              "     'question': 'When Malloy became president of Notre Dame what was the size of the endowment?'},\n",
              "    {'answers': [{'answer_start': 576, 'text': 'more than $70 million'}],\n",
              "     'id': '573394c84776f41900660de1',\n",
              "     'question': 'When Malloy reached the end of his time as president how much annuals funding for research did Notre Dame have?'},\n",
              "    {'answers': [{'answer_start': 191, 'text': '500'}],\n",
              "     'id': '573394c84776f41900660dde',\n",
              "     'question': 'The amount of professors at Notre Dame increased by what amount under Malloy?'}]},\n",
              "  {'context': 'Since 2005, Notre Dame has been led by John I. Jenkins, C.S.C., the 17th president of the university. Jenkins took over the position from Malloy on July 1, 2005. In his inaugural address, Jenkins described his goals of making the university a leader in research that recognizes ethics and building the connection between faith and studies. During his tenure, Notre Dame has increased its endowment, enlarged its student body, and undergone many construction projects on campus, including Compton Family Ice Arena, a new architecture hall, additional residence halls, and the Campus Crossroads, a $400m enhancement and expansion of Notre Dame Stadium.',\n",
              "   'qas': [{'answers': [{'answer_start': 6, 'text': '2005'}],\n",
              "     'id': '5733974d4776f41900660e17',\n",
              "     'question': 'When did John Jenkins become the president of Notre Dame?'},\n",
              "    {'answers': [{'answer_start': 68, 'text': '17th'}],\n",
              "     'id': '5733974d4776f41900660e18',\n",
              "     'question': 'In terms of the amount of presidents Notre Dame has had, where is John Jenkins on the list?'},\n",
              "    {'answers': [{'answer_start': 138, 'text': 'Malloy'}],\n",
              "     'id': '5733974d4776f41900660e19',\n",
              "     'question': 'Who was the Notre Dame president that preceded John Jenkins?'},\n",
              "    {'answers': [{'answer_start': 488, 'text': 'Compton Family Ice Arena'}],\n",
              "     'id': '5733974d4776f41900660e1a',\n",
              "     'question': 'Which arena was constructed under Jenkins at Notre Dame?'},\n",
              "    {'answers': [{'answer_start': 596, 'text': '$400m'}],\n",
              "     'id': '5733974d4776f41900660e1b',\n",
              "     'question': 'How much money was spent on enhancing Notre Dame Stadium under John Jenkins?'}]},\n",
              "  {'context': \"Because of its Catholic identity, a number of religious buildings stand on campus. The Old College building has become one of two seminaries on campus run by the Congregation of Holy Cross. The current Basilica of the Sacred Heart is located on the spot of Fr. Sorin's original church, which became too small for the growing college. It is built in French Revival style and it is decorated by stained glass windows imported directly from France. The interior was painted by Luigi Gregori, an Italian painter invited by Fr. Sorin to be artist in residence. The Basilica also features a bell tower with a carillon. Inside the church there are also sculptures by Ivan Mestrovic. The Grotto of Our Lady of Lourdes, which was built in 1896, is a replica of the original in Lourdes, France. It is very popular among students and alumni as a place of prayer and meditation, and it is considered one of the most beloved spots on campus.\",\n",
              "   'qas': [{'answers': [{'answer_start': 162,\n",
              "       'text': 'Congregation of Holy Cross'}],\n",
              "     'id': '573398164776f41900660e21',\n",
              "     'question': 'Which congregation is in charge of the Old College at Notre Dame?'},\n",
              "    {'answers': [{'answer_start': 202,\n",
              "       'text': 'Basilica of the Sacred Heart'}],\n",
              "     'id': '573398164776f41900660e22',\n",
              "     'question': 'What structure is found on the location of the original church of Father Sorin at Notre Dame?'},\n",
              "    {'answers': [{'answer_start': 349, 'text': 'French Revival'}],\n",
              "     'id': '573398164776f41900660e23',\n",
              "     'question': 'In which architectural style is the Basilica of the Sacred Heart at Notre Dame made?'},\n",
              "    {'answers': [{'answer_start': 474, 'text': 'Luigi Gregori'}],\n",
              "     'id': '573398164776f41900660e24',\n",
              "     'question': 'Which individual painted the inside of the Basilica of the Sacred Heart at Notre Dame?'},\n",
              "    {'answers': [{'answer_start': 730, 'text': '1896'}],\n",
              "     'id': '573398164776f41900660e25',\n",
              "     'question': 'In what year was the Grotto of Our Lady of Lourdes at Notre Dame constructed?'}]},\n",
              "  {'context': 'A Science Hall was built in 1883 under the direction of Fr. Zahm, but in 1950 it was converted to a student union building and named LaFortune Center, after Joseph LaFortune, an oil executive from Tulsa, Oklahoma. Commonly known as \"LaFortune\" or \"LaFun,\" it is a 4-story building of 83,000 square feet that provides the Notre Dame community with a meeting place for social, recreational, cultural, and educational activities. LaFortune employs 35 part-time student staff and 29 full-time non-student staff and has an annual budget of $1.2 million. Many businesses, services, and divisions of The Office of Student Affairs are found within. The building also houses restaurants from national restaurant chains.',\n",
              "   'qas': [{'answers': [{'answer_start': 56, 'text': 'Fr. Zahm'}],\n",
              "     'id': '573398ebd058e614000b5e66',\n",
              "     'question': 'Which person oversaw the creation of a science hall at Notre Dame in 1883?'},\n",
              "    {'answers': [{'answer_start': 73, 'text': '1950'}],\n",
              "     'id': '573398ebd058e614000b5e67',\n",
              "     'question': 'In what year did the student union building at Notre Dame get renamed to LaFortune Center?'},\n",
              "    {'answers': [{'answer_start': 157, 'text': 'Joseph LaFortune'}],\n",
              "     'id': '573398ebd058e614000b5e68',\n",
              "     'question': 'After which individual was the LaFortune Center Notre Dame named?'},\n",
              "    {'answers': [{'answer_start': 284, 'text': '83,000 square feet'}],\n",
              "     'id': '573398ebd058e614000b5e69',\n",
              "     'question': 'How large in square feet is the LaFortune Center at Notre Dame?'},\n",
              "    {'answers': [{'answer_start': 535, 'text': '$1.2 million'}],\n",
              "     'id': '573398ebd058e614000b5e6a',\n",
              "     'question': \"What is the annual budget of Notre Dame's LaFortune Center?\"}]},\n",
              "  {'context': \"Since the construction of its oldest buildings, the university's physical plant has grown substantially. Over the years 29 residence halls have been built to accommodate students and each has been constructed with its own chapel. Many academic building were added together with a system of libraries, the most prominent of which is the Theodore Hesburgh Library, built in 1963 and today containing almost 4 million books. Since 2004, several buildings have been added, including the DeBartolo Performing Arts Center, the Guglielmino Complex, and the Jordan Hall of Science. Additionally, a new residence for men, Duncan Hall, was begun on March 8, 2007, and began accepting residents for the Fall 2008 semester. Ryan Hall was completed and began housing undergraduate women in the fall of 2009. A new engineering building, Stinson-Remick Hall, a new combination Center for Social Concerns/Institute for Church Life building, Geddes Hall, and a law school addition have recently been completed as well. Additionally the new hockey arena opened in the fall of 2011. The Stayer Center for Executive Education, which houses the Mendoza College of Business Executive Education Department opened in March 2013 just South of the Mendoza College of Business building. Because of its long athletic tradition, the university features also many building dedicated to sport. The most famous is Notre Dame Stadium, home of the Fighting Irish football team; it has been renovated several times and today it can hold more than 80 thousand people. Prominent venues include also the Edmund P. Joyce Center, with indoor basketball and volleyball courts, and the Compton Family Ice Arena, a two-rink facility dedicated to hockey. Also, there are many outdoor fields, as the Frank Eck Stadium for baseball.\",\n",
              "   'qas': [{'answers': [{'answer_start': 120, 'text': '29'}],\n",
              "     'id': '57339a5bd058e614000b5e91',\n",
              "     'question': 'How many halls are at Notre Dame that house students?'},\n",
              "    {'answers': [{'answer_start': 336, 'text': 'Theodore Hesburgh Library'}],\n",
              "     'id': '57339a5bd058e614000b5e92',\n",
              "     'question': 'Which library was built at Notre Dame in 1963?'},\n",
              "    {'answers': [{'answer_start': 398, 'text': 'almost 4 million'}],\n",
              "     'id': '57339a5bd058e614000b5e93',\n",
              "     'question': 'How many books are housed at the Theodore Hesburgh Library?'},\n",
              "    {'answers': [{'answer_start': 613, 'text': 'Duncan Hall'}],\n",
              "     'id': '57339a5bd058e614000b5e94',\n",
              "     'question': 'Construction for which hall started on March 8th 2007 at Notre Dame?'},\n",
              "    {'answers': [{'answer_start': 1755, 'text': 'Frank Eck Stadium'}],\n",
              "     'id': '57339a5bd058e614000b5e95',\n",
              "     'question': 'Which baseball stadium is found at Notre Dame?'}]},\n",
              "  {'context': 'The University of Notre Dame has made being a sustainability leader an integral part of its mission, creating the Office of Sustainability in 2008 to achieve a number of goals in the areas of power generation, design and construction, waste reduction, procurement, food services, transportation, and water.As of 2012[update] four building construction projects were pursuing LEED-Certified status and three were pursuing LEED Silver. Notre Dame\\'s dining services sources 40% of its food locally and offers sustainably caught seafood as well as many organic, fair-trade, and vegan options. On the Sustainable Endowments Institute\\'s College Sustainability Report Card 2010, University of Notre Dame received a \"B\" grade. The university also houses the Kroc Institute for International Peace Studies. Father Gustavo Gutierrez, the founder of Liberation Theology is a current faculty member.',\n",
              "   'qas': [{'answers': [{'answer_start': 142, 'text': '2008'}],\n",
              "     'id': '57339b36d058e614000b5ea3',\n",
              "     'question': 'In what year did Notre Dame create the Office of Sustainability?'},\n",
              "    {'answers': [{'answer_start': 471, 'text': '40%'}],\n",
              "     'id': '57339b36d058e614000b5ea4',\n",
              "     'question': 'What percentage of the food served at Notre Dame is locally grown?'},\n",
              "    {'answers': [{'answer_start': 596,\n",
              "       'text': 'Sustainable Endowments Institute'}],\n",
              "     'id': '57339b36d058e614000b5ea5',\n",
              "     'question': 'Notre Dame got a \"B\" for its sustainability practices from which entity?'},\n",
              "    {'answers': [{'answer_start': 750,\n",
              "       'text': 'Kroc Institute for International Peace Studies'}],\n",
              "     'id': '57339b36d058e614000b5ea6',\n",
              "     'question': 'Gustavo Gutierrez is faculty of which institute?'}]},\n",
              "  {'context': 'The university owns several centers around the world used for international studies and research, conferences abroad, and alumni support. The university has had a presence in London, England, since 1968. Since 1998, its London center has been based in the former United University Club at 1 Suffolk Street in Trafalgar Square. The center enables the Colleges of Arts & Letters, Business Administration, Science, Engineering and the Law School to develop their own programs in London, as well as hosting conferences and symposia. Other Global Gateways are located in Beijing, Chicago, Dublin, Jerusalem and Rome.',\n",
              "   'qas': [{'answers': [{'answer_start': 198, 'text': '1968'}],\n",
              "     'id': '57339c184776f41900660ea5',\n",
              "     'question': 'In what year did Notre Dame first have a facility in England?'},\n",
              "    {'answers': [{'answer_start': 289,\n",
              "       'text': '1 Suffolk Street in Trafalgar Square'}],\n",
              "     'id': '57339c184776f41900660ea6',\n",
              "     'question': 'At which location is the London Center operated by Notre Dame found?'},\n",
              "    {'answers': [{'answer_start': 535, 'text': 'Global Gateways'}],\n",
              "     'id': '57339c184776f41900660ea7',\n",
              "     'question': 'Notre Dame has a center in Beijing, what is it referred to as?'},\n",
              "    {'answers': [{'answer_start': 210, 'text': '1998'}],\n",
              "     'id': '57339c184776f41900660ea8',\n",
              "     'question': 'In what year did the Suffolk Street location start to house a Notre Dame facility?'}]},\n",
              "  {'context': \"The College of Arts and Letters was established as the university's first college in 1842 with the first degrees given in 1849. The university's first academic curriculum was modeled after the Jesuit Ratio Studiorum from Saint Louis University. Today the college, housed in O'Shaughnessy Hall, includes 20 departments in the areas of fine arts, humanities, and social sciences, and awards Bachelor of Arts (B.A.) degrees in 33 majors, making it the largest of the university's colleges. There are around 2,500 undergraduates and 750 graduates enrolled in the college.\",\n",
              "   'qas': [{'answers': [{'answer_start': 0,\n",
              "       'text': 'The College of Arts and Letters'}],\n",
              "     'id': '5733a3cbd058e614000b5f3f',\n",
              "     'question': \"What was Notre Dame's first college?\"},\n",
              "    {'answers': [{'answer_start': 85, 'text': '1842'}],\n",
              "     'id': '5733a3cbd058e614000b5f40',\n",
              "     'question': 'In what year was the The College of Arts and Letters at Notre Dame created?'},\n",
              "    {'answers': [{'answer_start': 122, 'text': '1849'}],\n",
              "     'id': '5733a3cbd058e614000b5f41',\n",
              "     'question': 'In what year did the College of Arts and Letters at Notre Dame grant its first degree?'},\n",
              "    {'answers': [{'answer_start': 221, 'text': 'Saint Louis University'}],\n",
              "     'id': '5733a3cbd058e614000b5f42',\n",
              "     'question': 'On which university did Notre Dame base its curriculum on?'},\n",
              "    {'answers': [{'answer_start': 424, 'text': '33'}],\n",
              "     'id': '5733a3cbd058e614000b5f43',\n",
              "     'question': 'How many BA majors does the College of Arts and Letters at Notre Dame offer?'}]},\n",
              "  {'context': \"The College of Science was established at the university in 1865 by president Father Patrick Dillon. Dillon's scientific courses were six years of work, including higher-level mathematics courses. Today the college, housed in the newly built Jordan Hall of Science, includes over 1,200 undergraduates in six departments of study – biology, chemistry, mathematics, physics, pre-professional studies, and applied and computational mathematics and statistics (ACMS) – each awarding Bachelor of Science (B.S.) degrees. According to university statistics, its science pre-professional program has one of the highest acceptance rates to medical school of any university in the United States.\",\n",
              "   'qas': [{'answers': [{'answer_start': 78, 'text': 'Father Patrick Dillon'}],\n",
              "     'id': '5733a4c54776f41900660f2d',\n",
              "     'question': 'Which president at Notre Dame created the College of Science?'},\n",
              "    {'answers': [{'answer_start': 60, 'text': '1865'}],\n",
              "     'id': '5733a4c54776f41900660f2e',\n",
              "     'question': 'In what year was the Notre Dame College of Science formed?'},\n",
              "    {'answers': [{'answer_start': 134, 'text': 'six years'}],\n",
              "     'id': '5733a4c54776f41900660f2f',\n",
              "     'question': 'How many years long was a scientific course under Patrick Dillon at Notre Dame?'},\n",
              "    {'answers': [{'answer_start': 242, 'text': 'Jordan Hall of Science'}],\n",
              "     'id': '5733a4c54776f41900660f30',\n",
              "     'question': 'Which hall at Notre Dame contains the current College of Science?'},\n",
              "    {'answers': [{'answer_start': 275, 'text': 'over 1,200'}],\n",
              "     'id': '5733a4c54776f41900660f31',\n",
              "     'question': 'How many undergrad students attend the College of Science at Notre Dame today?'}]},\n",
              "  {'context': 'The School of Architecture was established in 1899, although degrees in architecture were first awarded by the university in 1898. Today the school, housed in Bond Hall, offers a five-year undergraduate program leading to the Bachelor of Architecture degree. All undergraduate students study the third year of the program in Rome. The university is globally recognized for its Notre Dame School of Architecture, a faculty that teaches (pre-modernist) traditional and classical architecture and urban planning (e.g. following the principles of New Urbanism and New Classical Architecture). It also awards the renowned annual Driehaus Architecture Prize.',\n",
              "   'qas': [{'answers': [{'answer_start': 4, 'text': 'School of Architecture'}],\n",
              "     'id': '5733a55a4776f41900660f3a',\n",
              "     'question': 'In 1899 Notre Dame formed which college?'},\n",
              "    {'answers': [{'answer_start': 159, 'text': 'Bond Hall'}],\n",
              "     'id': '5733a55a4776f41900660f3b',\n",
              "     'question': 'In what building is the current School of Architecture housed at Notre Dame?'},\n",
              "    {'answers': [{'answer_start': 179, 'text': 'five-year'}],\n",
              "     'id': '5733a55a4776f41900660f3c',\n",
              "     'question': 'What length is the course of study at the Notre Dame School of Architecture?'},\n",
              "    {'answers': [{'answer_start': 325, 'text': 'Rome'}],\n",
              "     'id': '5733a55a4776f41900660f3d',\n",
              "     'question': 'In which location do students of the School of Architecture of Notre Dame spend their 3rd year?'},\n",
              "    {'answers': [{'answer_start': 624, 'text': 'Driehaus Architecture Prize'}],\n",
              "     'id': '5733a55a4776f41900660f3e',\n",
              "     'question': 'Which prestigious prize does the School of Architecture at Notre Dame give out?'}]},\n",
              "  {'context': \"The library system also includes branch libraries for Architecture, Chemistry & Physics, Engineering, Law, and Mathematics as well as information centers in the Mendoza College of Business, the Kellogg Institute for International Studies, the Joan B. Kroc Institute for International Peace Studies, and a slide library in O'Shaughnessy Hall. A theology library was also opened in fall of 2015. Located on the first floor of Stanford Hall, it is the first branch of the library system to be housed in a dorm room. The library system holds over three million volumes, was the single largest university library in the world upon its completion, and remains one of the 100 largest libraries in the country.\",\n",
              "   'qas': [{'answers': [{'answer_start': 388, 'text': '2015'}],\n",
              "     'id': '5733adb64776f41900661001',\n",
              "     'question': 'In what year did the opening of a theology library at Notre Dame occur?'},\n",
              "    {'answers': [{'answer_start': 405,\n",
              "       'text': 'the first floor of Stanford Hall'}],\n",
              "     'id': '5733adb64776f41900661002',\n",
              "     'question': 'Where is the theology library at Notre Dame?'},\n",
              "    {'answers': [{'answer_start': 538, 'text': 'over three million volumes'}],\n",
              "     'id': '5733adb64776f41900661003',\n",
              "     'question': 'How many books are held by the Notre Dame libraries?'},\n",
              "    {'answers': [{'answer_start': 654, 'text': 'one of the 100 largest'}],\n",
              "     'id': '5733adb64776f41900661004',\n",
              "     'question': \"Currently where does Notre Dame's library rank in the nation?\"}]},\n",
              "  {'context': \"The rise of Hitler and other dictators in the 1930s forced numerous Catholic intellectuals to flee Europe; president John O'Hara brought many to Notre Dame. From Germany came Anton-Hermann Chroust (1907–1982) in classics and law, and Waldemar Gurian a German Catholic intellectual of Jewish descent. Positivism dominated American intellectual life in the 1920s onward but in marked contrast, Gurian received a German Catholic education and wrote his doctoral dissertation under Max Scheler. Ivan Meštrović (1883–1962), a renowned sculptor, brought Croatian culture to campus, 1955–62. Yves Simon (1903–61), brought to ND in the 1940s the insights of French studies in the Aristotelian-Thomistic tradition of philosophy; his own teacher Jacques Maritain (1882–73) was a frequent visitor to campus.\",\n",
              "   'qas': [{'answers': [{'answer_start': 0,\n",
              "       'text': 'The rise of Hitler and other dictators'}],\n",
              "     'id': '5733b496d058e614000b60ce',\n",
              "     'question': 'What caused many intellectual Catholics to leave europe in the 1930s?'},\n",
              "    {'answers': [{'answer_start': 162, 'text': 'Germany'}],\n",
              "     'id': '5733b496d058e614000b60cf',\n",
              "     'question': 'From where did Anton-Hermann Chroust come to reach Notre Dame?'},\n",
              "    {'answers': [{'answer_start': 212, 'text': 'classics and law'}],\n",
              "     'id': '5733b496d058e614000b60d0',\n",
              "     'question': 'What field of study did Anton-Hermann Chroust specialize in?'},\n",
              "    {'answers': [{'answer_start': 478, 'text': 'Max Scheler'}],\n",
              "     'id': '5733b496d058e614000b60d1',\n",
              "     'question': 'Who did Waldemar Gurian receive his tutelage under while seeking his doctorate?'},\n",
              "    {'answers': [{'answer_start': 519, 'text': 'a renowned sculptor'}],\n",
              "     'id': '5733b496d058e614000b60d2',\n",
              "     'question': 'What was Ivan Meštrović known for being?'}]},\n",
              "  {'context': 'The University of Notre Dame du Lac (or simply Notre Dame /ˌnoʊtərˈdeɪm/ NOH-tər-DAYM) is a Catholic research university located adjacent to South Bend, Indiana, in the United States. In French, Notre Dame du Lac means \"Our Lady of the Lake\" and refers to the university\\'s patron saint, the Virgin Mary. The main campus covers 1,250 acres in a suburban setting and it contains a number of recognizable landmarks, such as the Golden Dome, the \"Word of Life\" mural (commonly known as Touchdown Jesus), and the Basilica.',\n",
              "   'qas': [{'answers': [{'answer_start': 4,\n",
              "       'text': 'University of Notre Dame du'}],\n",
              "     'id': '573382a14776f41900660c2d',\n",
              "     'question': 'The school known as Notre Dame is known by a more lengthy name, what is it?'},\n",
              "    {'answers': [{'answer_start': 92, 'text': 'Catholic research university'}],\n",
              "     'id': '573382a14776f41900660c2e',\n",
              "     'question': 'What type of institution is the Notre Dame?'},\n",
              "    {'answers': [{'answer_start': 220, 'text': 'Our Lady of the Lake'}],\n",
              "     'id': '573382a14776f41900660c2f',\n",
              "     'question': 'The French words Notre Dame du Lac translate to what in English?'},\n",
              "    {'answers': [{'answer_start': 287, 'text': 'the Virgin Mary'}],\n",
              "     'id': '573382a14776f41900660c30',\n",
              "     'question': 'Who is the patron saint of Notre Dame?'},\n",
              "    {'answers': [{'answer_start': 327, 'text': '1,250'}],\n",
              "     'id': '573382a14776f41900660c31',\n",
              "     'question': 'How large is Notre Dame in acres?'}]},\n",
              "  {'context': \"Notre Dame rose to national prominence in the early 1900s for its Fighting Irish football team, especially under the guidance of the legendary coach Knute Rockne. The university's athletic teams are members of the NCAA Division I and are known collectively as the Fighting Irish. The football team, an Independent, has accumulated eleven consensus national championships, seven Heisman Trophy winners, 62 members in the College Football Hall of Fame and 13 members in the Pro Football Hall of Fame and is considered one of the most famed and successful college football teams in history. Other ND teams, chiefly in the Atlantic Coast Conference, have accumulated 16 national championships. The Notre Dame Victory March is often regarded as the most famous and recognizable collegiate fight song.\",\n",
              "   'qas': [{'answers': [{'answer_start': 62,\n",
              "       'text': 'its Fighting Irish football team'}],\n",
              "     'id': '573383494776f41900660c41',\n",
              "     'question': 'What caused Notre Dame to become notable in the early 20th century?'},\n",
              "    {'answers': [{'answer_start': 149, 'text': 'Knute Rockne'}],\n",
              "     'id': '573383494776f41900660c42',\n",
              "     'question': 'Which 20th century Notre Dame football coach is most notable?'},\n",
              "    {'answers': [{'answer_start': 214, 'text': 'NCAA Division I'}],\n",
              "     'id': '573383494776f41900660c43',\n",
              "     'question': 'Which athletic association are the student athletes at Notre Dame a part of?'},\n",
              "    {'answers': [{'answer_start': 372, 'text': 'seven'}],\n",
              "     'id': '573383494776f41900660c44',\n",
              "     'question': 'How many students at Notre Dame received the Heisman Trophy?'},\n",
              "    {'answers': [{'answer_start': 454, 'text': '13'}],\n",
              "     'id': '573383494776f41900660c45',\n",
              "     'question': 'There were multiple students from Notre Dame who entered the Pro Football Hall of Fame, how many?'}]},\n",
              "  {'context': \"Besides its prominence in sports, Notre Dame is also a large, four-year, highly residential research University, and is consistently ranked among the top twenty universities in the United States  and as a major global university. The undergraduate component of the university is organized into four colleges (Arts and Letters, Science, Engineering, Business) and the Architecture School. The latter is known for teaching New Classical Architecture and for awarding the globally renowned annual Driehaus Architecture Prize. Notre Dame's graduate program has more than 50 master's, doctoral and professional degree programs offered by the five schools, with the addition of the Notre Dame Law School and a MD-PhD program offered in combination with IU medical School. It maintains a system of libraries, cultural venues, artistic and scientific museums, including Hesburgh Library and the Snite Museum of Art. Over 80% of the university's 8,000 undergraduates live on campus in one of 29 single-sex residence halls, each with its own traditions, legacies, events and intramural sports teams. The university counts approximately 120,000 alumni, considered among the strongest alumni networks among U.S. colleges.\",\n",
              "   'qas': [{'answers': [{'answer_start': 140, 'text': 'among the top twenty'}],\n",
              "     'id': '573383e94776f41900660c5a',\n",
              "     'question': 'Where among US universities does Notre Dame rank?'},\n",
              "    {'answers': [{'answer_start': 294, 'text': 'four'}],\n",
              "     'id': '573383e94776f41900660c5b',\n",
              "     'question': 'How many individual colleges are part of Notre Dame?'},\n",
              "    {'answers': [{'answer_start': 494, 'text': 'Driehaus Architecture Prize'}],\n",
              "     'id': '573383e94776f41900660c5c',\n",
              "     'question': 'Which prize does the Architecture School at Notre Dame give out?'},\n",
              "    {'answers': [{'answer_start': 557, 'text': 'more than 50'}],\n",
              "     'id': '573383e94776f41900660c5d',\n",
              "     'question': 'How many doctorate and masters programs are available at Notre Dame?'},\n",
              "    {'answers': [{'answer_start': 887, 'text': 'Snite Museum of Art'}],\n",
              "     'id': '573383e94776f41900660c5e',\n",
              "     'question': 'Which art museum does Notre Dame administer?'}]},\n",
              "  {'context': \"In 1842, the Bishop of Vincennes, Célestine Guynemer de la Hailandière, offered land to Father Edward Sorin of the Congregation of the Holy Cross, on the condition that he build a college in two years. Fr. Sorin arrived on the site with eight Holy Cross brothers from France and Ireland on November 26, 1842, and began the school using Father Stephen Badin's old log chapel. He soon erected additional buildings, including Old College, the first church, and the first main building. They immediately acquired two students and set about building additions to the campus.\",\n",
              "   'qas': [{'answers': [{'answer_start': 3, 'text': '1842'}],\n",
              "     'id': '5733849bd058e614000b5c56',\n",
              "     'question': 'In what year was Father Edward Sorin given two years to create a college?'},\n",
              "    {'answers': [{'answer_start': 34,\n",
              "       'text': 'Célestine Guynemer de la Hailandière'}],\n",
              "     'id': '5733849bd058e614000b5c57',\n",
              "     'question': 'Which individual offered land to Father Edward Sorin?'},\n",
              "    {'answers': [{'answer_start': 111,\n",
              "       'text': 'the Congregation of the Holy Cross'}],\n",
              "     'id': '5733849bd058e614000b5c58',\n",
              "     'question': 'Which church was Father Edward Sorin representing?'},\n",
              "    {'answers': [{'answer_start': 290, 'text': 'November 26, 1842'}],\n",
              "     'id': '5733849bd058e614000b5c59',\n",
              "     'question': 'On what date did brothers from Holy Cross arrive at the future location of Notre Dame?'},\n",
              "    {'answers': [{'answer_start': 336,\n",
              "       'text': \"Father Stephen Badin's old log chapel\"}],\n",
              "     'id': '5733849bd058e614000b5c5a',\n",
              "     'question': 'Which structure was the first used for the purposes of the college?'}]},\n",
              "  {'context': 'The first degrees from the college were awarded in 1849. The university was expanded with new buildings to accommodate more students and faculty. With each new president, new academic programs were offered and new buildings built to accommodate them. The original Main Building built by Sorin just after he arrived was replaced by a larger \"Main Building\" in 1865, which housed the university\\'s administration, classrooms, and dormitories. Beginning in 1873, a library collection was started by Father Lemonnier. By 1879 it had grown to ten thousand volumes that were housed in the Main Building.',\n",
              "   'qas': [{'answers': [{'answer_start': 51, 'text': '1849'}],\n",
              "     'id': '573385394776f41900660c7f',\n",
              "     'question': 'In what year did the initial degrees get handed out at Notre Dame?'},\n",
              "    {'answers': [{'answer_start': 359, 'text': '1865'}],\n",
              "     'id': '573385394776f41900660c80',\n",
              "     'question': 'In what year did the original Sorin built Main Building get replaced?'},\n",
              "    {'answers': [{'answer_start': 495, 'text': 'Father Lemonnier'}],\n",
              "     'id': '573385394776f41900660c81',\n",
              "     'question': 'Which individual began a library at Notre Dame?'},\n",
              "    {'answers': [{'answer_start': 516, 'text': '1879'}],\n",
              "     'id': '573385394776f41900660c82',\n",
              "     'question': 'In what year had the library at Notre Dame reach 10,000 books?'},\n",
              "    {'answers': [{'answer_start': 453, 'text': '1873'}],\n",
              "     'id': '573385394776f41900660c83',\n",
              "     'question': 'In what year was the library at Notre Dame started?'}]},\n",
              "  {'context': 'The television station, NDtv, grew from one show in 2002 to a full 24-hour channel with original programming by September 2006. WSND-FM serves the student body and larger South Bend community at 88.9 FM, offering students a chance to become involved in bringing classical music, fine arts and educational programming, and alternative rock to the airwaves. Another radio station, WVFI, began as a partner of WSND-FM. More recently, however, WVFI has been airing independently and is streamed on the Internet.',\n",
              "   'qas': [{'answers': [{'answer_start': 24, 'text': 'NDtv'}],\n",
              "     'id': '5733c0064776f41900661198',\n",
              "     'question': 'Which television station finds its home at Notre Dame?'},\n",
              "    {'answers': [{'answer_start': 40, 'text': 'one show'}],\n",
              "     'id': '5733c0064776f41900661199',\n",
              "     'question': 'How many programs did NDtv feature in 2002?'},\n",
              "    {'answers': [{'answer_start': 128, 'text': 'WSND-FM'}],\n",
              "     'id': '5733c0064776f4190066119a',\n",
              "     'question': 'Which radio station provides radio to the students of Notre Dame at 88.9 FM?'},\n",
              "    {'answers': [{'answer_start': 440, 'text': 'WVFI'}],\n",
              "     'id': '5733c0064776f4190066119b',\n",
              "     'question': 'Which internet radio station of Notre Dame is served as an internet stream?'}]},\n",
              "  {'context': 'The first phase of Eddy Street Commons, a $215 million development located adjacent to the University of Notre Dame campus and funded by the university, broke ground on June 3, 2008. The Eddy Street Commons drew union protests when workers hired by the City of South Bend to construct the public parking garage picketed the private work site after a contractor hired non-union workers. The developer, Kite Realty out of Indianapolis, has made agreements with major national chains rather than local businesses, a move that has led to criticism from alumni and students.',\n",
              "   'qas': [{'answers': [{'answer_start': 42, 'text': '$215 million'}],\n",
              "     'id': '5733c0e6d058e614000b61d7',\n",
              "     'question': 'How much is Eddy Street Commons at Notre Dame expected to cost?'},\n",
              "    {'answers': [{'answer_start': 169, 'text': 'June 3, 2008'}],\n",
              "     'id': '5733c0e6d058e614000b61d8',\n",
              "     'question': 'When was ground broke on the Eddy Street Commons Project of Notre Dame?'},\n",
              "    {'answers': [{'answer_start': 401, 'text': 'Kite Realty'}],\n",
              "     'id': '5733c0e6d058e614000b61d9',\n",
              "     'question': 'Who is the developer of Eddy Street Commons?'},\n",
              "    {'answers': [{'answer_start': 249, 'text': 'the City of South Bend'}],\n",
              "     'id': '5733c0e6d058e614000b61da',\n",
              "     'question': 'Which entity did Notre Dame hire to build a parking structure outside of Eddy Street Commons?'},\n",
              "    {'answers': [{'answer_start': 367, 'text': 'non-union workers'}],\n",
              "     'id': '5733c0e6d058e614000b61db',\n",
              "     'question': 'There were protested as a part of the construction at Eddy Street Commons, they came due tot he hiring of whom?'}]},\n",
              "  {'context': \"Notre Dame teams are known as the Fighting Irish. They compete as a member of the National Collegiate Athletic Association (NCAA) Division I, primarily competing in the Atlantic Coast Conference (ACC) for all sports since the 2013–14 school year. The Fighting Irish previously competed in the Horizon League from 1982-83 to 1985-86, and again from 1987-88 to 1994-95, and then in the Big East Conference through 2012–13. Men's sports include baseball, basketball, crew, cross country, fencing, football, golf, ice hockey, lacrosse, soccer, swimming & diving, tennis and track & field; while women's sports include basketball, cross country, fencing, golf, lacrosse, rowing, soccer, softball, swimming & diving, tennis, track & field and volleyball. The football team competes as an Football Bowl Subdivision (FBS) Independent since its inception in 1887. Both fencing teams compete in the Midwest Fencing Conference, and the men's ice hockey team competes in Hockey East.\",\n",
              "   'qas': [{'answers': [{'answer_start': 82,\n",
              "       'text': 'National Collegiate Athletic Association'}],\n",
              "     'id': '5733c1a94776f419006611a6',\n",
              "     'question': 'What does the acronym NCAA stand for?'},\n",
              "    {'answers': [{'answer_start': 293, 'text': 'Horizon League'}],\n",
              "     'id': '5733c1a94776f419006611a7',\n",
              "     'question': 'Which league did Notre Dame Fighting Irish teams participate in in 1982?'},\n",
              "    {'answers': [{'answer_start': 889, 'text': 'Midwest Fencing Conference'}],\n",
              "     'id': '5733c1a94776f419006611a8',\n",
              "     'question': 'What when conference do the Notre Dame fencing teams take part in?'},\n",
              "    {'answers': [{'answer_start': 959, 'text': 'Hockey East'}],\n",
              "     'id': '5733c1a94776f419006611a9',\n",
              "     'question': 'There is a conference that the male hockey team of Notre Dame competes in, what is it?'},\n",
              "    {'answers': [{'answer_start': 384, 'text': 'Big East Conference'}],\n",
              "     'id': '5733c1a94776f419006611aa',\n",
              "     'question': 'In what conference did the Fighting Irish take part in in 2012?'}]},\n",
              "  {'context': \"Notre Dame's conference affiliations for all of its sports except football and fencing changed in July 2013 as a result of major conference realignment, and its fencing affiliation will change in July 2014. The Irish left the Big East for the ACC during a prolonged period of instability in the Big East; while they maintain their football independence, they have committed to play five games per season against ACC opponents. In ice hockey, the Irish were forced to find a new conference home after the Big Ten Conference's decision to add the sport in 2013–14 led to a cascade of conference moves that culminated in the dissolution of the school's former hockey home, the Central Collegiate Hockey Association, after the 2012–13 season. Notre Dame moved its hockey team to Hockey East. After Notre Dame joined the ACC, the conference announced it would add fencing as a sponsored sport beginning in the 2014–15 school year. There are many theories behind the adoption of the athletics moniker but it is known that the Fighting Irish name was used in the early 1920s with respect to the football team and was popularized by alumnus Francis Wallace in his New York Daily News columns. The official colors of Notre Dame are Navy Blue and Gold Rush which are worn in competition by its athletic teams. In addition, the color green is often worn because of the Fighting Irish nickname. The Notre Dame Leprechaun is the mascot of the athletic teams. Created by Theodore W. Drake in 1964, the leprechaun was first used on the football pocket schedule and later on the football program covers. The leprechaun was featured on the cover of Time in November 1964 and gained national exposure.\",\n",
              "   'qas': [{'answers': [{'answer_start': 239, 'text': 'the ACC'}],\n",
              "     'id': '5733c29c4776f419006611b8',\n",
              "     'question': 'To what conference did the Fighting Irish go after the Big East?'},\n",
              "    {'answers': [{'answer_start': 382, 'text': 'five'}],\n",
              "     'id': '5733c29c4776f419006611b9',\n",
              "     'question': 'How many teams in each season do the Fighting Irish commit to play against ACC opponents?'},\n",
              "    {'answers': [{'answer_start': 674,\n",
              "       'text': 'Central Collegiate Hockey Association'}],\n",
              "     'id': '5733c29c4776f419006611ba',\n",
              "     'question': 'Where did the Fighting Irish hockey team compete prior to a move to Hockey East, in terms of conference?'},\n",
              "    {'answers': [{'answer_start': 1223, 'text': 'Navy Blue and Gold Rush'}],\n",
              "     'id': '5733c29c4776f419006611bb',\n",
              "     'question': 'What colors are the official ones used by Notre Dame in sport competition?'},\n",
              "    {'answers': [{'answer_start': 1398, 'text': 'Leprechaun'}],\n",
              "     'id': '5733c29c4776f419006611bc',\n",
              "     'question': 'What type of mascot do the Notre Dame sport teams have?'}]},\n",
              "  {'context': 'On July 1, 2014, the University of Notre Dame and Under Armour reached an agreement in which Under Armour will provide uniforms, apparel,equipment, and monetary compensation to Notre Dame for 10 years. This contract, worth almost $100 million, is the most lucrative in the history of the NCAA. The university marching band plays at home games for most of the sports. The band, which began in 1846 and has a claim as the oldest university band in continuous existence in the United States, was honored by the National Music Council as a \"Landmark of American Music\" during the United States Bicentennial. The band regularly plays the school\\'s fight song the Notre Dame Victory March, which was named as the most played and most famous fight song by Northern Illinois Professor William Studwell. According to College Fight Songs: An Annotated Anthology published in 1998, the \"Notre Dame Victory March\" ranks as the greatest fight song of all time.',\n",
              "   'qas': [{'answers': [{'answer_start': 50, 'text': 'Under Armour'}],\n",
              "     'id': '5733c3184776f419006611c2',\n",
              "     'question': 'Who currently provides uniforms to Notre Dame sport teams?'},\n",
              "    {'answers': [{'answer_start': 223, 'text': 'almost $100 million'}],\n",
              "     'id': '5733c3184776f419006611c3',\n",
              "     'question': 'What is the value of the contract between Under Armour and Notre Dame?'},\n",
              "    {'answers': [{'answer_start': 392, 'text': '1846'}],\n",
              "     'id': '5733c3184776f419006611c4',\n",
              "     'question': 'When did the Notre Dame marching band form?'},\n",
              "    {'answers': [{'answer_start': 420,\n",
              "       'text': 'oldest university band in continuous existence in the United States'}],\n",
              "     'id': '5733c3184776f419006611c5',\n",
              "     'question': 'What is notable about the Notre Dame marching band?'},\n",
              "    {'answers': [{'answer_start': 657, 'text': 'Notre Dame Victory March'}],\n",
              "     'id': '5733c3184776f419006611c6',\n",
              "     'question': 'What is the Notre Dame fight song?'}]},\n",
              "  {'context': 'The Notre Dame football team has a long history, first beginning when the Michigan Wolverines football team brought football to Notre Dame in 1887 and played against a group of students. In the long history since then, 13 Fighting Irish teams have won consensus national championships (although the university only claims 11), along with another nine teams being named national champion by at least one source. Additionally, the program has the most members in the College Football Hall of Fame, is tied with Ohio State University with the most Heisman Trophies won, and have the highest winning percentage in NCAA history. With the long history, Notre Dame has accumulated many rivals, and its annual game against USC for the Jeweled Shillelagh has been named by some as one of the most important in college football and is often called the greatest intersectional rivalry in college football in the country.',\n",
              "   'qas': [{'answers': [{'answer_start': 74,\n",
              "       'text': 'Michigan Wolverines football team'}],\n",
              "     'id': '5733c4494776f419006611da',\n",
              "     'question': \"Which team did Notre Dame's football team find inspiration from?\"},\n",
              "    {'answers': [{'answer_start': 142, 'text': '1887'}],\n",
              "     'id': '5733c4494776f419006611db',\n",
              "     'question': 'In what year did Notre Dame football begin?'},\n",
              "    {'answers': [{'answer_start': 509, 'text': 'Ohio State University'}],\n",
              "     'id': '5733c4494776f419006611dc',\n",
              "     'question': 'What university is Notre Dame tied with in terms of most Heisman Trophy winners?'},\n",
              "    {'answers': [{'answer_start': 715, 'text': 'USC'}],\n",
              "     'id': '5733c4494776f419006611dd',\n",
              "     'question': 'Against which team does Notre Dame compete for the Jeweled Shillelagh?'},\n",
              "    {'answers': [{'answer_start': 441, 'text': 'the most'}],\n",
              "     'id': '5733c4494776f419006611de',\n",
              "     'question': 'In terms of Notre Dame students in the College Football Hall of Fame the amount of students named is what ?'}]},\n",
              "  {'context': 'George Gipp was the school\\'s legendary football player during 1916–20. He played semiprofessional baseball and smoked, drank, and gambled when not playing sports. He was also humble, generous to the needy, and a man of integrity. It was in 1928 that famed coach Knute Rockne used his final conversation with the dying Gipp to inspire the Notre Dame team to beat the Army team and \"win one for the Gipper.\" The 1940 film, Knute Rockne, All American, starred Pat O\\'Brien as Knute Rockne and Ronald Reagan as Gipp. Today the team competes in Notre Dame Stadium, an 80,795-seat stadium on campus. The current head coach is Brian Kelly, hired from the University of Cincinnati on December 11, 2009. Kelly\\'s record in midway through his sixth season at Notre Dame is 52–21. In 2012, Kelly\\'s Fighting Irish squad went undefeated and played in the BCS National Championship Game. Kelly succeeded Charlie Weis, who was fired in November 2009 after five seasons. Although Weis led his team to two Bowl Championship Series bowl games, his overall record was 35–27, mediocre by Notre Dame standards, and the 2007 team had the most losses in school history. The football team generates enough revenue to operate independently while $22.1 million is retained from the team\\'s profits for academic use. Forbes named the team as the most valuable in college football, worth a total of $101 million in 2007.',\n",
              "   'qas': [{'answers': [{'answer_start': 0, 'text': 'George Gipp'}],\n",
              "     'id': '5733c743d058e614000b622d',\n",
              "     'question': 'What notable football player played at Notre Dame from 1916 to 1920?'},\n",
              "    {'answers': [{'answer_start': 362, 'text': 'the Army team'}],\n",
              "     'id': '5733c743d058e614000b622e',\n",
              "     'question': 'Against which opponent did Knute Rockne tell his team to \"win one for the Gipper?\"'},\n",
              "    {'answers': [{'answer_start': 457, 'text': \"Pat O'Brien\"}],\n",
              "     'id': '5733c743d058e614000b622f',\n",
              "     'question': 'Which person portrayed Knute Rockne in the 1940 movie \"Knute Rockne?\"'},\n",
              "    {'answers': [{'answer_start': 506, 'text': 'Gipp'}],\n",
              "     'id': '5733c743d058e614000b6230',\n",
              "     'question': 'Ronald Reagan played the role of whom in 1940\\'s \"Knute Rockne?\"'},\n",
              "    {'answers': [{'answer_start': 562, 'text': '80,795'}],\n",
              "     'id': '5733c743d058e614000b6231',\n",
              "     'question': 'How many seats are in Notre Dame Stadium?'}]},\n",
              "  {'context': \"Football gameday traditions During home games, activities occur all around campus and different dorms decorate their halls with a traditional item (e.g. Zahm House's two-story banner). Traditional activities begin at the stroke of midnight with the Drummers' Circle. This tradition involves the drum line of the Band of the Fighting Irish and ushers in the rest of the festivities that will continue the rest of the gameday Saturday. Later that day, the trumpet section will play the Notre Dame Victory March and the Notre Dame Alma Mater under the dome. The band entire will play a concert at the steps of Bond Hall, from where they will march into Notre Dame Stadium, leading fans and students alike across campus to the game.\",\n",
              "   'qas': [{'answers': [{'answer_start': 166, 'text': 'two-story banner'}],\n",
              "     'id': '5733ca05d058e614000b6263',\n",
              "     'question': 'What is displayed at Zahm House for football home games at Notre Dame?'},\n",
              "    {'answers': [{'answer_start': 245, 'text': \"the Drummers' Circle\"}],\n",
              "     'id': '5733ca05d058e614000b6264',\n",
              "     'question': 'What occurs at midnight preceding a football home game at Notre Dame?'},\n",
              "    {'answers': [{'answer_start': 594, 'text': 'the steps of Bond Hall'}],\n",
              "     'id': '5733ca05d058e614000b6265',\n",
              "     'question': 'From where does the Band of the Fighting Irish lead a march to the Notre Dame Stadium for football home games?'},\n",
              "    {'answers': [{'answer_start': 480,\n",
              "       'text': 'the Notre Dame Victory March and the Notre Dame Alma Mater'}],\n",
              "     'id': '5733ca05d058e614000b6266',\n",
              "     'question': 'What songs does the trumpet section of the Band of the Fighting Irish play preceding home football games?'},\n",
              "    {'answers': [{'answer_start': 424, 'text': 'Saturday'}],\n",
              "     'id': '5733ca05d058e614000b6267',\n",
              "     'question': 'On what day do Notre Dame home football games occur?'}]},\n",
              "  {'context': \"The men's basketball team has over 1,600 wins, one of only 12 schools who have reached that mark, and have appeared in 28 NCAA tournaments. Former player Austin Carr holds the record for most points scored in a single game of the tournament with 61. Although the team has never won the NCAA Tournament, they were named by the Helms Athletic Foundation as national champions twice. The team has orchestrated a number of upsets of number one ranked teams, the most notable of which was ending UCLA's record 88-game winning streak in 1974. The team has beaten an additional eight number-one teams, and those nine wins rank second, to UCLA's 10, all-time in wins against the top team. The team plays in newly renovated Purcell Pavilion (within the Edmund P. Joyce Center), which reopened for the beginning of the 2009–2010 season. The team is coached by Mike Brey, who, as of the 2014–15 season, his fifteenth at Notre Dame, has achieved a 332-165 record. In 2009 they were invited to the NIT, where they advanced to the semifinals but were beaten by Penn State who went on and beat Baylor in the championship. The 2010–11 team concluded its regular season ranked number seven in the country, with a record of 25–5, Brey's fifth straight 20-win season, and a second-place finish in the Big East. During the 2014-15 season, the team went 32-6 and won the ACC conference tournament, later advancing to the Elite 8, where the Fighting Irish lost on a missed buzzer-beater against then undefeated Kentucky. Led by NBA draft picks Jerian Grant and Pat Connaughton, the Fighting Irish beat the eventual national champion Duke Blue Devils twice during the season. The 32 wins were the most by the Fighting Irish team since 1908-09.\",\n",
              "   'qas': [{'answers': [{'answer_start': 30, 'text': 'over 1,600'}],\n",
              "     'id': '5733caf74776f4190066124c',\n",
              "     'question': \"How many wins does the Notre Dame men's basketball team have?\"},\n",
              "    {'answers': [{'answer_start': 59, 'text': '12'}],\n",
              "     'id': '5733caf74776f4190066124d',\n",
              "     'question': \"How many schools have a similar men's basketball record to Notre Dame in terms of wins?\"},\n",
              "    {'answers': [{'answer_start': 119, 'text': '28'}],\n",
              "     'id': '5733caf74776f4190066124e',\n",
              "     'question': \"How many NCAA tournaments did the Notre Dame men's basketball team take part in?\"},\n",
              "    {'answers': [{'answer_start': 154, 'text': 'Austin Carr'}],\n",
              "     'id': '5733caf74776f4190066124f',\n",
              "     'question': \"Which Notre Dame men's basketball player has the record for more points in one game?\"},\n",
              "    {'answers': [{'answer_start': 850, 'text': 'Mike Brey'}],\n",
              "     'id': '5733caf74776f41900661250',\n",
              "     'question': \"Who was the Notre Dame men's basketball coach in 2014?\"}]},\n",
              "  {'context': 'The \"Notre Dame Victory March\" is the fight song for the University of Notre Dame. It was written by two brothers who were Notre Dame graduates. The Rev. Michael J. Shea, a 1904 graduate, wrote the music, and his brother, John F. Shea, who earned degrees in 1906 and 1908, wrote the original lyrics. The lyrics were revised in the 1920s; it first appeared under the copyright of the University of Notre Dame in 1928. The chorus is, \"Cheer cheer for old Notre Dame, wake up the echos cheering her name. Send a volley cheer on high, shake down the thunder from the sky! What though the odds be great or small, old Notre Dame will win over all. While her loyal sons are marching, onward to victory!\"',\n",
              "   'qas': [{'answers': [{'answer_start': 222, 'text': 'John F. Shea'}],\n",
              "     'id': '5733cbdad058e614000b628d',\n",
              "     'question': 'Who wrote the original lyrics to the Notre Dame Victory March?'},\n",
              "    {'answers': [{'answer_start': 173, 'text': '1904'}],\n",
              "     'id': '5733cbdad058e614000b628e',\n",
              "     'question': 'In what year did Michael J. Shea graduate from Notre Dame?'},\n",
              "    {'answers': [{'answer_start': 149, 'text': 'Rev. Michael J. Shea'}],\n",
              "     'id': '5733cbdad058e614000b628f',\n",
              "     'question': 'Who is responsible for writing the music for \"Notre Dame Victory March?\"'},\n",
              "    {'answers': [{'answer_start': 411, 'text': '1928'}],\n",
              "     'id': '5733cbdad058e614000b6290',\n",
              "     'question': 'In what year did \"Notre Dame Victory March\" get copyrighted?'},\n",
              "    {'answers': [{'answer_start': 677, 'text': 'onward to victory'}],\n",
              "     'id': '5733cbdad058e614000b6291',\n",
              "     'question': 'To where are the loyal sons in \"Notre Dame Fight Song\" marching?'}]},\n",
              "  {'context': 'In the film Knute Rockne, All American, Knute Rockne (played by Pat O\\'Brien) delivers the famous \"Win one for the Gipper\" speech, at which point the background music swells with the \"Notre Dame Victory March\". George Gipp was played by Ronald Reagan, whose nickname \"The Gipper\" was derived from this role. This scene was parodied in the movie Airplane! with the same background music, only this time honoring George Zipp, one of Ted Striker\\'s former comrades. The song also was prominent in the movie Rudy, with Sean Astin as Daniel \"Rudy\" Ruettiger, who harbored dreams of playing football at the University of Notre Dame despite significant obstacles.',\n",
              "   'qas': [{'answers': [{'answer_start': 267, 'text': 'The Gipper'}],\n",
              "     'id': '5733ccbe4776f41900661270',\n",
              "     'question': 'Ronald Reagan had a nickname, what was it?'},\n",
              "    {'answers': [{'answer_start': 344, 'text': 'Airplane!'}],\n",
              "     'id': '5733ccbe4776f41900661271',\n",
              "     'question': 'In what film did a parody of the \"Win one for the Gipper\" speech appear?'},\n",
              "    {'answers': [{'answer_start': 513, 'text': 'Sean Astin'}],\n",
              "     'id': '5733ccbe4776f41900661272',\n",
              "     'question': 'Who starred as Daniel Ruettiger in the film Rudy?'},\n",
              "    {'answers': [{'answer_start': 410, 'text': 'George Zipp'}],\n",
              "     'id': '5733ccbe4776f41900661273',\n",
              "     'question': 'Which person was a former comrade to Ted Striker in the film Airplane!?'},\n",
              "    {'answers': [{'answer_start': 40, 'text': 'Knute Rockne'}],\n",
              "     'id': '5733ccbe4776f41900661274',\n",
              "     'question': \"Pat O'Brien portrayed which person in the film Knute Rockne?\"}]},\n",
              "  {'context': \"Notre Dame alumni work in various fields. Alumni working in political fields include state governors, members of the United States Congress, and former United States Secretary of State Condoleezza Rice. A notable alumnus of the College of Science is Medicine Nobel Prize winner Eric F. Wieschaus. A number of university heads are alumni, including Notre Dame's current president, the Rev. John Jenkins. Additionally, many alumni are in the media, including talk show hosts Regis Philbin and Phil Donahue, and television and radio personalities such as Mike Golic and Hannah Storm. With the university having high profile sports teams itself, a number of alumni went on to become involved in athletics outside the university, including professional baseball, basketball, football, and ice hockey players, such as Joe Theismann, Joe Montana, Tim Brown, Ross Browner, Rocket Ismail, Ruth Riley, Jeff Samardzija, Jerome Bettis, Brett Lebda, Olympic gold medalist Mariel Zagunis, professional boxer Mike Lee, former football coaches such as Charlie Weis, Frank Leahy and Knute Rockne, and Basketball Hall of Famers Austin Carr and Adrian Dantley. Other notable alumni include prominent businessman Edward J. DeBartolo, Jr. and astronaut Jim Wetherbee.\",\n",
              "   'qas': [{'answers': [{'answer_start': 185, 'text': 'Condoleezza Rice'}],\n",
              "     'id': '5733cd504776f4190066128e',\n",
              "     'question': 'Which Secretary of State attended Notre Dame?'},\n",
              "    {'answers': [{'answer_start': 278, 'text': 'Eric F. Wieschaus'}],\n",
              "     'id': '5733cd504776f4190066128f',\n",
              "     'question': 'Which Notre Dame alum from the College of Science won a Nobel Prize?'},\n",
              "    {'answers': [{'answer_start': 384, 'text': 'Rev. John Jenkins'}],\n",
              "     'id': '5733cd504776f41900661290',\n",
              "     'question': 'Who is the current president of Notre Dame?'},\n",
              "    {'answers': [{'answer_start': 937, 'text': 'Olympic gold'}],\n",
              "     'id': '5733cd504776f41900661291',\n",
              "     'question': 'Mariel Zagunis is notable for winning what?'},\n",
              "    {'answers': [{'answer_start': 1232, 'text': 'Jim Wetherbee'}],\n",
              "     'id': '5733cd504776f41900661292',\n",
              "     'question': 'Which notable astronaut is known to have attended Notre Dame?'}]}],\n",
              " 'title': 'University_of_Notre_Dame'}"
            ]
          },
          "metadata": {
            "tags": []
          },
          "execution_count": 35
        }
      ]
    },
    {
      "cell_type": "code",
      "metadata": {
        "id": "beYcV313_qF_"
      },
      "source": [
        "context_char_test,context_word_test,query_char_test,query_word_test,ans_start_test, ans_end_test=[],[],[],[],[],[]\n",
        "c,q = input_data[3]\n",
        "context_char_test.append(torch.LongTensor(char_contexts[c]))\n",
        "context_word_test.append(torch.LongTensor(word_contexts[c]))\n",
        "query_char_test.append(torch.LongTensor(char_questions[q]))\n",
        "query_word_test.append(torch.LongTensor(word_questions[q]))\n",
        "start_test,end_test = answers[q][0]\n",
        "ans_start_test.append(start_test)\n",
        "ans_end_test.append(end_test)\n",
        "context_char_test = torch.LongTensor(nn.utils.rnn.pad_sequence(context_char_test,batch_first=True))\n",
        "context_word_test = torch.LongTensor(nn.utils.rnn.pad_sequence(context_word_test,batch_first=True))\n",
        "query_char_test = torch.LongTensor(nn.utils.rnn.pad_sequence(query_char_test,batch_first=True))\n",
        "query_word_test = torch.LongTensor(nn.utils.rnn.pad_sequence(query_word_test,batch_first=True))\n",
        "context_char_test,context_word_test,query_char_test,query_word_test= context_char_test.to(device),context_word_test.to(device),query_char_test.to(device),query_word_test.to(device)"
      ],
      "execution_count": null,
      "outputs": []
    },
    {
      "cell_type": "code",
      "metadata": {
        "colab": {
          "base_uri": "https://localhost:8080/"
        },
        "id": "nc_5pohcASTG",
        "outputId": "0424bbc1-26b3-4c98-a0d6-249fda22f463"
      },
      "source": [
        "start,end = bidaf(context_char_test,context_word_test,query_char_test,query_word_test)\n",
        "torch.argmax(start),torch.argmax(end)"
      ],
      "execution_count": null,
      "outputs": [
        {
          "output_type": "execute_result",
          "data": {
            "text/plain": [
              "(tensor(76, device='cuda:0'), tensor(82, device='cuda:0'))"
            ]
          },
          "metadata": {
            "tags": []
          },
          "execution_count": 65
        }
      ]
    },
    {
      "cell_type": "code",
      "metadata": {
        "colab": {
          "base_uri": "https://localhost:8080/"
        },
        "id": "Tze-zr1ELigC",
        "outputId": "9fed7bcb-7f9a-42a2-c9fc-612c150ee091"
      },
      "source": [
        "ans_start_test, ans_end_test"
      ],
      "execution_count": null,
      "outputs": [
        {
          "output_type": "execute_result",
          "data": {
            "text/plain": [
              "([76], [82])"
            ]
          },
          "metadata": {
            "tags": []
          },
          "execution_count": 66
        }
      ]
    },
    {
      "cell_type": "code",
      "metadata": {
        "id": "P2xIHpPIMZq6"
      },
      "source": [
        ""
      ],
      "execution_count": null,
      "outputs": []
    }
  ]
}